{
 "cells": [
  {
   "cell_type": "code",
   "execution_count": 26,
   "metadata": {},
   "outputs": [],
   "source": [
    "def dcf(flow, lisRates, periods): \n",
    "    \n",
    "    terminal = flow\n",
    "    \n",
    "    for i in range(len(periods)):\n",
    "        \n",
    "        terminal = terminal/(1+lisRates[i])\n",
    "        \n",
    "    return terminal \n",
    "\n",
    "\n"
   ]
  },
  {
   "cell_type": "code",
   "execution_count": 6,
   "metadata": {},
   "outputs": [
    {
     "data": {
      "text/plain": [
       "85.56881872245754"
      ]
     },
     "execution_count": 6,
     "metadata": {},
     "output_type": "execute_result"
    }
   ],
   "source": [
    "dcf(100,[0.05,0.06,0.05], [\"1\",\"2\",\"3\"])"
   ]
  },
  {
   "cell_type": "code",
   "execution_count": 23,
   "metadata": {},
   "outputs": [],
   "source": [
    "def dcfCompound(flows, lisRates, periods, stripPeriods): \n",
    "    \n",
    "    terminal = []\n",
    "    \n",
    "    dcf = 0 \n",
    "    \n",
    "    for i in range(len(flows)):\n",
    "        \n",
    "        terminal.append(flows[i])\n",
    "        samplePeriod = stripPeriods[i]\n",
    "        \n",
    "        \n",
    "        for d in range(samplePeriod): \n",
    "        \n",
    "            terminal[i] = terminal[i]/(1+lisRates[d])\n",
    "        \n",
    "        \n",
    "    for elem in terminal:\n",
    "        \n",
    "        dcf += elem \n",
    "        \n",
    "        \n",
    "    print(terminal)    \n",
    "        \n",
    "    return dcf \n",
    "\n"
   ]
  },
  {
   "cell_type": "code",
   "execution_count": 27,
   "metadata": {},
   "outputs": [
    {
     "data": {
      "text/plain": [
       "76.2645443159158"
      ]
     },
     "execution_count": 27,
     "metadata": {},
     "output_type": "execute_result"
    }
   ],
   "source": [
    "dcf(100,[0.1,0.05,0.06,0.05,0.02],[\"1\",\"2\",\"3\",\"4\",\"5\"])"
   ]
  },
  {
   "cell_type": "code",
   "execution_count": 24,
   "metadata": {},
   "outputs": [
    {
     "name": "stdout",
     "output_type": "stream",
     "text": [
      "[8.658008658008656, 3.889491760111705, 76.2645443159158]\n"
     ]
    },
    {
     "data": {
      "text/plain": [
       "88.81204473403616"
      ]
     },
     "execution_count": 24,
     "metadata": {},
     "output_type": "execute_result"
    }
   ],
   "source": [
    "dcfCompound([10,5,100],[0.1,0.05,0.06,0.05,0.02],[\"1\",\"2\",\"3\",\"4\",\"5\"],[2,4,5])"
   ]
  },
  {
   "cell_type": "markdown",
   "metadata": {},
   "source": [
    "Let's know try to model it to include rate time-series with date-time indeces: "
   ]
  },
  {
   "cell_type": "code",
   "execution_count": 28,
   "metadata": {},
   "outputs": [],
   "source": [
    "import datetime as dt \n",
    "import pandas as pd \n",
    "import numpy as np \n",
    "import os "
   ]
  },
  {
   "cell_type": "code",
   "execution_count": 29,
   "metadata": {},
   "outputs": [
    {
     "data": {
      "text/plain": [
       "a    1\n",
       "b    2\n",
       "c    3\n",
       "dtype: int64"
      ]
     },
     "execution_count": 29,
     "metadata": {},
     "output_type": "execute_result"
    }
   ],
   "source": [
    "pd.Series([1,2,3], [\"a\",\"b\",\"c\"])"
   ]
  },
  {
   "cell_type": "code",
   "execution_count": 36,
   "metadata": {},
   "outputs": [
    {
     "data": {
      "text/plain": [
       "DatetimeIndex(['2020-01-05', '2020-01-08', '2020-01-10'], dtype='datetime64[ns]', freq=None)"
      ]
     },
     "execution_count": 36,
     "metadata": {},
     "output_type": "execute_result"
    }
   ],
   "source": [
    "d = pd.Series([1,2,3], index = [\"2020-01-05\", \"2020-01-08\", \"2020-01-10\"])\n",
    "\n"
   ]
  },
  {
   "cell_type": "code",
   "execution_count": 85,
   "metadata": {},
   "outputs": [],
   "source": [
    "def dcfExt(flows, lisRates, stripPeriods): \n",
    "    \n",
    "    \"\"\"\n",
    "    dcfCompound gets future cash flows of bond, a list of rates, number of periods for discounting and a sequence of\n",
    "    payment periods\n",
    "    \n",
    "    \"\"\"\n",
    "    #Here I make some usefule converions\n",
    "    \n",
    "    rates = np.array(lisRates)\n",
    "    periods  = pd.to_datetime(lisRates.index) #tool to convert index of strings into a datetime obj\n",
    "    \n",
    "    strip = [dt.datetime.strptime(stripPeriods[i], \"%Y-%m-%d\") for i in range(len(stripPeriods))] #List comprehension to convert strings\n",
    "    \n",
    "    \n",
    "    terminal = [] #Empty list initialization \n",
    "    \n",
    "    dcf = 0 #Final value of bond according to DCF method initilization \n",
    "    \n",
    "    \n",
    "    for i in range(len(flows)):\n",
    "        \n",
    "        terminal.append(flows[i]) #We fill during the loop the list with flows values which will \n",
    "                                  # be discounted \n",
    "        \n",
    "        sampleDelta = ((strip[i] - periods[0]).days)  # This value represent the time to payment of each flow \n",
    "                                       # in this case it's an integer representing the time distance\n",
    "        \n",
    "        \n",
    "        for d in range(sampleDelta): \n",
    "        \n",
    "            terminal[i] = terminal[i]/((1+rates[d])**(1/365)) #It gets discounted for corresponding rate \n",
    "                                                      # period (in this case year) by period\n",
    "        \n",
    "        \n",
    "    for elem in terminal:\n",
    "        \n",
    "        dcf += elem \n",
    "        \n",
    "        \n",
    "    print(terminal)    \n",
    "        \n",
    "    return dcf "
   ]
  },
  {
   "cell_type": "code",
   "execution_count": 86,
   "metadata": {},
   "outputs": [
    {
     "data": {
      "text/plain": [
       "Index(['2020-01-01', '2020-01-02', '2020-01-03', '2020-01-04', '2020-01-05'], dtype='object')"
      ]
     },
     "execution_count": 86,
     "metadata": {},
     "output_type": "execute_result"
    }
   ],
   "source": [
    "rateSer = pd.Series([0.01,0.02,0.01,0.04,0.03], index = [\"2020-01-01\",\"2020-01-02\",\"2020-01-03\",\"2020-01-04\",\"2020-01-05\"])\n",
    "rateSer.index"
   ]
  },
  {
   "cell_type": "code",
   "execution_count": 87,
   "metadata": {},
   "outputs": [],
   "source": [
    "flows = [3,2, 10]"
   ]
  },
  {
   "cell_type": "code",
   "execution_count": 88,
   "metadata": {},
   "outputs": [],
   "source": [
    "stripPeriods = [\"2020-01-01\",\"2020-01-02\", \"2020-01-05\"]"
   ]
  },
  {
   "cell_type": "code",
   "execution_count": 89,
   "metadata": {},
   "outputs": [
    {
     "name": "stdout",
     "output_type": "stream",
     "text": [
      "[3, 1.999945478382326, 9.9978379323316]\n"
     ]
    },
    {
     "data": {
      "text/plain": [
       "14.997783410713925"
      ]
     },
     "execution_count": 89,
     "metadata": {},
     "output_type": "execute_result"
    }
   ],
   "source": [
    "dcfExt(flows,rateSer,stripPeriods)"
   ]
  }
 ],
 "metadata": {
  "kernelspec": {
   "display_name": "Python 3",
   "language": "python",
   "name": "python3"
  },
  "language_info": {
   "codemirror_mode": {
    "name": "ipython",
    "version": 3
   },
   "file_extension": ".py",
   "mimetype": "text/x-python",
   "name": "python",
   "nbconvert_exporter": "python",
   "pygments_lexer": "ipython3",
   "version": "3.7.4"
  }
 },
 "nbformat": 4,
 "nbformat_minor": 2
}
