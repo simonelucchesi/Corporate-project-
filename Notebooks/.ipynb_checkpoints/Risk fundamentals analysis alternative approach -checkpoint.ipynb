{
 "cells": [
  {
   "cell_type": "markdown",
   "metadata": {},
   "source": [
    "# Workfile n°2: DCF method - determinants of risk: alternative approach. "
   ]
  },
  {
   "cell_type": "markdown",
   "metadata": {},
   "source": [
    "**Contributors**  \n",
    " _Lucchesi Simone Luca_  \n",
    " _Gianmarco Cavaliere_"
   ]
  },
  {
   "cell_type": "markdown",
   "metadata": {},
   "source": [
    "**Preliminary imports for our purposes** "
   ]
  },
  {
   "cell_type": "code",
   "execution_count": 1,
   "metadata": {},
   "outputs": [],
   "source": [
    "import numpy as np \n",
    "import pandas as pd \n",
    "import os \n",
    "import matplotlib.pyplot as plt \n",
    "from scipy import stats #this module is needed for geometric mean computations (and not only!)\n",
    "%matplotlib inline"
   ]
  },
  {
   "cell_type": "code",
   "execution_count": 2,
   "metadata": {},
   "outputs": [],
   "source": [
    "#Utility function\n",
    "\n",
    "def removeFile(fileName):\n",
    "    \"\"\"\n",
    "    removeFile(fileName) function remove file 'fileName', if it exists. It also prints on screen a success/failure message.\n",
    "    \n",
    "    Parameters:\n",
    "        fileName (str): name of the file ('Data' folder is assumed)\n",
    "        \n",
    "    Returns:\n",
    "        None\n",
    "    \"\"\"\n",
    "\n",
    "    if os.path.isfile(os.path.join(dataPath, fileName)):\n",
    "        os.remove(os.path.join(dataPath, fileName))\n",
    "\n",
    "        # double-check if file still exists\n",
    "        fileStillExists = os.path.isfile(os.path.join(dataPath, fileName))\n",
    "\n",
    "        if fileStillExists:\n",
    "            print(\"Failure: file {} still exists...\".format(fileName))\n",
    "        else:\n",
    "            print(\"Success: file {} successfully removed!\".format(fileName))\n",
    "            \n",
    "    else:\n",
    "        print(\"File {} already removed.\".format(fileName))"
   ]
  },
  {
   "cell_type": "markdown",
   "metadata": {},
   "source": [
    "## Summary"
   ]
  },
  {
   "cell_type": "markdown",
   "metadata": {},
   "source": [
    "- [0)](#intro) Brief introduction \n",
    "\n",
    "- [1)](#1) First component of risk: risk-free rate  \n",
    "\n",
    "    - [1.1)](#1.1) Preliminary imports\n",
    "    - [1.2)](#1.2) Basic plotting and analytics  \n",
    "    \n",
    "- [2)](#2) Second component of risk: market risk premium \n",
    "    - [2.1)](#2.1) Historical premiums approach and country risk component\n",
    "    - [2.2)](#2.2) Our assumptions and analytics \n",
    "    - [2.3)](#2.3) Final results: German Risk premium and Italian Risk Premium\n",
    "    \n",
    "- [3)](#3) Third component of risk: Beta \n",
    "    - [3.1)](#3.1) Historical market betas: use of regression analysis across time series.\n",
    "    - [3.2)](#3.2) Bottom-up Beta: use of fundamentals\n",
    "    \n",
    "- [4)](#4) From cost of equity to cost of capital \n",
    "    - [4.1)](#4.1) Cost of debt according to firm ratings \n",
    "    - [4.2)](#4.2) A2A bond's yield to maturity: a relevant indicator of its cost of debt. \n",
    "    \n",
    "    - [4.3)](#4.3) Cost of debt net of taxes: marginal tax rate vs effective tax rate.\n",
    "    "
   ]
  },
  {
   "cell_type": "markdown",
   "metadata": {},
   "source": [
    "### Brief introduction <a name=\"intro\"></a>"
   ]
  },
  {
   "cell_type": "markdown",
   "metadata": {},
   "source": [
    "In this section we will analyse how to determine a consistent way of measuring risk in firms. \n",
    "\n",
    "Risk refers to the likelihood we (as investors) will receive a return on a given investment that is different from the expected one. \n",
    "\n",
    "In terms of equity valuation, according to DCF approach, _cost of equity_ is a key ingredient, but it's an implicit cost and can vary across different investors. \n",
    "\n",
    "We will focus on a precise _risk and return model_ the _CAPM_. \n",
    "\n",
    "**Steps involved** \n",
    "\n",
    "1) We will define risk in terms of the distribution of actual returns around an expected return. \n",
    "\n",
    "They may be very different from the expected one and this difference will yield risk. The spread is measured by the _variance_ (or std). \n",
    "\n",
    "2) We make a diversification between diversifiable and non diversifiable risk. \n",
    "\n",
    "In fact, there is firm specific risk (project risk, competitive risk and even sector risk): it affects only a subset of entire firms. \n",
    "\n",
    "And market risk: a kind that affects many if not all investments (i.g. an in increase in interest rates). \n",
    "\n",
    "Expanding our investment portfolio allows us to diversify it, to reduce the exposure of firm specific risk. In fact, in this way every component will have in percentage a smaller impact on overall return. \n",
    "\n",
    "Furthermore, the effects of this kind of risk could be positive or negative: in very large portfolio its average impact will tend to zero. \n",
    "\n",
    "In contrast, the effects of market wide movements are likely to be in the same directions. \n",
    "\n",
    "3) Assume we are marginal investors. \n",
    "\n",
    "The model look at risk through the eyes of the marginal investor: a well diversified agent; the only risk he cares is the risk addesd on to a diversified portfolio, the market risk. \n",
    "\n",
    "\n"
   ]
  },
  {
   "cell_type": "markdown",
   "metadata": {},
   "source": [
    "**Capital asset pricing model: outlines** \n",
    "\n",
    "There are different models for measuring market risk, we will use the capital asset pricing model. \n",
    "\n",
    "_Key assumptions_ : there are no transaction costs and investors have no access to private information (which would allow them to find over and under -valued stocks). This assumes away the reasosn why investors stop diversifying: in this way it ensures investors will keep diversifying until they hold a piece of every traded asset (the market portfolio) and will differ only in terms of how much their wealth they invest in this. \n",
    "\n",
    "It follow that the risk of any asset becomes the risk that it adds to the market portfolio: if an asset tends to be correlated with market portfolio in movements (not independent) it will add risk to the market portfolio. \n",
    "\n",
    "Statistically, we can measure the risk added by an asset by its covariance with that portfolio: if we standardize this percentage value by dividing with variance of the market portfolio (of the average asset) we will obtain the **Beta**. \n",
    "\n",
    "\n",
    "\n",
    "$\\beta_{t}$ = $\\frac{Cov_{i,m}}{\\sigma^2_{m}}$\n",
    "\n",
    "- Beta represents sintetically the exposure of an asset to all market risk: for example the riskless asset will have beta of 0 (it should have zero variance, actual returns equal to expected ones) \n",
    "\n",
    "\n",
    "Obviously does it at a cost: making very restrictive assumptions. \n",
    "\n",
    "All the risk models (CAPM, APM and other multi-factor models) assume that only market risk is rewarded deriving the expected return as a function of measures of this risk. \n",
    "In fact, the difference between a \"simple\" CAPM and an APM is given by the fact that in the latter more than one (market) risk sources are assumed (so-called _risk factos_) allowing the analysed asset to have different exposures (betas). \n",
    "\n",
    "**Pros** In general, the CAPM (against APM and multi-factor models) has the advantage of being a simpler model to estimate, but it will under perform the richer APM when an investment is sensitive to economic factors not well represented in the market index. \n",
    "\n",
    "\n"
   ]
  },
  {
   "cell_type": "markdown",
   "metadata": {},
   "source": [
    "According to _CAPM_ the cost of equity is given by the following formula:\n",
    "\n",
    "$E(r_{i})$ = $r_{f}$ +  $\\beta_{i}$ $ \\times$ $(M_{rp})$ \n",
    "\n",
    "As we can see three are the \"risk\" component to be estimated:\n",
    "\n",
    "1) $r_{f}$: _risk free rate_ \n",
    "\n",
    "2) $M_{rp}$: _market risk premium_ \n",
    "\n",
    "3) $\\beta_{i}$: _asset beta_. "
   ]
  },
  {
   "cell_type": "markdown",
   "metadata": {},
   "source": [
    "---"
   ]
  },
  {
   "cell_type": "markdown",
   "metadata": {},
   "source": [
    "### First component of risk: risk-free rate <a name=\"1\"></a>"
   ]
  },
  {
   "cell_type": "markdown",
   "metadata": {},
   "source": [
    "The expected returns on risky investments are measured relative to the risk free rate, with the risk creating an expected premium added as remuneration factor. \n",
    "\n",
    "**Risk-free rate components** \n",
    "\n",
    "We can define it as the asset of which the investor knows the expected return with certainty (i.e. to have an actual return equal to the expected one). \n",
    "\n",
    "For an investment to be risk-free two conditions have to be met: \n",
    "\n",
    "- There has to be no default risk \n",
    "\n",
    "- There can be no uncertainty about reinvestment rates: no intermediate cash flows. \n",
    "\n",
    "Therefore, we must orient towards a government bond (default risk free) no paying cash flows (zero coupon bond). \n",
    "\n",
    "According to the _consistency principle_ the risk free rate should be measured consistently with how the cash flows are measured: if the cash flows are nominal the same should be the risk free rate. \n",
    "\n",
    "Under conditions of unstable inflation valuation is often done in real terms: cash flows estimated using real growth rates (withoud allowing for the growth that comes from price inflation). In this cases the discount rates should be expressed in real terms as well. \n"
   ]
  },
  {
   "cell_type": "markdown",
   "metadata": {},
   "source": [
    "**Our assumptions** \n",
    "\n",
    "1) According to the fact we try to estimate cash flows in nominal terms (euro as currency) we will use nominal risk free rates as well. \n",
    "\n",
    "2) We make our computations according internal rate of returns provided by default free entities: Countries: Sweden, Switzerland, Germany, \n",
    "Corporates: Microsoft, \n",
    "All bonds with time to maturity of (approximately) ten years and whose IRR computed at 31/12/2019. \n",
    "\n",
    "3) Once obtained them we will compute an arithmetic average risk free rate. \n",
    "\n",
    "4) Coronavirus and drop in official rates notwithstanding we won't consider this facts in our computation. We will differ coronavirus effect in our forecasts' assumptions.  "
   ]
  },
  {
   "cell_type": "markdown",
   "metadata": {},
   "source": [
    "--- "
   ]
  },
  {
   "cell_type": "markdown",
   "metadata": {},
   "source": [
    "#### Risk free rate: basic plotting and analytics <a name=\"1.1\"></a>"
   ]
  },
  {
   "cell_type": "markdown",
   "metadata": {},
   "source": [
    "Let's store in a cross section risk free rates obtained from triple AAA firms: \n"
   ]
  },
  {
   "cell_type": "markdown",
   "metadata": {},
   "source": [
    "This **result** is the **first** key element of _cost of equity_ computation. "
   ]
  },
  {
   "cell_type": "markdown",
   "metadata": {},
   "source": [
    "---"
   ]
  },
  {
   "cell_type": "markdown",
   "metadata": {},
   "source": [
    "### Second component of risk: market risk premium <a name=\"2\"></a>"
   ]
  },
  {
   "cell_type": "markdown",
   "metadata": {},
   "source": [
    "### What is it? \n",
    "\n",
    "The risk premium measures the extra return that would be demanded by investors for shifting from riskless investments to an average risk investment. \n",
    "\n",
    "It is function of: \n",
    "\n",
    "   **1)** Risk aversion of investors: the higher aversion the higher should be the premium. \n",
    "   \n",
    "   **2)** Riskness of average risk investment: as the perceived riskness of average risk investment increases so should the premium. Notice the so called average risk investment can change over time. \n",
    "   \n",
    "Since each investor is likely to have a different assessment of an acceptable premium, it will be a weighted average of individual's with weights wealth brought to the market. "
   ]
  },
  {
   "cell_type": "markdown",
   "metadata": {},
   "source": [
    "### How can I measure it? \n",
    "\n",
    "Three are the main ways to estimate it in the CAPM: \n",
    "\n",
    "**1)** _Survey premiums_ : one approach is to survey investors about their expectations (mostly portfolio managers). Approach used rarely (no constraints on reasonability, survey premiums very volatile, tend to be short term). \n",
    "\n",
    "**2)** _Historical premiums_ : the approach we will consider ( _see below_ ). \n",
    "\n",
    "**3)** _Implied equity premium_ : this approach assumes that the overall stock market is correlty priced. Thus, according to a given equity valuation model we would have, as unknown, the cost of equity. Solving for the equation (let's suppose the simplest stable growth model) we will get an implied expected return on the stock: subtracting out the riskfree rate we will obtain our unknown. \n",
    "\n"
   ]
  },
  {
   "cell_type": "markdown",
   "metadata": {},
   "source": [
    "### 2.1) Historical premiums approach (our goal) and country risk premium <a name=\"2.1\"></a> \n",
    "\n",
    "The most common approach to estimate risk premium is to base it on historical data. In the CAPM it's computed to be the difference between average returns on stocks and average returns on risk free securities (remark: $\\beta$ is assumed to be 1). \n",
    "\n",
    "**Estimation issues** \n",
    "There are large differences in the actual premiums we could observe being used in practice. \n",
    "Different analysts could estimate different premiums with same database of historical returns. \n",
    "\n",
    "_Reasons_ \n",
    "\n",
    " **1)**  Time period used: typically are used shorter time periods. The rationale of this choice lays in the fact that risk aversion of the average investor changes over time and more recent time period provides more updated estimate. This at a cost: greater error with short term periods used. \n",
    "\n",
    "**2)** Choice of risk free security: for consistency reasons we will consider the same risk free rate obtained for computing expected returns on the stock. \n",
    "\n",
    "**3)** Use of arithmetic or geometric averages: to avoid an over-stating of returns from the use of arithmetic averages (due to the fact that returns on stocks are empirically negatively correlated) we will use the geometric approach. "
   ]
  },
  {
   "cell_type": "markdown",
   "metadata": {},
   "source": [
    "####  Country risk premium component "
   ]
  },
  {
   "cell_type": "markdown",
   "metadata": {},
   "source": [
    "- Italian stock market is a _mature market_ : we have a relevant historical background and lots of trades day by day. \n",
    "\n",
    "Anyway, the country has a huge public debt which, over the years, has pushed the Country Rating toward BBB (according to S&P rating agency). \n",
    "\n",
    "This element must be included: in fact, with respect to a no-default risk government (in our case, according to risk free rates, Germany) the risk premium must be enlarged by this spread; it must capture this additional component of risk.\n"
   ]
  },
  {
   "cell_type": "markdown",
   "metadata": {},
   "source": [
    "### 2.2) Assumptions and analytics <a name=\"2.2\"></a>"
   ]
  },
  {
   "cell_type": "markdown",
   "metadata": {},
   "source": [
    "We will try by using the following **assumptions**: \n",
    "\n",
    "\n",
    "**1)** We will follow some ready-to-use results equity risk premium for Italy which includes country risk premium component  We can find it in Aswath Damodaran's [database](http://pages.stern.nyu.edu/~adamodar/New_Home_Page/datafile/ctryprem.html). \n",
    "\n",
    "\n",
    "\n",
    "**2)** To **encapsulate coronavirus impact** we will add a further risk component which will be diversified in our forecast assumptions.  \n"
   ]
  },
  {
   "cell_type": "markdown",
   "metadata": {},
   "source": [
    "--- "
   ]
  },
  {
   "cell_type": "code",
   "execution_count": 217,
   "metadata": {},
   "outputs": [
    {
     "name": "stdout",
     "output_type": "stream",
     "text": [
      "7.299332065461668\n"
     ]
    }
   ],
   "source": [
    "itRiskPremium = itCRP + stabMarkRP\n",
    "\n",
    "print(itRiskPremium)"
   ]
  },
  {
   "cell_type": "markdown",
   "metadata": {},
   "source": [
    "Approximately a 7.3%. (Against a 10% from latest updates of Damodaran, it makes sense, we did not consider Coronavirus outbreak) "
   ]
  },
  {
   "cell_type": "markdown",
   "metadata": {},
   "source": [
    "--- "
   ]
  },
  {
   "cell_type": "markdown",
   "metadata": {},
   "source": [
    "### 3 ) Third component of risk: Beta <a name = \"3\"></a>"
   ]
  },
  {
   "cell_type": "markdown",
   "metadata": {},
   "source": [
    "The final set of input we need to put risk and return models into practice are the risk parameters for individiaul assets. \n",
    "\n",
    "In the CAPM, the beta of the asset has to be estimated relative to the market portfolio (FTSE MIB index is the proxy in our analysis). \n",
    "\n",
    "Two are the main approaches: \n",
    "\n",
    "- 1) Historical market betas: conventional approach used by most services and analysts. \n",
    "\n",
    "- 2) Bottom-up Beta: alternative and most reliable approach which consists of breaking down beta into its fundamental components. "
   ]
  },
  {
   "cell_type": "markdown",
   "metadata": {},
   "source": [
    "### 3.1) Historical market betas: use of regression analysis across time series.  <a name = \"3.1\" ></a>"
   ]
  },
  {
   "cell_type": "markdown",
   "metadata": {},
   "source": [
    "This conventional approach consists of using past results to get an accurate approximation of current beta, which as we have already said, represents in one factor the firm exposure to market (non diversifiable) risk. "
   ]
  },
  {
   "cell_type": "markdown",
   "metadata": {},
   "source": [
    "**Work around** \n",
    "\n",
    "For publicly traded firms it's straightforward to estimate returns an investor would have made on its equity over a given period. \n",
    "These returns can be related to a proxy for the market portfolio to get a beta approximation. \n",
    "\n",
    "- Standard procedure: regress stock returns (A2A's performance in our case) against market returns (FTSE MIB returns). \n",
    "\n",
    "- Regression method: OLS of the form $R_{i}$ = $a$ $+$  $\\beta$ $\\times$ $R_{m}$\n",
    "\n",
    "The slope of regression line is the beta of the stock and measures its riskness. Obviously is an estimate which comes with a standard error representing how it is noisy. \n",
    "\n",
    "**Our decisions in estimating**\n",
    "\n",
    "- a) _Length of estimation period_ : we have decided to use latest 10 years as length, excluding the coronavirus outbreak period. \n",
    "\n",
    "- b) _Return interval_ : due to trade off between bias in estimations and lack of enough observations we have decided to use weekly returns. \n",
    "- c) _Market index proxy_ : as we have already done we continue with FTSE MIB40 index as proxy of portfolio market.  "
   ]
  },
  {
   "cell_type": "markdown",
   "metadata": {},
   "source": [
    "**A2A weekly prices and returns from Investing.com**"
   ]
  },
  {
   "cell_type": "code",
   "execution_count": 166,
   "metadata": {},
   "outputs": [],
   "source": [
    "dataPath = \"./Data set/Dataset for risk\""
   ]
  },
  {
   "cell_type": "code",
   "execution_count": 167,
   "metadata": {},
   "outputs": [],
   "source": [
    "filePath = os.path.join(dataPath, \"A2A weekly past 10y dirty.csv\")"
   ]
  },
  {
   "cell_type": "code",
   "execution_count": 168,
   "metadata": {},
   "outputs": [],
   "source": [
    "a2aWk = pd.read_csv(filePath, index_col=0)"
   ]
  },
  {
   "cell_type": "code",
   "execution_count": 169,
   "metadata": {},
   "outputs": [
    {
     "data": {
      "text/html": [
       "<div>\n",
       "<style scoped>\n",
       "    .dataframe tbody tr th:only-of-type {\n",
       "        vertical-align: middle;\n",
       "    }\n",
       "\n",
       "    .dataframe tbody tr th {\n",
       "        vertical-align: top;\n",
       "    }\n",
       "\n",
       "    .dataframe thead th {\n",
       "        text-align: right;\n",
       "    }\n",
       "</style>\n",
       "<table border=\"1\" class=\"dataframe\">\n",
       "  <thead>\n",
       "    <tr style=\"text-align: right;\">\n",
       "      <th></th>\n",
       "      <th>Ultimo</th>\n",
       "      <th>Apertura</th>\n",
       "      <th>Massimo</th>\n",
       "      <th>Minimo</th>\n",
       "      <th>Vol.</th>\n",
       "      <th>Var. %</th>\n",
       "    </tr>\n",
       "    <tr>\n",
       "      <th>Data</th>\n",
       "      <th></th>\n",
       "      <th></th>\n",
       "      <th></th>\n",
       "      <th></th>\n",
       "      <th></th>\n",
       "      <th></th>\n",
       "    </tr>\n",
       "  </thead>\n",
       "  <tbody>\n",
       "    <tr>\n",
       "      <td>01.03.2020</td>\n",
       "      <td>1,530</td>\n",
       "      <td>1,597</td>\n",
       "      <td>1,669</td>\n",
       "      <td>1,506</td>\n",
       "      <td>89,07M</td>\n",
       "      <td>-2,86%</td>\n",
       "    </tr>\n",
       "    <tr>\n",
       "      <td>23.02.2020</td>\n",
       "      <td>1,575</td>\n",
       "      <td>1,798</td>\n",
       "      <td>1,808</td>\n",
       "      <td>1,555</td>\n",
       "      <td>105,67M</td>\n",
       "      <td>-14,91%</td>\n",
       "    </tr>\n",
       "    <tr>\n",
       "      <td>16.02.2020</td>\n",
       "      <td>1,851</td>\n",
       "      <td>1,851</td>\n",
       "      <td>1,901</td>\n",
       "      <td>1,839</td>\n",
       "      <td>40,91M</td>\n",
       "      <td>0,00%</td>\n",
       "    </tr>\n",
       "    <tr>\n",
       "      <td>09.02.2020</td>\n",
       "      <td>1,851</td>\n",
       "      <td>1,820</td>\n",
       "      <td>1,863</td>\n",
       "      <td>1,809</td>\n",
       "      <td>44,64M</td>\n",
       "      <td>1,31%</td>\n",
       "    </tr>\n",
       "    <tr>\n",
       "      <td>02.02.2020</td>\n",
       "      <td>1,827</td>\n",
       "      <td>1,800</td>\n",
       "      <td>1,849</td>\n",
       "      <td>1,792</td>\n",
       "      <td>56,23M</td>\n",
       "      <td>1,39%</td>\n",
       "    </tr>\n",
       "    <tr>\n",
       "      <td>...</td>\n",
       "      <td>...</td>\n",
       "      <td>...</td>\n",
       "      <td>...</td>\n",
       "      <td>...</td>\n",
       "      <td>...</td>\n",
       "      <td>...</td>\n",
       "    </tr>\n",
       "    <tr>\n",
       "      <td>31.01.2010</td>\n",
       "      <td>1,329</td>\n",
       "      <td>1,372</td>\n",
       "      <td>1,408</td>\n",
       "      <td>1,318</td>\n",
       "      <td>55,58M</td>\n",
       "      <td>-3,35%</td>\n",
       "    </tr>\n",
       "    <tr>\n",
       "      <td>24.01.2010</td>\n",
       "      <td>1,375</td>\n",
       "      <td>1,402</td>\n",
       "      <td>1,416</td>\n",
       "      <td>1,355</td>\n",
       "      <td>46,92M</td>\n",
       "      <td>-2,20%</td>\n",
       "    </tr>\n",
       "    <tr>\n",
       "      <td>17.01.2010</td>\n",
       "      <td>1,406</td>\n",
       "      <td>1,420</td>\n",
       "      <td>1,462</td>\n",
       "      <td>1,402</td>\n",
       "      <td>38,93M</td>\n",
       "      <td>-0,71%</td>\n",
       "    </tr>\n",
       "    <tr>\n",
       "      <td>10.01.2010</td>\n",
       "      <td>1,416</td>\n",
       "      <td>1,426</td>\n",
       "      <td>1,450</td>\n",
       "      <td>1,405</td>\n",
       "      <td>36,30M</td>\n",
       "      <td>-0,49%</td>\n",
       "    </tr>\n",
       "    <tr>\n",
       "      <td>03.01.2010</td>\n",
       "      <td>1,423</td>\n",
       "      <td>1,477</td>\n",
       "      <td>1,480</td>\n",
       "      <td>1,405</td>\n",
       "      <td>48,70M</td>\n",
       "      <td>-2,93%</td>\n",
       "    </tr>\n",
       "  </tbody>\n",
       "</table>\n",
       "<p>531 rows × 6 columns</p>\n",
       "</div>"
      ],
      "text/plain": [
       "           Ultimo Apertura Massimo Minimo     Vol.   Var. %\n",
       "Data                                                       \n",
       "01.03.2020  1,530    1,597   1,669  1,506   89,07M   -2,86%\n",
       "23.02.2020  1,575    1,798   1,808  1,555  105,67M  -14,91%\n",
       "16.02.2020  1,851    1,851   1,901  1,839   40,91M    0,00%\n",
       "09.02.2020  1,851    1,820   1,863  1,809   44,64M    1,31%\n",
       "02.02.2020  1,827    1,800   1,849  1,792   56,23M    1,39%\n",
       "...           ...      ...     ...    ...      ...      ...\n",
       "31.01.2010  1,329    1,372   1,408  1,318   55,58M   -3,35%\n",
       "24.01.2010  1,375    1,402   1,416  1,355   46,92M   -2,20%\n",
       "17.01.2010  1,406    1,420   1,462  1,402   38,93M   -0,71%\n",
       "10.01.2010  1,416    1,426   1,450  1,405   36,30M   -0,49%\n",
       "03.01.2010  1,423    1,477   1,480  1,405   48,70M   -2,93%\n",
       "\n",
       "[531 rows x 6 columns]"
      ]
     },
     "execution_count": 169,
     "metadata": {},
     "output_type": "execute_result"
    }
   ],
   "source": [
    "a2aWk\n"
   ]
  },
  {
   "cell_type": "code",
   "execution_count": 176,
   "metadata": {},
   "outputs": [],
   "source": [
    "del a2aWk[\"Vol.\"]"
   ]
  },
  {
   "cell_type": "code",
   "execution_count": 179,
   "metadata": {},
   "outputs": [],
   "source": [
    "del a2aWk[\"Var. %\"]"
   ]
  },
  {
   "cell_type": "code",
   "execution_count": 184,
   "metadata": {},
   "outputs": [],
   "source": [
    "adjA2aWkClose = modInvestingComplete(a2aWk).loc[\"2010-02-15\":\"2020-02-17\", \"Ultimo\"]"
   ]
  },
  {
   "cell_type": "code",
   "execution_count": 202,
   "metadata": {},
   "outputs": [
    {
     "data": {
      "text/plain": [
       "2010-02-21    1.269\n",
       "2010-02-28    1.325\n",
       "2010-03-07    1.346\n",
       "2010-03-14    1.339\n",
       "2010-03-21    1.379\n",
       "              ...  \n",
       "2020-01-19    1.804\n",
       "2020-01-26    1.802\n",
       "2020-02-02    1.827\n",
       "2020-02-09    1.851\n",
       "2020-02-16    1.851\n",
       "Name: Ultimo, Length: 522, dtype: float64"
      ]
     },
     "execution_count": 202,
     "metadata": {},
     "output_type": "execute_result"
    }
   ],
   "source": [
    "adjA2aWkClose"
   ]
  },
  {
   "cell_type": "code",
   "execution_count": 203,
   "metadata": {},
   "outputs": [],
   "source": [
    "a2aClosePrice_t1 = adjA2aWkClose"
   ]
  },
  {
   "cell_type": "code",
   "execution_count": 211,
   "metadata": {},
   "outputs": [],
   "source": [
    "a2aClosePrice_tm1 = a2aClosePrice_t1.shift(periods=1, freq = \"1w\")"
   ]
  },
  {
   "cell_type": "code",
   "execution_count": 212,
   "metadata": {},
   "outputs": [
    {
     "data": {
      "text/plain": [
       "2010-02-28    1.269\n",
       "2010-03-07    1.325\n",
       "2010-03-14    1.346\n",
       "2010-03-21    1.339\n",
       "2010-03-28    1.379\n",
       "              ...  \n",
       "2020-01-26    1.804\n",
       "2020-02-02    1.802\n",
       "2020-02-09    1.827\n",
       "2020-02-16    1.851\n",
       "2020-02-23    1.851\n",
       "Freq: W-SUN, Name: Ultimo, Length: 522, dtype: float64"
      ]
     },
     "execution_count": 212,
     "metadata": {},
     "output_type": "execute_result"
    }
   ],
   "source": [
    "a2aClosePrice_tm1 "
   ]
  },
  {
   "cell_type": "code",
   "execution_count": 213,
   "metadata": {},
   "outputs": [],
   "source": [
    "a2aWkLogRet = np.log(a2aClosePrice_t1) - np.log(a2aClosePrice_tm1)\n",
    "a2aWkLogRet = a2aWkLogRet.dropna() "
   ]
  },
  {
   "cell_type": "code",
   "execution_count": 214,
   "metadata": {},
   "outputs": [
    {
     "data": {
      "text/plain": [
       "2010-02-28    0.043183\n",
       "2010-03-07    0.015725\n",
       "2010-03-14   -0.005214\n",
       "2010-03-21    0.029436\n",
       "2010-03-28    0.014399\n",
       "                ...   \n",
       "2020-01-19    0.011709\n",
       "2020-01-26   -0.001109\n",
       "2020-02-02    0.013778\n",
       "2020-02-09    0.013051\n",
       "2020-02-16    0.000000\n",
       "Name: Ultimo, Length: 521, dtype: float64"
      ]
     },
     "execution_count": 214,
     "metadata": {},
     "output_type": "execute_result"
    }
   ],
   "source": [
    "a2aWkLogRet "
   ]
  },
  {
   "cell_type": "markdown",
   "metadata": {},
   "source": [
    "There is a match with Investing.com results! "
   ]
  },
  {
   "cell_type": "code",
   "execution_count": 215,
   "metadata": {},
   "outputs": [],
   "source": [
    "pathFile = os.path.join(dataPath, \"A2A wk logRet past 10y.csv\")"
   ]
  },
  {
   "cell_type": "code",
   "execution_count": 218,
   "metadata": {},
   "outputs": [],
   "source": [
    "a2aWkLogRet.to_csv(pathFile)"
   ]
  },
  {
   "cell_type": "code",
   "execution_count": 4,
   "metadata": {},
   "outputs": [],
   "source": [
    "#removeFile(pathFile)"
   ]
  },
  {
   "cell_type": "markdown",
   "metadata": {},
   "source": [
    "--- "
   ]
  },
  {
   "cell_type": "markdown",
   "metadata": {},
   "source": [
    "For what about FTSEMIB we have worked on daily basis until know, therefore there are two alternatives:\n",
    "\n",
    "**1)** We could apply a **new functionality** to transform it into a weekly basis: `pd.resample()` to proceed with a resampling.  \n",
    "\n",
    "**2)** We can redownload from our data provider FTSE MIB time series in order to get a larger time series on a weekly basis. \n",
    "\n",
    "We have decided to apply solution 2: "
   ]
  },
  {
   "cell_type": "code",
   "execution_count": 3,
   "metadata": {},
   "outputs": [],
   "source": [
    "dataPath = \"./Data set/Dataset for risk\""
   ]
  },
  {
   "cell_type": "code",
   "execution_count": 135,
   "metadata": {},
   "outputs": [],
   "source": [
    "filePath = os.path.join(dataPath, \"Ftsemib  weekly past 10y dirty.csv\")"
   ]
  },
  {
   "cell_type": "code",
   "execution_count": 136,
   "metadata": {},
   "outputs": [],
   "source": [
    "ftseWK = pd.read_csv(filePath, index_col=0)"
   ]
  },
  {
   "cell_type": "code",
   "execution_count": 137,
   "metadata": {},
   "outputs": [
    {
     "data": {
      "text/html": [
       "<div>\n",
       "<style scoped>\n",
       "    .dataframe tbody tr th:only-of-type {\n",
       "        vertical-align: middle;\n",
       "    }\n",
       "\n",
       "    .dataframe tbody tr th {\n",
       "        vertical-align: top;\n",
       "    }\n",
       "\n",
       "    .dataframe thead th {\n",
       "        text-align: right;\n",
       "    }\n",
       "</style>\n",
       "<table border=\"1\" class=\"dataframe\">\n",
       "  <thead>\n",
       "    <tr style=\"text-align: right;\">\n",
       "      <th></th>\n",
       "      <th>Ultimo</th>\n",
       "      <th>Apertura</th>\n",
       "      <th>Massimo</th>\n",
       "      <th>Minimo</th>\n",
       "      <th>Vol.</th>\n",
       "      <th>Var. %</th>\n",
       "    </tr>\n",
       "    <tr>\n",
       "      <th>Data</th>\n",
       "      <th></th>\n",
       "      <th></th>\n",
       "      <th></th>\n",
       "      <th></th>\n",
       "      <th></th>\n",
       "      <th></th>\n",
       "    </tr>\n",
       "  </thead>\n",
       "  <tbody>\n",
       "    <tr>\n",
       "      <td>01.03.2020</td>\n",
       "      <td>20.799,89</td>\n",
       "      <td>22.333,17</td>\n",
       "      <td>22.361,13</td>\n",
       "      <td>20.624,42</td>\n",
       "      <td>4,09B</td>\n",
       "      <td>-5,39%</td>\n",
       "    </tr>\n",
       "    <tr>\n",
       "      <td>23.02.2020</td>\n",
       "      <td>21.984,21</td>\n",
       "      <td>23.918,60</td>\n",
       "      <td>24.005,21</td>\n",
       "      <td>21.697,94</td>\n",
       "      <td>4,21B</td>\n",
       "      <td>-11,26%</td>\n",
       "    </tr>\n",
       "    <tr>\n",
       "      <td>16.02.2020</td>\n",
       "      <td>24.773,15</td>\n",
       "      <td>24.961,76</td>\n",
       "      <td>25.483,05</td>\n",
       "      <td>24.670,24</td>\n",
       "      <td>2,60B</td>\n",
       "      <td>-0,38%</td>\n",
       "    </tr>\n",
       "    <tr>\n",
       "      <td>09.02.2020</td>\n",
       "      <td>24.867,01</td>\n",
       "      <td>24.437,06</td>\n",
       "      <td>24.983,12</td>\n",
       "      <td>24.388,88</td>\n",
       "      <td>2,03B</td>\n",
       "      <td>1,59%</td>\n",
       "    </tr>\n",
       "    <tr>\n",
       "      <td>02.02.2020</td>\n",
       "      <td>24.478,32</td>\n",
       "      <td>23.297,09</td>\n",
       "      <td>24.523,42</td>\n",
       "      <td>23.218,72</td>\n",
       "      <td>2,35B</td>\n",
       "      <td>5,34%</td>\n",
       "    </tr>\n",
       "    <tr>\n",
       "      <td>...</td>\n",
       "      <td>...</td>\n",
       "      <td>...</td>\n",
       "      <td>...</td>\n",
       "      <td>...</td>\n",
       "      <td>...</td>\n",
       "      <td>...</td>\n",
       "    </tr>\n",
       "    <tr>\n",
       "      <td>31.01.2010</td>\n",
       "      <td>20.815,88</td>\n",
       "      <td>21.689,12</td>\n",
       "      <td>22.502,60</td>\n",
       "      <td>20.758,32</td>\n",
       "      <td>5,02B</td>\n",
       "      <td>-4,93%</td>\n",
       "    </tr>\n",
       "    <tr>\n",
       "      <td>24.01.2010</td>\n",
       "      <td>21.896,29</td>\n",
       "      <td>22.373,66</td>\n",
       "      <td>22.672,61</td>\n",
       "      <td>21.478,10</td>\n",
       "      <td>3,90B</td>\n",
       "      <td>-2,98%</td>\n",
       "    </tr>\n",
       "    <tr>\n",
       "      <td>17.01.2010</td>\n",
       "      <td>22.567,81</td>\n",
       "      <td>23.554,39</td>\n",
       "      <td>23.720,91</td>\n",
       "      <td>22.375,41</td>\n",
       "      <td>3,77B</td>\n",
       "      <td>-3,85%</td>\n",
       "    </tr>\n",
       "    <tr>\n",
       "      <td>10.01.2010</td>\n",
       "      <td>23.472,11</td>\n",
       "      <td>23.946,44</td>\n",
       "      <td>24.058,76</td>\n",
       "      <td>23.457,03</td>\n",
       "      <td>3,04B</td>\n",
       "      <td>-1,42%</td>\n",
       "    </tr>\n",
       "    <tr>\n",
       "      <td>03.01.2010</td>\n",
       "      <td>23.811,13</td>\n",
       "      <td>23.359,89</td>\n",
       "      <td>23.911,07</td>\n",
       "      <td>23.317,12</td>\n",
       "      <td>2,50B</td>\n",
       "      <td>2,42%</td>\n",
       "    </tr>\n",
       "  </tbody>\n",
       "</table>\n",
       "<p>531 rows × 6 columns</p>\n",
       "</div>"
      ],
      "text/plain": [
       "               Ultimo   Apertura    Massimo     Minimo   Vol.   Var. %\n",
       "Data                                                                  \n",
       "01.03.2020  20.799,89  22.333,17  22.361,13  20.624,42  4,09B   -5,39%\n",
       "23.02.2020  21.984,21  23.918,60  24.005,21  21.697,94  4,21B  -11,26%\n",
       "16.02.2020  24.773,15  24.961,76  25.483,05  24.670,24  2,60B   -0,38%\n",
       "09.02.2020  24.867,01  24.437,06  24.983,12  24.388,88  2,03B    1,59%\n",
       "02.02.2020  24.478,32  23.297,09  24.523,42  23.218,72  2,35B    5,34%\n",
       "...               ...        ...        ...        ...    ...      ...\n",
       "31.01.2010  20.815,88  21.689,12  22.502,60  20.758,32  5,02B   -4,93%\n",
       "24.01.2010  21.896,29  22.373,66  22.672,61  21.478,10  3,90B   -2,98%\n",
       "17.01.2010  22.567,81  23.554,39  23.720,91  22.375,41  3,77B   -3,85%\n",
       "10.01.2010  23.472,11  23.946,44  24.058,76  23.457,03  3,04B   -1,42%\n",
       "03.01.2010  23.811,13  23.359,89  23.911,07  23.317,12  2,50B    2,42%\n",
       "\n",
       "[531 rows x 6 columns]"
      ]
     },
     "execution_count": 137,
     "metadata": {},
     "output_type": "execute_result"
    }
   ],
   "source": [
    "ftseWK"
   ]
  },
  {
   "cell_type": "code",
   "execution_count": 144,
   "metadata": {},
   "outputs": [],
   "source": [
    "del ftseWK[\"Vol.\"]"
   ]
  },
  {
   "cell_type": "code",
   "execution_count": 145,
   "metadata": {},
   "outputs": [],
   "source": [
    "del ftseWK[\"Var. %\"]"
   ]
  },
  {
   "cell_type": "code",
   "execution_count": 146,
   "metadata": {},
   "outputs": [],
   "source": [
    "adjFtseWK = modInvestingComplete(ftseWK)"
   ]
  },
  {
   "cell_type": "code",
   "execution_count": 147,
   "metadata": {},
   "outputs": [
    {
     "data": {
      "text/html": [
       "<div>\n",
       "<style scoped>\n",
       "    .dataframe tbody tr th:only-of-type {\n",
       "        vertical-align: middle;\n",
       "    }\n",
       "\n",
       "    .dataframe tbody tr th {\n",
       "        vertical-align: top;\n",
       "    }\n",
       "\n",
       "    .dataframe thead th {\n",
       "        text-align: right;\n",
       "    }\n",
       "</style>\n",
       "<table border=\"1\" class=\"dataframe\">\n",
       "  <thead>\n",
       "    <tr style=\"text-align: right;\">\n",
       "      <th></th>\n",
       "      <th>Ultimo</th>\n",
       "      <th>Apertura</th>\n",
       "      <th>Massimo</th>\n",
       "      <th>Minimo</th>\n",
       "    </tr>\n",
       "  </thead>\n",
       "  <tbody>\n",
       "    <tr>\n",
       "      <td>2010-01-03</td>\n",
       "      <td>23811.13</td>\n",
       "      <td>23359.89</td>\n",
       "      <td>23911.07</td>\n",
       "      <td>23317.12</td>\n",
       "    </tr>\n",
       "    <tr>\n",
       "      <td>2010-01-10</td>\n",
       "      <td>23472.11</td>\n",
       "      <td>23946.44</td>\n",
       "      <td>24058.76</td>\n",
       "      <td>23457.03</td>\n",
       "    </tr>\n",
       "    <tr>\n",
       "      <td>2010-01-17</td>\n",
       "      <td>22567.81</td>\n",
       "      <td>23554.39</td>\n",
       "      <td>23720.91</td>\n",
       "      <td>22375.41</td>\n",
       "    </tr>\n",
       "    <tr>\n",
       "      <td>2010-01-24</td>\n",
       "      <td>21896.29</td>\n",
       "      <td>22373.66</td>\n",
       "      <td>22672.61</td>\n",
       "      <td>21478.10</td>\n",
       "    </tr>\n",
       "    <tr>\n",
       "      <td>2010-01-31</td>\n",
       "      <td>20815.88</td>\n",
       "      <td>21689.12</td>\n",
       "      <td>22502.60</td>\n",
       "      <td>20758.32</td>\n",
       "    </tr>\n",
       "    <tr>\n",
       "      <td>...</td>\n",
       "      <td>...</td>\n",
       "      <td>...</td>\n",
       "      <td>...</td>\n",
       "      <td>...</td>\n",
       "    </tr>\n",
       "    <tr>\n",
       "      <td>2020-02-02</td>\n",
       "      <td>24478.32</td>\n",
       "      <td>23297.09</td>\n",
       "      <td>24523.42</td>\n",
       "      <td>23218.72</td>\n",
       "    </tr>\n",
       "    <tr>\n",
       "      <td>2020-02-09</td>\n",
       "      <td>24867.01</td>\n",
       "      <td>24437.06</td>\n",
       "      <td>24983.12</td>\n",
       "      <td>24388.88</td>\n",
       "    </tr>\n",
       "    <tr>\n",
       "      <td>2020-02-16</td>\n",
       "      <td>24773.15</td>\n",
       "      <td>24961.76</td>\n",
       "      <td>25483.05</td>\n",
       "      <td>24670.24</td>\n",
       "    </tr>\n",
       "    <tr>\n",
       "      <td>2020-02-23</td>\n",
       "      <td>21984.21</td>\n",
       "      <td>23918.60</td>\n",
       "      <td>24005.21</td>\n",
       "      <td>21697.94</td>\n",
       "    </tr>\n",
       "    <tr>\n",
       "      <td>2020-03-01</td>\n",
       "      <td>20799.89</td>\n",
       "      <td>22333.17</td>\n",
       "      <td>22361.13</td>\n",
       "      <td>20624.42</td>\n",
       "    </tr>\n",
       "  </tbody>\n",
       "</table>\n",
       "<p>531 rows × 4 columns</p>\n",
       "</div>"
      ],
      "text/plain": [
       "              Ultimo  Apertura   Massimo    Minimo\n",
       "2010-01-03  23811.13  23359.89  23911.07  23317.12\n",
       "2010-01-10  23472.11  23946.44  24058.76  23457.03\n",
       "2010-01-17  22567.81  23554.39  23720.91  22375.41\n",
       "2010-01-24  21896.29  22373.66  22672.61  21478.10\n",
       "2010-01-31  20815.88  21689.12  22502.60  20758.32\n",
       "...              ...       ...       ...       ...\n",
       "2020-02-02  24478.32  23297.09  24523.42  23218.72\n",
       "2020-02-09  24867.01  24437.06  24983.12  24388.88\n",
       "2020-02-16  24773.15  24961.76  25483.05  24670.24\n",
       "2020-02-23  21984.21  23918.60  24005.21  21697.94\n",
       "2020-03-01  20799.89  22333.17  22361.13  20624.42\n",
       "\n",
       "[531 rows x 4 columns]"
      ]
     },
     "execution_count": 147,
     "metadata": {},
     "output_type": "execute_result"
    }
   ],
   "source": [
    "adjFtseWK"
   ]
  },
  {
   "cell_type": "markdown",
   "metadata": {},
   "source": [
    "Let's select the same time range we used for A2A prices: "
   ]
  },
  {
   "cell_type": "code",
   "execution_count": 164,
   "metadata": {},
   "outputs": [],
   "source": [
    "adjFtseWKClose = adjFtseWK.loc[\"2010-02-15\":\"2020-02-17\", \"Ultimo\"]"
   ]
  },
  {
   "cell_type": "code",
   "execution_count": 165,
   "metadata": {},
   "outputs": [
    {
     "data": {
      "text/plain": [
       "2010-02-21    21068.32\n",
       "2010-02-28    22278.12\n",
       "2010-03-07    22565.19\n",
       "2010-03-14    22687.30\n",
       "2010-03-21    23063.87\n",
       "                ...   \n",
       "2020-01-19    23969.13\n",
       "2020-01-26    23237.03\n",
       "2020-02-02    24478.32\n",
       "2020-02-09    24867.01\n",
       "2020-02-16    24773.15\n",
       "Name: Ultimo, Length: 522, dtype: float64"
      ]
     },
     "execution_count": 165,
     "metadata": {},
     "output_type": "execute_result"
    }
   ],
   "source": [
    "adjFtseWKClose"
   ]
  },
  {
   "cell_type": "code",
   "execution_count": 220,
   "metadata": {},
   "outputs": [],
   "source": [
    "ftseWkClose_t = adjFtseWKClose"
   ]
  },
  {
   "cell_type": "code",
   "execution_count": 221,
   "metadata": {},
   "outputs": [],
   "source": [
    "ftseWkClose_tm1 = ftseWkClose_t.shift(periods = 1, freq = '1w')"
   ]
  },
  {
   "cell_type": "code",
   "execution_count": 222,
   "metadata": {},
   "outputs": [],
   "source": [
    "ftseWkLogRet = np.log(ftseWkClose_t) -  np.log(ftseWkClose_tm1)\n",
    "ftseWkLogRet = ftseWkLogRet.dropna()"
   ]
  },
  {
   "cell_type": "code",
   "execution_count": 223,
   "metadata": {},
   "outputs": [
    {
     "data": {
      "text/plain": [
       "2010-02-28    0.055835\n",
       "2010-03-07    0.012803\n",
       "2010-03-14    0.005397\n",
       "2010-03-21    0.016462\n",
       "2010-03-28    0.006172\n",
       "                ...   \n",
       "2020-01-19   -0.007148\n",
       "2020-01-26   -0.031020\n",
       "2020-02-02    0.052041\n",
       "2020-02-09    0.015754\n",
       "2020-02-16   -0.003782\n",
       "Name: Ultimo, Length: 521, dtype: float64"
      ]
     },
     "execution_count": 223,
     "metadata": {},
     "output_type": "execute_result"
    }
   ],
   "source": [
    "ftseWkLogRet"
   ]
  },
  {
   "cell_type": "markdown",
   "metadata": {},
   "source": [
    "--- "
   ]
  },
  {
   "cell_type": "markdown",
   "metadata": {},
   "source": [
    "### Linear Regression: OLS "
   ]
  },
  {
   "cell_type": "markdown",
   "metadata": {},
   "source": [
    "Once we have obtained aligned time series we can initialize a linear regression to retrieve a regression beta. \n",
    "\n",
    "First of all, let's perform a scatter plot to see the presence of correlation: "
   ]
  },
  {
   "cell_type": "code",
   "execution_count": 224,
   "metadata": {},
   "outputs": [
    {
     "data": {
      "text/plain": [
       "<matplotlib.collections.PathCollection at 0x252053257c8>"
      ]
     },
     "execution_count": 224,
     "metadata": {},
     "output_type": "execute_result"
    },
    {
     "data": {
      "image/png": "[encoded data removed]",
      "text/plain": [
       "<Figure size 720x432 with 1 Axes>"
      ]
     },
     "metadata": {
      "needs_background": "light"
     },
     "output_type": "display_data"
    }
   ],
   "source": [
    "plt.figure(figsize=(10,6))\n",
    "plt.scatter(ftseWkLogRet, a2aWkLogRet, marker ='o' )"
   ]
  },
  {
   "cell_type": "markdown",
   "metadata": {},
   "source": [
    "To run a linear regression let's use the following package: `scikit-learn`"
   ]
  },
  {
   "cell_type": "code",
   "execution_count": 74,
   "metadata": {},
   "outputs": [],
   "source": [
    "from sklearn.linear_model import LinearRegression"
   ]
  },
  {
   "cell_type": "markdown",
   "metadata": {},
   "source": [
    "Let’s create an instance of the class LinearRegression, which will represent the [regression model](https://realpython.com/linear-regression-in-python/#simple-linear-regression):"
   ]
  },
  {
   "cell_type": "code",
   "execution_count": 227,
   "metadata": {},
   "outputs": [],
   "source": [
    "model = LinearRegression()"
   ]
  },
  {
   "cell_type": "markdown",
   "metadata": {},
   "source": [
    "Anyway, it takes in inputs np.arrays so I need to convert my time series. \n",
    "\n",
    "Furthermore the following rule must be followed: \"Reshape your data either using array.reshape(-1, 1) if your data has a single feature or array.reshape(1, -1) if it contains a single sample\"."
   ]
  },
  {
   "cell_type": "code",
   "execution_count": 244,
   "metadata": {},
   "outputs": [],
   "source": [
    "x = np.array(ftseWkLogRet).reshape((-1,1))"
   ]
  },
  {
   "cell_type": "code",
   "execution_count": null,
   "metadata": {},
   "outputs": [],
   "source": [
    "y = np.array(a2aWkLogRet)"
   ]
  },
  {
   "cell_type": "code",
   "execution_count": 242,
   "metadata": {},
   "outputs": [
    {
     "data": {
      "text/plain": [
       "LinearRegression(copy_X=True, fit_intercept=True, n_jobs=None, normalize=False)"
      ]
     },
     "execution_count": 242,
     "metadata": {},
     "output_type": "execute_result"
    }
   ],
   "source": [
    "model.fit(x,y)"
   ]
  },
  {
   "cell_type": "code",
   "execution_count": 251,
   "metadata": {},
   "outputs": [],
   "source": [
    "y_pred = model.predict(x)"
   ]
  },
  {
   "cell_type": "markdown",
   "metadata": {},
   "source": [
    "**Regression results** \n",
    "\n",
    "**1)** _Intercept_"
   ]
  },
  {
   "cell_type": "code",
   "execution_count": 246,
   "metadata": {},
   "outputs": [
    {
     "data": {
      "text/plain": [
       "0.0004530917049688054"
      ]
     },
     "execution_count": 246,
     "metadata": {},
     "output_type": "execute_result"
    }
   ],
   "source": [
    "model.intercept_"
   ]
  },
  {
   "cell_type": "markdown",
   "metadata": {},
   "source": [
    "**2)** _Slope_ = out regression beta"
   ]
  },
  {
   "cell_type": "code",
   "execution_count": 249,
   "metadata": {},
   "outputs": [
    {
     "data": {
      "text/plain": [
       "array([0.87311649])"
      ]
     },
     "execution_count": 249,
     "metadata": {},
     "output_type": "execute_result"
    }
   ],
   "source": [
    "model.coef_"
   ]
  },
  {
   "cell_type": "markdown",
   "metadata": {},
   "source": [
    "**3)** Graphical representation "
   ]
  },
  {
   "cell_type": "code",
   "execution_count": 252,
   "metadata": {},
   "outputs": [
    {
     "data": {
      "text/plain": [
       "[<matplotlib.lines.Line2D at 0x252051dad88>]"
      ]
     },
     "execution_count": 252,
     "metadata": {},
     "output_type": "execute_result"
    },
    {
     "data": {
      "image/png": "[encoded data removed]",
      "text/plain": [
       "<Figure size 720x432 with 1 Axes>"
      ]
     },
     "metadata": {
      "needs_background": "light"
     },
     "output_type": "display_data"
    }
   ],
   "source": [
    "plt.figure(figsize=(10,6))\n",
    "plt.scatter(ftseWkLogRet, a2aWkLogRet, marker ='o' )\n",
    "plt.plot(x,y_pred, 'r', lw= 2)"
   ]
  },
  {
   "cell_type": "markdown",
   "metadata": {},
   "source": [
    "**4)** Goodness of fit: R-squared "
   ]
  },
  {
   "cell_type": "markdown",
   "metadata": {},
   "source": [
    "#### Another example: regression agains European stock market index over past 10 years"
   ]
  },
  {
   "cell_type": "markdown",
   "metadata": {},
   "source": [
    "Let's suppose now we want to regress stock market returns of A2A against a proxy of european stock market, _Euro Stoxx 50_, maintaining the same time range. \n",
    "\n",
    "- Why should we use this approach? According to the assumption that we should regress against a likely set of assets we could imagine that our (marginal) average investor is well diversified and active in internationalized European stock market.\n",
    "\n",
    "This is a good argument to use a proxy representing the average European performance: in fact, the index is compunded by most appetible shares over European scene. "
   ]
  },
  {
   "cell_type": "markdown",
   "metadata": {},
   "source": [
    "First of all let's recall our A2A weekly return series from data folder: "
   ]
  },
  {
   "cell_type": "code",
   "execution_count": 4,
   "metadata": {},
   "outputs": [],
   "source": [
    "pathFile = os.path.join(dataPath, \"A2A wk logRet past 10y.csv\")"
   ]
  },
  {
   "cell_type": "code",
   "execution_count": 15,
   "metadata": {},
   "outputs": [],
   "source": [
    "a2a_wkRet_df = pd.read_csv(pathFile, names = [\"Dates\", \"WkLogret\"], parse_dates = True, index_col = 0  )"
   ]
  },
  {
   "cell_type": "code",
   "execution_count": 16,
   "metadata": {},
   "outputs": [
    {
     "data": {
      "text/html": [
       "<div>\n",
       "<style scoped>\n",
       "    .dataframe tbody tr th:only-of-type {\n",
       "        vertical-align: middle;\n",
       "    }\n",
       "\n",
       "    .dataframe tbody tr th {\n",
       "        vertical-align: top;\n",
       "    }\n",
       "\n",
       "    .dataframe thead th {\n",
       "        text-align: right;\n",
       "    }\n",
       "</style>\n",
       "<table border=\"1\" class=\"dataframe\">\n",
       "  <thead>\n",
       "    <tr style=\"text-align: right;\">\n",
       "      <th></th>\n",
       "      <th>WkLogret</th>\n",
       "    </tr>\n",
       "    <tr>\n",
       "      <th>Dates</th>\n",
       "      <th></th>\n",
       "    </tr>\n",
       "  </thead>\n",
       "  <tbody>\n",
       "    <tr>\n",
       "      <td>2010-02-28</td>\n",
       "      <td>0.043183</td>\n",
       "    </tr>\n",
       "    <tr>\n",
       "      <td>2010-03-07</td>\n",
       "      <td>0.015725</td>\n",
       "    </tr>\n",
       "    <tr>\n",
       "      <td>2010-03-14</td>\n",
       "      <td>-0.005214</td>\n",
       "    </tr>\n",
       "    <tr>\n",
       "      <td>2010-03-21</td>\n",
       "      <td>0.029436</td>\n",
       "    </tr>\n",
       "    <tr>\n",
       "      <td>2010-03-28</td>\n",
       "      <td>0.014399</td>\n",
       "    </tr>\n",
       "    <tr>\n",
       "      <td>...</td>\n",
       "      <td>...</td>\n",
       "    </tr>\n",
       "    <tr>\n",
       "      <td>2020-01-19</td>\n",
       "      <td>0.011709</td>\n",
       "    </tr>\n",
       "    <tr>\n",
       "      <td>2020-01-26</td>\n",
       "      <td>-0.001109</td>\n",
       "    </tr>\n",
       "    <tr>\n",
       "      <td>2020-02-02</td>\n",
       "      <td>0.013778</td>\n",
       "    </tr>\n",
       "    <tr>\n",
       "      <td>2020-02-09</td>\n",
       "      <td>0.013051</td>\n",
       "    </tr>\n",
       "    <tr>\n",
       "      <td>2020-02-16</td>\n",
       "      <td>0.000000</td>\n",
       "    </tr>\n",
       "  </tbody>\n",
       "</table>\n",
       "<p>521 rows × 1 columns</p>\n",
       "</div>"
      ],
      "text/plain": [
       "            WkLogret\n",
       "Dates               \n",
       "2010-02-28  0.043183\n",
       "2010-03-07  0.015725\n",
       "2010-03-14 -0.005214\n",
       "2010-03-21  0.029436\n",
       "2010-03-28  0.014399\n",
       "...              ...\n",
       "2020-01-19  0.011709\n",
       "2020-01-26 -0.001109\n",
       "2020-02-02  0.013778\n",
       "2020-02-09  0.013051\n",
       "2020-02-16  0.000000\n",
       "\n",
       "[521 rows x 1 columns]"
      ]
     },
     "execution_count": 16,
     "metadata": {},
     "output_type": "execute_result"
    }
   ],
   "source": [
    "a2a_wkRet_df"
   ]
  },
  {
   "cell_type": "code",
   "execution_count": 17,
   "metadata": {},
   "outputs": [],
   "source": [
    "filePath= os.path.join(dataPath, \"Euro Stoxx 50 weekly past 10 y dirty.csv\") "
   ]
  },
  {
   "cell_type": "code",
   "execution_count": 20,
   "metadata": {},
   "outputs": [],
   "source": [
    "euroStox50_df = pd.read_csv(filePath, index_col = 0 )"
   ]
  },
  {
   "cell_type": "code",
   "execution_count": 21,
   "metadata": {},
   "outputs": [
    {
     "data": {
      "text/html": [
       "<div>\n",
       "<style scoped>\n",
       "    .dataframe tbody tr th:only-of-type {\n",
       "        vertical-align: middle;\n",
       "    }\n",
       "\n",
       "    .dataframe tbody tr th {\n",
       "        vertical-align: top;\n",
       "    }\n",
       "\n",
       "    .dataframe thead th {\n",
       "        text-align: right;\n",
       "    }\n",
       "</style>\n",
       "<table border=\"1\" class=\"dataframe\">\n",
       "  <thead>\n",
       "    <tr style=\"text-align: right;\">\n",
       "      <th></th>\n",
       "      <th>Ultimo</th>\n",
       "      <th>Apertura</th>\n",
       "      <th>Massimo</th>\n",
       "      <th>Minimo</th>\n",
       "      <th>Vol.</th>\n",
       "      <th>Var. %</th>\n",
       "    </tr>\n",
       "    <tr>\n",
       "      <th>Data</th>\n",
       "      <th></th>\n",
       "      <th></th>\n",
       "      <th></th>\n",
       "      <th></th>\n",
       "      <th></th>\n",
       "      <th></th>\n",
       "    </tr>\n",
       "  </thead>\n",
       "  <tbody>\n",
       "    <tr>\n",
       "      <td>01.03.2020</td>\n",
       "      <td>3.232,07</td>\n",
       "      <td>3.355,33</td>\n",
       "      <td>3.448,24</td>\n",
       "      <td>3.216,44</td>\n",
       "      <td>394,04M</td>\n",
       "      <td>-2,93%</td>\n",
       "    </tr>\n",
       "    <tr>\n",
       "      <td>23.02.2020</td>\n",
       "      <td>3.329,49</td>\n",
       "      <td>3.762,35</td>\n",
       "      <td>3.762,35</td>\n",
       "      <td>3.283,18</td>\n",
       "      <td>424,44M</td>\n",
       "      <td>-12,39%</td>\n",
       "    </tr>\n",
       "    <tr>\n",
       "      <td>16.02.2020</td>\n",
       "      <td>3.800,38</td>\n",
       "      <td>3.843,10</td>\n",
       "      <td>3.867,28</td>\n",
       "      <td>3.776,82</td>\n",
       "      <td>207,41M</td>\n",
       "      <td>-1,06%</td>\n",
       "    </tr>\n",
       "    <tr>\n",
       "      <td>09.02.2020</td>\n",
       "      <td>3.840,97</td>\n",
       "      <td>3.794,18</td>\n",
       "      <td>3.854,43</td>\n",
       "      <td>3.779,10</td>\n",
       "      <td>177,97M</td>\n",
       "      <td>1,12%</td>\n",
       "    </tr>\n",
       "    <tr>\n",
       "      <td>02.02.2020</td>\n",
       "      <td>3.798,49</td>\n",
       "      <td>3.646,86</td>\n",
       "      <td>3.808,74</td>\n",
       "      <td>3.641,84</td>\n",
       "      <td>226,40M</td>\n",
       "      <td>4,33%</td>\n",
       "    </tr>\n",
       "    <tr>\n",
       "      <td>...</td>\n",
       "      <td>...</td>\n",
       "      <td>...</td>\n",
       "      <td>...</td>\n",
       "      <td>...</td>\n",
       "      <td>...</td>\n",
       "      <td>...</td>\n",
       "    </tr>\n",
       "    <tr>\n",
       "      <td>31.01.2010</td>\n",
       "      <td>2.631,64</td>\n",
       "      <td>2.763,88</td>\n",
       "      <td>2.842,61</td>\n",
       "      <td>2.631,64</td>\n",
       "      <td>642,07M</td>\n",
       "      <td>-5,23%</td>\n",
       "    </tr>\n",
       "    <tr>\n",
       "      <td>24.01.2010</td>\n",
       "      <td>2.776,83</td>\n",
       "      <td>2.825,15</td>\n",
       "      <td>2.845,15</td>\n",
       "      <td>2.737,33</td>\n",
       "      <td>506,43M</td>\n",
       "      <td>-2,11%</td>\n",
       "    </tr>\n",
       "    <tr>\n",
       "      <td>17.01.2010</td>\n",
       "      <td>2.836,80</td>\n",
       "      <td>2.949,94</td>\n",
       "      <td>2.990,50</td>\n",
       "      <td>2.806,51</td>\n",
       "      <td>458,00M</td>\n",
       "      <td>-3,52%</td>\n",
       "    </tr>\n",
       "    <tr>\n",
       "      <td>10.01.2010</td>\n",
       "      <td>2.940,25</td>\n",
       "      <td>3.030,42</td>\n",
       "      <td>3.044,37</td>\n",
       "      <td>2.939,04</td>\n",
       "      <td>371,40M</td>\n",
       "      <td>-2,57%</td>\n",
       "    </tr>\n",
       "    <tr>\n",
       "      <td>03.01.2010</td>\n",
       "      <td>3.017,85</td>\n",
       "      <td>2.974,86</td>\n",
       "      <td>3.025,60</td>\n",
       "      <td>2.974,86</td>\n",
       "      <td>322,81M</td>\n",
       "      <td>1,78%</td>\n",
       "    </tr>\n",
       "  </tbody>\n",
       "</table>\n",
       "<p>531 rows × 6 columns</p>\n",
       "</div>"
      ],
      "text/plain": [
       "              Ultimo  Apertura   Massimo    Minimo     Vol.   Var. %\n",
       "Data                                                                \n",
       "01.03.2020  3.232,07  3.355,33  3.448,24  3.216,44  394,04M   -2,93%\n",
       "23.02.2020  3.329,49  3.762,35  3.762,35  3.283,18  424,44M  -12,39%\n",
       "16.02.2020  3.800,38  3.843,10  3.867,28  3.776,82  207,41M   -1,06%\n",
       "09.02.2020  3.840,97  3.794,18  3.854,43  3.779,10  177,97M    1,12%\n",
       "02.02.2020  3.798,49  3.646,86  3.808,74  3.641,84  226,40M    4,33%\n",
       "...              ...       ...       ...       ...      ...      ...\n",
       "31.01.2010  2.631,64  2.763,88  2.842,61  2.631,64  642,07M   -5,23%\n",
       "24.01.2010  2.776,83  2.825,15  2.845,15  2.737,33  506,43M   -2,11%\n",
       "17.01.2010  2.836,80  2.949,94  2.990,50  2.806,51  458,00M   -3,52%\n",
       "10.01.2010  2.940,25  3.030,42  3.044,37  2.939,04  371,40M   -2,57%\n",
       "03.01.2010  3.017,85  2.974,86  3.025,60  2.974,86  322,81M    1,78%\n",
       "\n",
       "[531 rows x 6 columns]"
      ]
     },
     "execution_count": 21,
     "metadata": {},
     "output_type": "execute_result"
    }
   ],
   "source": [
    "euroStox50_df"
   ]
  },
  {
   "cell_type": "code",
   "execution_count": 30,
   "metadata": {},
   "outputs": [],
   "source": [
    "del euroStox50_df[\"Vol.\"] "
   ]
  },
  {
   "cell_type": "code",
   "execution_count": 32,
   "metadata": {},
   "outputs": [],
   "source": [
    "del euroStox50_df[\"Var. %\"] "
   ]
  },
  {
   "cell_type": "code",
   "execution_count": 35,
   "metadata": {},
   "outputs": [],
   "source": [
    "newEuroStox50_df = modInvestingComplete(euroStox50_df)"
   ]
  },
  {
   "cell_type": "code",
   "execution_count": 36,
   "metadata": {},
   "outputs": [
    {
     "data": {
      "text/html": [
       "<div>\n",
       "<style scoped>\n",
       "    .dataframe tbody tr th:only-of-type {\n",
       "        vertical-align: middle;\n",
       "    }\n",
       "\n",
       "    .dataframe tbody tr th {\n",
       "        vertical-align: top;\n",
       "    }\n",
       "\n",
       "    .dataframe thead th {\n",
       "        text-align: right;\n",
       "    }\n",
       "</style>\n",
       "<table border=\"1\" class=\"dataframe\">\n",
       "  <thead>\n",
       "    <tr style=\"text-align: right;\">\n",
       "      <th></th>\n",
       "      <th>Ultimo</th>\n",
       "      <th>Apertura</th>\n",
       "      <th>Massimo</th>\n",
       "      <th>Minimo</th>\n",
       "    </tr>\n",
       "  </thead>\n",
       "  <tbody>\n",
       "    <tr>\n",
       "      <td>2010-01-03</td>\n",
       "      <td>3017.85</td>\n",
       "      <td>2974.86</td>\n",
       "      <td>3025.60</td>\n",
       "      <td>2974.86</td>\n",
       "    </tr>\n",
       "    <tr>\n",
       "      <td>2010-01-10</td>\n",
       "      <td>2940.25</td>\n",
       "      <td>3030.42</td>\n",
       "      <td>3044.37</td>\n",
       "      <td>2939.04</td>\n",
       "    </tr>\n",
       "    <tr>\n",
       "      <td>2010-01-17</td>\n",
       "      <td>2836.80</td>\n",
       "      <td>2949.94</td>\n",
       "      <td>2990.50</td>\n",
       "      <td>2806.51</td>\n",
       "    </tr>\n",
       "    <tr>\n",
       "      <td>2010-01-24</td>\n",
       "      <td>2776.83</td>\n",
       "      <td>2825.15</td>\n",
       "      <td>2845.15</td>\n",
       "      <td>2737.33</td>\n",
       "    </tr>\n",
       "    <tr>\n",
       "      <td>2010-01-31</td>\n",
       "      <td>2631.64</td>\n",
       "      <td>2763.88</td>\n",
       "      <td>2842.61</td>\n",
       "      <td>2631.64</td>\n",
       "    </tr>\n",
       "    <tr>\n",
       "      <td>...</td>\n",
       "      <td>...</td>\n",
       "      <td>...</td>\n",
       "      <td>...</td>\n",
       "      <td>...</td>\n",
       "    </tr>\n",
       "    <tr>\n",
       "      <td>2020-02-02</td>\n",
       "      <td>3798.49</td>\n",
       "      <td>3646.86</td>\n",
       "      <td>3808.74</td>\n",
       "      <td>3641.84</td>\n",
       "    </tr>\n",
       "    <tr>\n",
       "      <td>2020-02-09</td>\n",
       "      <td>3840.97</td>\n",
       "      <td>3794.18</td>\n",
       "      <td>3854.43</td>\n",
       "      <td>3779.10</td>\n",
       "    </tr>\n",
       "    <tr>\n",
       "      <td>2020-02-16</td>\n",
       "      <td>3800.38</td>\n",
       "      <td>3843.10</td>\n",
       "      <td>3867.28</td>\n",
       "      <td>3776.82</td>\n",
       "    </tr>\n",
       "    <tr>\n",
       "      <td>2020-02-23</td>\n",
       "      <td>3329.49</td>\n",
       "      <td>3762.35</td>\n",
       "      <td>3762.35</td>\n",
       "      <td>3283.18</td>\n",
       "    </tr>\n",
       "    <tr>\n",
       "      <td>2020-03-01</td>\n",
       "      <td>3232.07</td>\n",
       "      <td>3355.33</td>\n",
       "      <td>3448.24</td>\n",
       "      <td>3216.44</td>\n",
       "    </tr>\n",
       "  </tbody>\n",
       "</table>\n",
       "<p>531 rows × 4 columns</p>\n",
       "</div>"
      ],
      "text/plain": [
       "             Ultimo  Apertura  Massimo   Minimo\n",
       "2010-01-03  3017.85   2974.86  3025.60  2974.86\n",
       "2010-01-10  2940.25   3030.42  3044.37  2939.04\n",
       "2010-01-17  2836.80   2949.94  2990.50  2806.51\n",
       "2010-01-24  2776.83   2825.15  2845.15  2737.33\n",
       "2010-01-31  2631.64   2763.88  2842.61  2631.64\n",
       "...             ...       ...      ...      ...\n",
       "2020-02-02  3798.49   3646.86  3808.74  3641.84\n",
       "2020-02-09  3840.97   3794.18  3854.43  3779.10\n",
       "2020-02-16  3800.38   3843.10  3867.28  3776.82\n",
       "2020-02-23  3329.49   3762.35  3762.35  3283.18\n",
       "2020-03-01  3232.07   3355.33  3448.24  3216.44\n",
       "\n",
       "[531 rows x 4 columns]"
      ]
     },
     "execution_count": 36,
     "metadata": {},
     "output_type": "execute_result"
    }
   ],
   "source": [
    "newEuroStox50_df"
   ]
  },
  {
   "cell_type": "code",
   "execution_count": 62,
   "metadata": {},
   "outputs": [],
   "source": [
    "euroStox50Close = newEuroStox50_df.loc[\"2010-02-15\":\"2020-02-17\", \"Ultimo\"]"
   ]
  },
  {
   "cell_type": "code",
   "execution_count": 63,
   "metadata": {},
   "outputs": [
    {
     "data": {
      "text/plain": [
       "2010-02-21    2728.47\n",
       "2010-02-28    2877.44\n",
       "2010-03-07    2898.36\n",
       "2010-03-14    2897.95\n",
       "2010-03-21    2940.94\n",
       "               ...   \n",
       "2020-01-19    3779.16\n",
       "2020-01-26    3640.91\n",
       "2020-02-02    3798.49\n",
       "2020-02-09    3840.97\n",
       "2020-02-16    3800.38\n",
       "Name: Ultimo, Length: 522, dtype: float64"
      ]
     },
     "execution_count": 63,
     "metadata": {},
     "output_type": "execute_result"
    }
   ],
   "source": [
    "euroStox50Close"
   ]
  },
  {
   "cell_type": "markdown",
   "metadata": {},
   "source": [
    "Now we can perform the log return computation with the usual approach: "
   ]
  },
  {
   "cell_type": "code",
   "execution_count": 64,
   "metadata": {},
   "outputs": [],
   "source": [
    "euroStox_t = euroStox50Close"
   ]
  },
  {
   "cell_type": "code",
   "execution_count": 65,
   "metadata": {},
   "outputs": [
    {
     "name": "stdout",
     "output_type": "stream",
     "text": [
      "2010-02-28    2728.47\n",
      "2010-03-07    2877.44\n",
      "2010-03-14    2898.36\n",
      "2010-03-21    2897.95\n",
      "2010-03-28    2940.94\n",
      "               ...   \n",
      "2020-01-26    3779.16\n",
      "2020-02-02    3640.91\n",
      "2020-02-09    3798.49\n",
      "2020-02-16    3840.97\n",
      "2020-02-23    3800.38\n",
      "Freq: W-SUN, Name: Ultimo, Length: 522, dtype: float64\n"
     ]
    }
   ],
   "source": [
    "euroStox_tm1 = euroStox_t .shift(periods=1, freq =\"1w\")\n",
    "print(euroStox_tm1)"
   ]
  },
  {
   "cell_type": "code",
   "execution_count": 66,
   "metadata": {},
   "outputs": [
    {
     "name": "stdout",
     "output_type": "stream",
     "text": [
      "2010-02-28    0.053160\n",
      "2010-03-07    0.007244\n",
      "2010-03-14   -0.000141\n",
      "2010-03-21    0.014726\n",
      "2010-03-28    0.012691\n",
      "                ...   \n",
      "2020-01-19   -0.007671\n",
      "2020-01-26   -0.037268\n",
      "2020-02-02    0.042370\n",
      "2020-02-09    0.011121\n",
      "2020-02-16   -0.010624\n",
      "Name: Ultimo, Length: 521, dtype: float64\n"
     ]
    }
   ],
   "source": [
    "euroStoxWkLogRet = np.log(euroStox_t) - np.log(euroStox_tm1)\n",
    "euroStoxWkLogRet =euroStoxWkLogRet.dropna()\n",
    "print(euroStoxWkLogRet)"
   ]
  },
  {
   "cell_type": "code",
   "execution_count": 68,
   "metadata": {},
   "outputs": [],
   "source": [
    "filePath = os.path.join(dataPath, \"EuroStox wk LogRet past 10y.csv\")"
   ]
  },
  {
   "cell_type": "code",
   "execution_count": 71,
   "metadata": {},
   "outputs": [],
   "source": [
    "euroStoxWkLogRet.to_csv(filePath)"
   ]
  },
  {
   "cell_type": "code",
   "execution_count": 72,
   "metadata": {},
   "outputs": [],
   "source": [
    "removeFile(filePath)"
   ]
  },
  {
   "cell_type": "markdown",
   "metadata": {},
   "source": [
    "#### Scatter plot"
   ]
  },
  {
   "cell_type": "code",
   "execution_count": 73,
   "metadata": {},
   "outputs": [
    {
     "data": {
      "text/plain": [
       "<matplotlib.collections.PathCollection at 0x1c261537c88>"
      ]
     },
     "execution_count": 73,
     "metadata": {},
     "output_type": "execute_result"
    },
    {
     "data": {
      "image/png": "[encoded data removed]",
      "text/plain": [
       "<Figure size 720x432 with 1 Axes>"
      ]
     },
     "metadata": {
      "needs_background": "light"
     },
     "output_type": "display_data"
    }
   ],
   "source": [
    "plt.figure(figsize=(10,6))\n",
    "plt.scatter(euroStoxWkLogRet, a2a_wkRet_df, marker ='o' )"
   ]
  },
  {
   "cell_type": "markdown",
   "metadata": {},
   "source": [
    "#### Regression "
   ]
  },
  {
   "cell_type": "code",
   "execution_count": 75,
   "metadata": {},
   "outputs": [],
   "source": [
    "model = LinearRegression()"
   ]
  },
  {
   "cell_type": "code",
   "execution_count": 76,
   "metadata": {},
   "outputs": [],
   "source": [
    "x = np.array(euroStoxWkLogRet).reshape((-1,1))\n",
    "y = np.array(a2a_wkRet_df)"
   ]
  },
  {
   "cell_type": "code",
   "execution_count": 77,
   "metadata": {},
   "outputs": [
    {
     "data": {
      "text/plain": [
       "LinearRegression(copy_X=True, fit_intercept=True, n_jobs=None, normalize=False)"
      ]
     },
     "execution_count": 77,
     "metadata": {},
     "output_type": "execute_result"
    }
   ],
   "source": [
    "model.fit(x,y)"
   ]
  },
  {
   "cell_type": "code",
   "execution_count": 78,
   "metadata": {},
   "outputs": [],
   "source": [
    "y_pred = model.predict(x)"
   ]
  },
  {
   "cell_type": "markdown",
   "metadata": {},
   "source": [
    "#### Regression results "
   ]
  },
  {
   "cell_type": "markdown",
   "metadata": {},
   "source": [
    "**1)** Intercept"
   ]
  },
  {
   "cell_type": "code",
   "execution_count": 79,
   "metadata": {},
   "outputs": [
    {
     "data": {
      "text/plain": [
       "array([0.00016752])"
      ]
     },
     "execution_count": 79,
     "metadata": {},
     "output_type": "execute_result"
    }
   ],
   "source": [
    "model.intercept_"
   ]
  },
  {
   "cell_type": "markdown",
   "metadata": {},
   "source": [
    "**2)** Slope = Regression beta "
   ]
  },
  {
   "cell_type": "code",
   "execution_count": 80,
   "metadata": {},
   "outputs": [
    {
     "data": {
      "text/plain": [
       "array([[0.87583609]])"
      ]
     },
     "execution_count": 80,
     "metadata": {},
     "output_type": "execute_result"
    }
   ],
   "source": [
    "model.coef_"
   ]
  },
  {
   "cell_type": "markdown",
   "metadata": {},
   "source": [
    "**3)** Goodness of fit: _R-Squared_"
   ]
  },
  {
   "cell_type": "code",
   "execution_count": null,
   "metadata": {},
   "outputs": [],
   "source": []
  },
  {
   "cell_type": "markdown",
   "metadata": {},
   "source": [
    "**4)** Graphical representation "
   ]
  },
  {
   "cell_type": "code",
   "execution_count": 81,
   "metadata": {},
   "outputs": [
    {
     "data": {
      "text/plain": [
       "[<matplotlib.lines.Line2D at 0x1c261f23048>]"
      ]
     },
     "execution_count": 81,
     "metadata": {},
     "output_type": "execute_result"
    },
    {
     "data": {
      "image/png": "[encoded data removed]",
      "text/plain": [
       "<Figure size 720x432 with 1 Axes>"
      ]
     },
     "metadata": {
      "needs_background": "light"
     },
     "output_type": "display_data"
    }
   ],
   "source": [
    "plt.figure(figsize=(10,6))\n",
    "plt.scatter(euroStoxWkLogRet, a2a_wkRet_df, marker ='o' )\n",
    "plt.plot(x,y_pred, 'r', lw= 2)"
   ]
  },
  {
   "cell_type": "markdown",
   "metadata": {},
   "source": [
    "### ETF Approach: utilities ETF (STOXX Europe 600 Utilities)"
   ]
  },
  {
   "cell_type": "markdown",
   "metadata": {},
   "source": [
    "Let's use now this index to check the trend of A2A against an index for similar businesses. "
   ]
  },
  {
   "cell_type": "code",
   "execution_count": 93,
   "metadata": {},
   "outputs": [],
   "source": [
    "filePath = os.path.join(dataPath, \"STOXX Europe 600 past 10y dirty.csv\")"
   ]
  },
  {
   "cell_type": "code",
   "execution_count": 94,
   "metadata": {},
   "outputs": [],
   "source": [
    "stoxEu_df = pd.read_csv(filePath,index_col= 0)"
   ]
  },
  {
   "cell_type": "code",
   "execution_count": 95,
   "metadata": {},
   "outputs": [
    {
     "data": {
      "text/html": [
       "<div>\n",
       "<style scoped>\n",
       "    .dataframe tbody tr th:only-of-type {\n",
       "        vertical-align: middle;\n",
       "    }\n",
       "\n",
       "    .dataframe tbody tr th {\n",
       "        vertical-align: top;\n",
       "    }\n",
       "\n",
       "    .dataframe thead th {\n",
       "        text-align: right;\n",
       "    }\n",
       "</style>\n",
       "<table border=\"1\" class=\"dataframe\">\n",
       "  <thead>\n",
       "    <tr style=\"text-align: right;\">\n",
       "      <th></th>\n",
       "      <th>Ultimo</th>\n",
       "      <th>Apertura</th>\n",
       "      <th>Massimo</th>\n",
       "      <th>Minimo</th>\n",
       "      <th>Vol.</th>\n",
       "      <th>Var. %</th>\n",
       "    </tr>\n",
       "    <tr>\n",
       "      <th>Data</th>\n",
       "      <th></th>\n",
       "      <th></th>\n",
       "      <th></th>\n",
       "      <th></th>\n",
       "      <th></th>\n",
       "      <th></th>\n",
       "    </tr>\n",
       "  </thead>\n",
       "  <tbody>\n",
       "    <tr>\n",
       "      <td>01.03.2020</td>\n",
       "      <td>379,09</td>\n",
       "      <td>375,03</td>\n",
       "      <td>402,71</td>\n",
       "      <td>368,87</td>\n",
       "      <td>120,04M</td>\n",
       "      <td>1,69%</td>\n",
       "    </tr>\n",
       "    <tr>\n",
       "      <td>23.02.2020</td>\n",
       "      <td>372,80</td>\n",
       "      <td>407,45</td>\n",
       "      <td>408,73</td>\n",
       "      <td>367,70</td>\n",
       "      <td>136,23M</td>\n",
       "      <td>-9,98%</td>\n",
       "    </tr>\n",
       "    <tr>\n",
       "      <td>16.02.2020</td>\n",
       "      <td>414,13</td>\n",
       "      <td>404,45</td>\n",
       "      <td>419,02</td>\n",
       "      <td>403,56</td>\n",
       "      <td>73,79M</td>\n",
       "      <td>2,49%</td>\n",
       "    </tr>\n",
       "    <tr>\n",
       "      <td>09.02.2020</td>\n",
       "      <td>404,08</td>\n",
       "      <td>392,16</td>\n",
       "      <td>404,12</td>\n",
       "      <td>389,85</td>\n",
       "      <td>77,69M</td>\n",
       "      <td>2,93%</td>\n",
       "    </tr>\n",
       "    <tr>\n",
       "      <td>02.02.2020</td>\n",
       "      <td>392,56</td>\n",
       "      <td>384,34</td>\n",
       "      <td>395,94</td>\n",
       "      <td>382,25</td>\n",
       "      <td>73,82M</td>\n",
       "      <td>2,18%</td>\n",
       "    </tr>\n",
       "    <tr>\n",
       "      <td>...</td>\n",
       "      <td>...</td>\n",
       "      <td>...</td>\n",
       "      <td>...</td>\n",
       "      <td>...</td>\n",
       "      <td>...</td>\n",
       "      <td>...</td>\n",
       "    </tr>\n",
       "    <tr>\n",
       "      <td>31.01.2010</td>\n",
       "      <td>314,49</td>\n",
       "      <td>325,05</td>\n",
       "      <td>331,64</td>\n",
       "      <td>314,32</td>\n",
       "      <td>9,75M</td>\n",
       "      <td>-3,52%</td>\n",
       "    </tr>\n",
       "    <tr>\n",
       "      <td>24.01.2010</td>\n",
       "      <td>325,96</td>\n",
       "      <td>333,09</td>\n",
       "      <td>333,71</td>\n",
       "      <td>324,75</td>\n",
       "      <td>9,31M</td>\n",
       "      <td>-2,33%</td>\n",
       "    </tr>\n",
       "    <tr>\n",
       "      <td>17.01.2010</td>\n",
       "      <td>333,72</td>\n",
       "      <td>338,38</td>\n",
       "      <td>344,64</td>\n",
       "      <td>332,57</td>\n",
       "      <td>10,20M</td>\n",
       "      <td>-1,00%</td>\n",
       "    </tr>\n",
       "    <tr>\n",
       "      <td>10.01.2010</td>\n",
       "      <td>337,08</td>\n",
       "      <td>345,10</td>\n",
       "      <td>347,15</td>\n",
       "      <td>336,87</td>\n",
       "      <td>8,40M</td>\n",
       "      <td>-2,14%</td>\n",
       "    </tr>\n",
       "    <tr>\n",
       "      <td>03.01.2010</td>\n",
       "      <td>344,46</td>\n",
       "      <td>343,30</td>\n",
       "      <td>345,59</td>\n",
       "      <td>339,81</td>\n",
       "      <td>8,74M</td>\n",
       "      <td>0,43%</td>\n",
       "    </tr>\n",
       "  </tbody>\n",
       "</table>\n",
       "<p>531 rows × 6 columns</p>\n",
       "</div>"
      ],
      "text/plain": [
       "            Ultimo Apertura Massimo  Minimo     Vol.  Var. %\n",
       "Data                                                        \n",
       "01.03.2020  379,09   375,03  402,71  368,87  120,04M   1,69%\n",
       "23.02.2020  372,80   407,45  408,73  367,70  136,23M  -9,98%\n",
       "16.02.2020  414,13   404,45  419,02  403,56   73,79M   2,49%\n",
       "09.02.2020  404,08   392,16  404,12  389,85   77,69M   2,93%\n",
       "02.02.2020  392,56   384,34  395,94  382,25   73,82M   2,18%\n",
       "...            ...      ...     ...     ...      ...     ...\n",
       "31.01.2010  314,49   325,05  331,64  314,32    9,75M  -3,52%\n",
       "24.01.2010  325,96   333,09  333,71  324,75    9,31M  -2,33%\n",
       "17.01.2010  333,72   338,38  344,64  332,57   10,20M  -1,00%\n",
       "10.01.2010  337,08   345,10  347,15  336,87    8,40M  -2,14%\n",
       "03.01.2010  344,46   343,30  345,59  339,81    8,74M   0,43%\n",
       "\n",
       "[531 rows x 6 columns]"
      ]
     },
     "execution_count": 95,
     "metadata": {},
     "output_type": "execute_result"
    }
   ],
   "source": [
    "stoxEu_df"
   ]
  },
  {
   "cell_type": "markdown",
   "metadata": {},
   "source": [
    "Usual corrections: "
   ]
  },
  {
   "cell_type": "code",
   "execution_count": 102,
   "metadata": {},
   "outputs": [],
   "source": [
    "del stoxEu_df[\"Vol.\"]"
   ]
  },
  {
   "cell_type": "code",
   "execution_count": 103,
   "metadata": {},
   "outputs": [],
   "source": [
    "del stoxEu_df[\"Var. %\"]"
   ]
  },
  {
   "cell_type": "code",
   "execution_count": 104,
   "metadata": {},
   "outputs": [],
   "source": [
    "newStoxEu_df = modInvestingComplete(stoxEu_df)"
   ]
  },
  {
   "cell_type": "code",
   "execution_count": 107,
   "metadata": {},
   "outputs": [],
   "source": [
    "stoxEuClose_t = newStoxEu_df.loc[\"2010-02-15\":\"2020-02-17\", \"Ultimo\"]"
   ]
  },
  {
   "cell_type": "code",
   "execution_count": 108,
   "metadata": {},
   "outputs": [
    {
     "data": {
      "text/plain": [
       "2010-02-21    319.80\n",
       "2010-02-28    326.16\n",
       "2010-03-07    329.78\n",
       "2010-03-14    327.81\n",
       "2010-03-21    330.03\n",
       "               ...  \n",
       "2020-01-19    386.41\n",
       "2020-01-26    384.18\n",
       "2020-02-02    392.56\n",
       "2020-02-09    404.08\n",
       "2020-02-16    414.13\n",
       "Name: Ultimo, Length: 522, dtype: float64"
      ]
     },
     "execution_count": 108,
     "metadata": {},
     "output_type": "execute_result"
    }
   ],
   "source": [
    "stoxEuClose_t"
   ]
  },
  {
   "cell_type": "code",
   "execution_count": 110,
   "metadata": {},
   "outputs": [],
   "source": [
    "stoxEuClose_tm1=stoxEuClose_t.shift(periods=1, freq = \"1w\")"
   ]
  },
  {
   "cell_type": "code",
   "execution_count": 113,
   "metadata": {},
   "outputs": [
    {
     "data": {
      "text/plain": [
       "2010-02-28    319.80\n",
       "2010-03-07    326.16\n",
       "2010-03-14    329.78\n",
       "2010-03-21    327.81\n",
       "2010-03-28    330.03\n",
       "               ...  \n",
       "2020-01-26    386.41\n",
       "2020-02-02    384.18\n",
       "2020-02-09    392.56\n",
       "2020-02-16    404.08\n",
       "2020-02-23    414.13\n",
       "Freq: W-SUN, Name: Ultimo, Length: 522, dtype: float64"
      ]
     },
     "execution_count": 113,
     "metadata": {},
     "output_type": "execute_result"
    }
   ],
   "source": [
    "stoxEuClose_tm1"
   ]
  },
  {
   "cell_type": "code",
   "execution_count": 114,
   "metadata": {},
   "outputs": [],
   "source": [
    "stoxEUWkLogRet = np.log(stoxEuClose_t) - np.log(stoxEuClose_tm1) \n",
    "stoxEUWkLogRet = stoxEUWkLogRet.dropna()"
   ]
  },
  {
   "cell_type": "markdown",
   "metadata": {},
   "source": [
    "**Scatter Plot** "
   ]
  },
  {
   "cell_type": "code",
   "execution_count": 115,
   "metadata": {},
   "outputs": [
    {
     "data": {
      "text/plain": [
       "<matplotlib.collections.PathCollection at 0x1c262108588>"
      ]
     },
     "execution_count": 115,
     "metadata": {},
     "output_type": "execute_result"
    },
    {
     "data": {
      "image/png": "[encoded data removed]",
      "text/plain": [
       "<Figure size 720x432 with 1 Axes>"
      ]
     },
     "metadata": {
      "needs_background": "light"
     },
     "output_type": "display_data"
    }
   ],
   "source": [
    "plt.figure(figsize=(10,6))\n",
    "plt.scatter(stoxEUWkLogRet, a2a_wkRet_df, marker ='o' )"
   ]
  },
  {
   "cell_type": "markdown",
   "metadata": {},
   "source": [
    "**Regression** "
   ]
  },
  {
   "cell_type": "code",
   "execution_count": 116,
   "metadata": {},
   "outputs": [],
   "source": [
    "model = LinearRegression()"
   ]
  },
  {
   "cell_type": "code",
   "execution_count": 117,
   "metadata": {},
   "outputs": [],
   "source": [
    "x = np.array(stoxEUWkLogRet).reshape((-1,1))\n",
    "y = np.array(a2a_wkRet_df)"
   ]
  },
  {
   "cell_type": "code",
   "execution_count": 118,
   "metadata": {},
   "outputs": [
    {
     "data": {
      "text/plain": [
       "LinearRegression(copy_X=True, fit_intercept=True, n_jobs=None, normalize=False)"
      ]
     },
     "execution_count": 118,
     "metadata": {},
     "output_type": "execute_result"
    }
   ],
   "source": [
    "model.fit(x,y)"
   ]
  },
  {
   "cell_type": "code",
   "execution_count": 119,
   "metadata": {},
   "outputs": [],
   "source": [
    "y_pred = model.predict(x)"
   ]
  },
  {
   "cell_type": "markdown",
   "metadata": {},
   "source": [
    "**1)** Intercept"
   ]
  },
  {
   "cell_type": "code",
   "execution_count": 120,
   "metadata": {},
   "outputs": [
    {
     "data": {
      "text/plain": [
       "array([0.00016472])"
      ]
     },
     "execution_count": 120,
     "metadata": {},
     "output_type": "execute_result"
    }
   ],
   "source": [
    "model.intercept_"
   ]
  },
  {
   "cell_type": "markdown",
   "metadata": {},
   "source": [
    "**2)** Slope "
   ]
  },
  {
   "cell_type": "code",
   "execution_count": 122,
   "metadata": {},
   "outputs": [
    {
     "data": {
      "text/plain": [
       "array([[1.12842347]])"
      ]
     },
     "execution_count": 122,
     "metadata": {},
     "output_type": "execute_result"
    }
   ],
   "source": [
    "model.coef_"
   ]
  },
  {
   "cell_type": "markdown",
   "metadata": {},
   "source": [
    "**3)** Graphical representation"
   ]
  },
  {
   "cell_type": "code",
   "execution_count": 123,
   "metadata": {},
   "outputs": [
    {
     "data": {
      "text/plain": [
       "[<matplotlib.lines.Line2D at 0x1c262087e08>]"
      ]
     },
     "execution_count": 123,
     "metadata": {},
     "output_type": "execute_result"
    },
    {
     "data": {
      "image/png": "[encoded data removed]",
      "text/plain": [
       "<Figure size 720x432 with 1 Axes>"
      ]
     },
     "metadata": {
      "needs_background": "light"
     },
     "output_type": "display_data"
    }
   ],
   "source": [
    "plt.figure(figsize=(10,6))\n",
    "plt.scatter(stoxEUWkLogRet, a2a_wkRet_df, marker ='o' )\n",
    "plt.plot(x,y_pred, 'r', lw= 2)"
   ]
  },
  {
   "cell_type": "markdown",
   "metadata": {},
   "source": [
    "### 3.2) Bottom-up beta: use of fundamentals <a name=\"3.2\"></a>"
   ]
  },
  {
   "cell_type": "markdown",
   "metadata": {},
   "source": [
    "The beta is determined by fundamental decisions that the firm has made, how much operating leverage to use and the degree of financial leverage settled. \n",
    "\n",
    "So, summarizing, the beta is determined by three variables: \n",
    "\n",
    "- 1) The type of business or businesses the firm is in \n",
    "\n",
    "Since betas measure the risk of a firm relative to a market index, the more sensitive a business is the higher will be its beta. Thus cyclical firms (housing or automotive e.g.) operating in sectors sensitive to economic conditios will have higher betas than companies operating in food or other sectors insensitive to market cycles. \n",
    "\n",
    "A2A mainly operates in utilities sector, which is likely to be less sensitive to business cycles than others (Coronavirus notwithstanding). \n",
    "\n",
    "- 2) The degree of operating leverage in the firm \n",
    "\n",
    "It's a function of the _cost structure_ of a firm . A firm that has high operating leverage (high fixed costs relative to total ones) will have higher variability in operating income and viceversa. \n",
    "The higher variance in EBIT will lead to a higher betas (this is a rationale for why small firms should have higher betas with respect to stable ones: niche products and fewer economies of scale). \n",
    "\n",
    " \n",
    "- 3) The firm's financial leverage \n",
    "\n",
    "Ceteris paribus, an increase in financial leverage will increase the **equity beta** (which is different from _asset/unlevered beta_) of a firm: high leverage increases the variance in earnings per share (due to interest payments) making the equity investment riskier. \n",
    "\n",
    "\n",
    "\n"
   ]
  },
  {
   "cell_type": "markdown",
   "metadata": {},
   "source": [
    "The following formula illustrates it: \n",
    "\n",
    "**Asset beta as weighted average of \"equity Beta\" and \"beta of Debt\"** \n",
    "\n",
    "$\\beta_{a}$ = $\\beta_{e}$ $\\times\\frac{E}{E+D}$ $+$ $\\beta_{d}$ $\\times\\frac{D}{E+D}$ \n",
    "\n",
    "Where $\\beta_{a}$ stands for operating beta of the firm, with respect its operativity (type of business, operating leverage). \n",
    "\n",
    "If we assume that all of the firm's risk is owned by stockholders (i.e. $\\beta_{d}$ = 0 ) and that debt creates a tax benefit ( we substitute D with $D$ $\\times$ $(1-t)$ ) we get, solving for equity beta the following formula:  \n",
    "\n",
    "$\\beta_{e}$ = $\\beta_{a}$ $\\times\\frac{D \\times (1-t)} {E}$ that is the same as $\\beta_{L}$ = $\\beta_{U}$ $\\times\\frac{D \\times (1-t)} {E}$\n",
    "\n",
    "with\n",
    "\n",
    "- $\\beta_{U}$ = **Unlevered beta** of the firm (the beta of the firm without any debt):  it's determined by the types of the businesses in which it operates and its operating leverage. Often, as seen, referred to as the asset beta.\n",
    "\n",
    "\n",
    "- $\\beta_{L}$ = **Levered beta** for equity in the firm : it's determined both by riskness of the business it operates in as well as the amount of financial leverage risk it has taken.  The higher the debt to equity ratio (which captures the financial leverage of the firm) the higher will be the levered beta. \n",
    "\n",
    "\n",
    "\n",
    "- $(1-t)$ = the tax shield effect generated at a marginal tax rate \n",
    "\n",
    "**Remark** this formalization refers to the hypothesis in which debt has null beta, we can reformulate it assuming a positive value for it from starting equation. "
   ]
  },
  {
   "cell_type": "markdown",
   "metadata": {},
   "source": [
    "#### How to break down betas into fundamentals "
   ]
  },
  {
   "cell_type": "markdown",
   "metadata": {},
   "source": [
    "Breaking down betas into their business, operating leverage and financial leverage components provides us with an alternative way of estimating betas without using historical returns of that asset. \n",
    "\n",
    "According to the following _lemma_ beta of two assets put together is a weighted average of the individual asset betas with weights their market values. Therefore the beta for a firm is a weighted average of betas of all different businesses it operates in. \n",
    "\n",
    "**Bottom-up beta work-around** \n",
    "\n",
    "1) Identify the business which A2A operates in: we will make our assumptions according to latest consolidated balance sheet [(sec. Business Units pag.50)](http://www.1info.it/PORTALE1INFO/Pdf/Pdf?pdf=86208_oneinfo&data=2020&filetype=documenti&titolo=). \n",
    "\n",
    "2) Use sectors average betas: [from Damodaran's database](http://pages.stern.nyu.edu/~adamodar/) we can find useful proxies in order to compute a better Bottom up Beta. **Notice** due to the fact the unlevered beta obtained for a business may be affected by cash holdings of firms in the comparable firms' list we will use the adjusted version for cash. \n",
    "\n",
    "3) Unlevered beta of the specific firm: weighted average of the unlevered betas of business it operates in with weights the proportion of firm value derived from each business (we will refer to revenues for every business units). This operation yields to the bottom-up unlevered beta. \n",
    "\n",
    "4) According to the current debt to equity ratio for the firm (using market values if available) we can estimate the levered beta for the firm. \n",
    "\n",
    "\n",
    "\n"
   ]
  },
  {
   "cell_type": "markdown",
   "metadata": {},
   "source": [
    "#### Bottom-up levered beta computation "
   ]
  },
  {
   "cell_type": "markdown",
   "metadata": {},
   "source": [
    "Assumptions: \n",
    "\n",
    "- According to latest discloses most of A2A's results came from: Generation and Trading (inter-sector), Market, Waste and Networks. \n",
    "\n",
    "- We make some assumptions with respect each of thre main business units in which we localize 5 main industries: Asset management, Green and renewable energies, environment and waste, utilities (general and water) and gas distribution.\n",
    "The assumptions are the following: we consider 25 % of all energy from renewable production, we consider revenues values less inter-contribution and associate respectively Generation and Trading to asset management, Waste to waste sector and divide revenues from Market and Networks among remaining industries (25% of energy production is devoted to renewable sector). \n",
    "\n",
    "Anyway, given this strictly assumptions we get, probably, an inconsistent result [See Bottom up beta in Simone's part excel worksheet](#https://github.com/simonelucchesi/Corporate-project-/blob/master/Project/Work%20in%20progress/Simone's%20part.xlsx).  \n"
   ]
  },
  {
   "cell_type": "markdown",
   "metadata": {},
   "source": [
    "---"
   ]
  },
  {
   "cell_type": "markdown",
   "metadata": {},
   "source": [
    "### 4) From cost of equity to cost of capital <a name=\"4\"></a>"
   ]
  },
  {
   "cell_type": "markdown",
   "metadata": {},
   "source": [
    "Most businesses finance some of their operations using debt or hybrids. The cost of these sources are different from cost of equity. \n",
    "\n",
    "Cost of capital is the weighted average of the costs of the different components of financing (equity, equity equivalents, debt and debt equivalents). \n",
    "\n",
    "**WACC APPROACH** \n",
    "\n",
    "We will follow the most widely used approach which involves estimating both costs and taking their weighted average in order to comput the cost of capital of the firm. "
   ]
  },
  {
   "cell_type": "markdown",
   "metadata": {},
   "source": [
    "### Cost of debt according to firm ratings <a name = \"4.1\"></a> "
   ]
  },
  {
   "cell_type": "markdown",
   "metadata": {},
   "source": [
    "Cost of debt measures the current cost to the firm of borrowing funds for financing its assets. \n",
    "We consider it as a function of default risk that lenders perceive in the firm. \n",
    "\n",
    "**Default risk models**\n",
    "\n",
    "Models of default risk measure the consequences of firm specific _default risk_ , function of the following variables: \n",
    "\n",
    "- firm's capacity to generate cash flows from operations \n",
    "\n",
    "- its financial oblication, including interest and principal payments\n",
    "\n",
    "- volatility in its cash flows: the most stability there is in cash flows the lower default risk in the firm. \n",
    "\n",
    "\n",
    "**Measuring default risk** \n",
    "\n",
    "The most widely used measure of a firm's default risk is its bond rating assigned by ratings agency (i.g. S&P). \n",
    "\n",
    "To be consistent with previous analysis should be used S&P rating for A2A which is given by BBB (categorized as investment grade). \n",
    "\n",
    "Relating to this one we should consider as proper default spread the spread between risk free rate (computed over german bunds) and a BBB financial entity such as 10 Y BTP: in this case we would have the following result:\n",
    "\n",
    "Cost of debt for A2A = risk free rate + CDS (10Y Btp spread against 10Y bund). \n"
   ]
  },
  {
   "cell_type": "markdown",
   "metadata": {},
   "source": [
    "### A2A bond's yield to maturity, a relevant indicator for cost of debt <a name=\"4.2\"></a>"
   ]
  },
  {
   "cell_type": "markdown",
   "metadata": {},
   "source": [
    "Anyway, due to the fact A2A has bond issues on the market we could use as a indicator for its cost of debt the current yield to maturity for that asset. \n",
    "\n",
    "A2A in latest years have issued several 10 years duration bonds with different gross yield to maturity: the main outstanding ones are the [following](#https://www.a2a.eu/it/investitori/debito):\n",
    "\n",
    "**Notice** Due to the fact we are relying to values at 31/12/2019 we consider coupon dates already passed at valuation time to occurr. \n",
    "\n",
    "1) Euro Bond 2021 (partial): yield to maturity (gross) 4,375%, maturity: 10/01/2021, yearly coupon (next: 10/01/2020), coupons to pay 2, outstanding bonds 351.457.000 . \n",
    "\n",
    "\n",
    "\n",
    "2) Euro Bond 2022: yield to maturity (gross) 3,688%, maturity: 13/01/2022, yearly coupon (next: 13/01/20) coupons to pay 3, outstanding bonds 500.000.000. \n",
    "\n",
    "3) Private: yield to maturity (gross) 4,057%, maturity: 04/12/2023, yearly coupon (next: 04/12/20) coupons to pay 4, outstanding bonds 300.000.000. \n",
    "\n",
    "4) Private: yield to maturity (gross) 1,284%, maturity: 16/03/2024, yearly coupon (next: 16/03/20) coupons to pay 5, outstanding bonds 300.000.000. \n",
    "\n",
    "\n",
    "5) Euro Bond 2025: yield to maturity 1,836%, maturity: 25/02/25, yearly coupon (next: 25/02/20) coupons to pay 6, outstanding bonds 300.000.000. \n",
    "\n",
    "6) Euro Bond 2027: yield to maturity 1,768%, maturity: 19/10/27, yearly coupon (next: 19/10/20) coupons to pay 8, outstanding bonds 300.000.000.\n",
    "\n",
    "7) Euro Green Bond 2029: yield to maturity 1,139%, maturity: 16/07/2029, yearlu coupon (next: 16/07/20) coupons to pay 10, outstanding bonds 400.000.000.\n",
    "\n",
    "As we can see the trend is oriented to reduce them, a proper idea could be compute a sort of average yield to maturity return using as bases the outstanding amount of debt and residual time to maturity for each one. \n"
   ]
  },
  {
   "cell_type": "markdown",
   "metadata": {},
   "source": [
    "Let's try to compute it:"
   ]
  },
  {
   "cell_type": "code",
   "execution_count": 218,
   "metadata": {},
   "outputs": [],
   "source": [
    "df = pd.DataFrame(data={\"ytm\":[0.04375, 0.03688, 0.04057, 0.01284, 0.01836, 0.01768,0.0139],\n",
    "                           \"resCoup\":[2,3,4,5,6,8,10],\n",
    "                     \"Outstanding bonds\": [351.457,500,300,300,300,300,400]},\n",
    "                     index = [\"Bond2021\",\"Bond2022\",\"Bond2023\",\"Bond2024\",\"Bond2025\",\"bond2027\",\"bond2029\"]) \n"
   ]
  },
  {
   "cell_type": "code",
   "execution_count": 219,
   "metadata": {
    "scrolled": true
   },
   "outputs": [
    {
     "data": {
      "text/html": [
       "<div>\n",
       "<style scoped>\n",
       "    .dataframe tbody tr th:only-of-type {\n",
       "        vertical-align: middle;\n",
       "    }\n",
       "\n",
       "    .dataframe tbody tr th {\n",
       "        vertical-align: top;\n",
       "    }\n",
       "\n",
       "    .dataframe thead th {\n",
       "        text-align: right;\n",
       "    }\n",
       "</style>\n",
       "<table border=\"1\" class=\"dataframe\">\n",
       "  <thead>\n",
       "    <tr style=\"text-align: right;\">\n",
       "      <th></th>\n",
       "      <th>ytm</th>\n",
       "      <th>resCoup</th>\n",
       "      <th>Outstanding bonds</th>\n",
       "    </tr>\n",
       "  </thead>\n",
       "  <tbody>\n",
       "    <tr>\n",
       "      <td>Bond2021</td>\n",
       "      <td>0.04375</td>\n",
       "      <td>2</td>\n",
       "      <td>351.457</td>\n",
       "    </tr>\n",
       "    <tr>\n",
       "      <td>Bond2022</td>\n",
       "      <td>0.03688</td>\n",
       "      <td>3</td>\n",
       "      <td>500.000</td>\n",
       "    </tr>\n",
       "    <tr>\n",
       "      <td>Bond2023</td>\n",
       "      <td>0.04057</td>\n",
       "      <td>4</td>\n",
       "      <td>300.000</td>\n",
       "    </tr>\n",
       "    <tr>\n",
       "      <td>Bond2024</td>\n",
       "      <td>0.01284</td>\n",
       "      <td>5</td>\n",
       "      <td>300.000</td>\n",
       "    </tr>\n",
       "    <tr>\n",
       "      <td>Bond2025</td>\n",
       "      <td>0.01836</td>\n",
       "      <td>6</td>\n",
       "      <td>300.000</td>\n",
       "    </tr>\n",
       "    <tr>\n",
       "      <td>bond2027</td>\n",
       "      <td>0.01768</td>\n",
       "      <td>8</td>\n",
       "      <td>300.000</td>\n",
       "    </tr>\n",
       "    <tr>\n",
       "      <td>bond2029</td>\n",
       "      <td>0.01390</td>\n",
       "      <td>10</td>\n",
       "      <td>400.000</td>\n",
       "    </tr>\n",
       "  </tbody>\n",
       "</table>\n",
       "</div>"
      ],
      "text/plain": [
       "              ytm  resCoup  Outstanding bonds\n",
       "Bond2021  0.04375        2            351.457\n",
       "Bond2022  0.03688        3            500.000\n",
       "Bond2023  0.04057        4            300.000\n",
       "Bond2024  0.01284        5            300.000\n",
       "Bond2025  0.01836        6            300.000\n",
       "bond2027  0.01768        8            300.000\n",
       "bond2029  0.01390       10            400.000"
      ]
     },
     "execution_count": 219,
     "metadata": {},
     "output_type": "execute_result"
    }
   ],
   "source": [
    "df"
   ]
  },
  {
   "cell_type": "code",
   "execution_count": 220,
   "metadata": {},
   "outputs": [],
   "source": [
    "dataPath = \"../Project\""
   ]
  },
  {
   "cell_type": "code",
   "execution_count": 222,
   "metadata": {},
   "outputs": [],
   "source": [
    "filePath = os.path.join(dataPath,\"a2aDebtComposition.xlsx\")"
   ]
  },
  {
   "cell_type": "code",
   "execution_count": 223,
   "metadata": {},
   "outputs": [],
   "source": [
    "df.to_excel(filePath,sheet_name=\"a2aDebtComposition\")"
   ]
  },
  {
   "cell_type": "code",
   "execution_count": 224,
   "metadata": {},
   "outputs": [],
   "source": [
    "weights = df[\"ytm\"]*df[\"resCoup\"]*df[\"Outstanding bonds\"]"
   ]
  },
  {
   "cell_type": "code",
   "execution_count": 225,
   "metadata": {},
   "outputs": [
    {
     "data": {
      "text/plain": [
       "Bond2021    30.752487\n",
       "Bond2022    55.320000\n",
       "Bond2023    48.684000\n",
       "Bond2024    19.260000\n",
       "Bond2025    33.048000\n",
       "bond2027    42.432000\n",
       "bond2029    55.600000\n",
       "dtype: float64"
      ]
     },
     "execution_count": 225,
     "metadata": {},
     "output_type": "execute_result"
    }
   ],
   "source": [
    "weights"
   ]
  },
  {
   "cell_type": "code",
   "execution_count": 226,
   "metadata": {},
   "outputs": [],
   "source": [
    "totalDen = (df[\"Outstanding bonds\"]*df[\"resCoup\"]).sum()\n",
    "totalNum = weights.sum()"
   ]
  },
  {
   "cell_type": "code",
   "execution_count": 227,
   "metadata": {},
   "outputs": [
    {
     "name": "stdout",
     "output_type": "stream",
     "text": [
      "0.021758250683779193\n"
     ]
    }
   ],
   "source": [
    "avgCostOfDebt = totalNum/totalDen\n",
    "print(avgCostOfDebt)"
   ]
  },
  {
   "cell_type": "markdown",
   "metadata": {},
   "source": [
    "This could be a consistent result for our purposes. "
   ]
  },
  {
   "cell_type": "markdown",
   "metadata": {},
   "source": [
    "**Net of taxes cost of debt**: "
   ]
  },
  {
   "cell_type": "code",
   "execution_count": 228,
   "metadata": {},
   "outputs": [],
   "source": [
    "avgCDNet = avgCostOfDebt*(1-0.279)\n"
   ]
  },
  {
   "cell_type": "code",
   "execution_count": 229,
   "metadata": {},
   "outputs": [
    {
     "data": {
      "text/plain": [
       "0.015687698743004796"
      ]
     },
     "execution_count": 229,
     "metadata": {},
     "output_type": "execute_result"
    }
   ],
   "source": [
    "avgCDNet"
   ]
  }
 ],
 "metadata": {
  "kernelspec": {
   "display_name": "Python 3",
   "language": "python",
   "name": "python3"
  },
  "language_info": {
   "codemirror_mode": {
    "name": "ipython",
    "version": 3
   },
   "file_extension": ".py",
   "mimetype": "text/x-python",
   "name": "python",
   "nbconvert_exporter": "python",
   "pygments_lexer": "ipython3",
   "version": "3.7.4"
  }
 },
 "nbformat": 4,
 "nbformat_minor": 2
}
