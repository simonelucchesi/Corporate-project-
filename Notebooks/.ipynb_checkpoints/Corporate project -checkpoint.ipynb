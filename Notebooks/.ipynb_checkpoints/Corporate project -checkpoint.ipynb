{
 "cells": [
  {
   "cell_type": "code",
   "execution_count": 1,
   "metadata": {},
   "outputs": [],
   "source": [
    "import numpy as np \n",
    "import pandas as pd \n",
    "import os \n",
    "import matplotlib.pyplot as plt \n",
    "\n",
    "%matplotlib inline \n"
   ]
  },
  {
   "cell_type": "code",
   "execution_count": 2,
   "metadata": {},
   "outputs": [],
   "source": [
    "import yfinance as yf "
   ]
  },
  {
   "cell_type": "code",
   "execution_count": 3,
   "metadata": {},
   "outputs": [],
   "source": [
    "def changeCAndV(dataFrame):\n",
    "  \n",
    "    \"\"\"\"\n",
    "    With this function I remove points and convert commas into points for every dataframe column. Thereafter I convert strings\n",
    "    to float data type for each element in columns. \n",
    "    This is a correction needed to import dataframes from Investing csv's. \n",
    "    \n",
    "    changeCAndV(dataFrame) function first of all converts respectively \".\" to \" \" and \",\" to \".\" in dataFrames according to American convention. \n",
    "    Then it transform each value in each column from strings to float data type. \n",
    "    \n",
    "    Parameter: \n",
    "        (dataFrame): dataFrame data structure I imported from Investing.com, each element is a string. \n",
    "         \n",
    "    Results:\n",
    "        (dataFrame): the same data frame with values converted to make data analysis.  \n",
    "    \"\"\"\n",
    "   \n",
    "    for col in dataFrame:\n",
    "        \n",
    "        for i in range(len(dataFrame[col])):\n",
    "            \n",
    "            dataFrame[col][i] =  dataFrame[col][i].replace('.','').replace(',','.')\n",
    "            \n",
    "    \n",
    "    for col in dataFrame:\n",
    "            \n",
    "        dataFrame[col] = dataFrame[col].astype(float)\n",
    "   \n",
    "\n",
    "\n",
    "    dataFrame = dataFrame.iloc[::-1]\n",
    "\n",
    "        \n",
    "    return dataFrame\n",
    "\n"
   ]
  },
  {
   "cell_type": "code",
   "execution_count": 4,
   "metadata": {},
   "outputs": [],
   "source": [
    "def removeFile(fileName):\n",
    "    \"\"\"\n",
    "    removeFile(fileName) function remove file 'fileName', if it exists. It also prints on screen a success/failure message.\n",
    "    \n",
    "    Parameters:\n",
    "        fileName (str): name of the file ('Data' folder is assumed)\n",
    "        \n",
    "    Returns:\n",
    "        None\n",
    "    \"\"\"\n",
    "\n",
    "    if os.path.isfile(os.path.join(dataFolderPath, fileName)):\n",
    "        os.remove(os.path.join(dataFolderPath, fileName))\n",
    "\n",
    "        # double-check if file still exists\n",
    "        fileStillExists = os.path.isfile(os.path.join(dataFolderPath, fileName))\n",
    "\n",
    "        if fileStillExists:\n",
    "            print(\"Failure: file {} still exists...\".format(fileName))\n",
    "        else:\n",
    "            print(\"Success: file {} successfully removed!\".format(fileName))\n",
    "            \n",
    "    else:\n",
    "        print(\"File {} already removed.\".format(fileName))"
   ]
  },
  {
   "cell_type": "code",
   "execution_count": 5,
   "metadata": {},
   "outputs": [],
   "source": [
    "dataFolderPath = \"./data\""
   ]
  },
  {
   "cell_type": "code",
   "execution_count": 6,
   "metadata": {},
   "outputs": [],
   "source": [
    "if not os.path.exists(dataFolderPath):\n",
    "    os.makedirs(dataFolderPath)"
   ]
  },
  {
   "cell_type": "code",
   "execution_count": 7,
   "metadata": {},
   "outputs": [
    {
     "data": {
      "text/plain": [
       "True"
      ]
     },
     "execution_count": 7,
     "metadata": {},
     "output_type": "execute_result"
    }
   ],
   "source": [
    "os.path.exists(dataFolderPath)"
   ]
  },
  {
   "cell_type": "code",
   "execution_count": 20,
   "metadata": {},
   "outputs": [],
   "source": [
    "ftse = yf.Ticker(\"FTSEMIB.MI\")"
   ]
  },
  {
   "cell_type": "code",
   "execution_count": 8,
   "metadata": {},
   "outputs": [],
   "source": [
    "a2a = yf.Ticker(\"A2A.MI\")"
   ]
  },
  {
   "cell_type": "markdown",
   "metadata": {},
   "source": [
    "--- "
   ]
  },
  {
   "cell_type": "code",
   "execution_count": 31,
   "metadata": {},
   "outputs": [],
   "source": [
    "import json "
   ]
  },
  {
   "cell_type": "code",
   "execution_count": 32,
   "metadata": {},
   "outputs": [],
   "source": [
    "#filePath = os.path.join(dataFolderPath, \"ftseMib.json\")\n",
    "pathFile = os.path.join(dataFolderPath, \"a2a.json\")"
   ]
  },
  {
   "cell_type": "code",
   "execution_count": 33,
   "metadata": {},
   "outputs": [],
   "source": [
    "downloadData = True  "
   ]
  },
  {
   "cell_type": "markdown",
   "metadata": {},
   "source": [
    "Here, ticker.info doesn't work for A2A company. "
   ]
  },
  {
   "cell_type": "code",
   "execution_count": 35,
   "metadata": {},
   "outputs": [],
   "source": [
    "#if downloadData: \n",
    "   # ftse_info = ftse.info \n",
    " #   a2a_history = a2a.history \n",
    "   # with open(filePath ,'w') as file: \n",
    "    #    json.dump(ftse_info,file)\n",
    "    \n",
    "  #  with open(pathFile, 'w') as file_two:\n",
    "    #    json.dump(a2a_history,file_two)\n",
    "    \n",
    "   # downloadData = False\n",
    "    \n",
    "# else: \n",
    " #  with open(filePath, 'r') as file: \n",
    "  #      ftse_info = json.load(file)"
   ]
  },
  {
   "cell_type": "code",
   "execution_count": 51,
   "metadata": {},
   "outputs": [],
   "source": [
    "#ftse_info"
   ]
  },
  {
   "cell_type": "code",
   "execution_count": 52,
   "metadata": {},
   "outputs": [],
   "source": [
    "#nexi_info"
   ]
  },
  {
   "cell_type": "code",
   "execution_count": 53,
   "metadata": {},
   "outputs": [],
   "source": [
    "#removeFile(pathFile)"
   ]
  },
  {
   "cell_type": "code",
   "execution_count": 37,
   "metadata": {},
   "outputs": [],
   "source": [
    "a2a_history =a2a.history(period = \"max\", interval =\"1wk\")"
   ]
  },
  {
   "cell_type": "code",
   "execution_count": 38,
   "metadata": {},
   "outputs": [
    {
     "data": {
      "text/html": [
       "<div>\n",
       "<style scoped>\n",
       "    .dataframe tbody tr th:only-of-type {\n",
       "        vertical-align: middle;\n",
       "    }\n",
       "\n",
       "    .dataframe tbody tr th {\n",
       "        vertical-align: top;\n",
       "    }\n",
       "\n",
       "    .dataframe thead th {\n",
       "        text-align: right;\n",
       "    }\n",
       "</style>\n",
       "<table border=\"1\" class=\"dataframe\">\n",
       "  <thead>\n",
       "    <tr style=\"text-align: right;\">\n",
       "      <th></th>\n",
       "      <th>Open</th>\n",
       "      <th>High</th>\n",
       "      <th>Low</th>\n",
       "      <th>Close</th>\n",
       "      <th>Volume</th>\n",
       "      <th>Dividends</th>\n",
       "      <th>Stock Splits</th>\n",
       "    </tr>\n",
       "    <tr>\n",
       "      <th>Date</th>\n",
       "      <th></th>\n",
       "      <th></th>\n",
       "      <th></th>\n",
       "      <th></th>\n",
       "      <th></th>\n",
       "      <th></th>\n",
       "      <th></th>\n",
       "    </tr>\n",
       "  </thead>\n",
       "  <tbody>\n",
       "    <tr>\n",
       "      <td>2000-01-03</td>\n",
       "      <td>1.9766</td>\n",
       "      <td>2.0353</td>\n",
       "      <td>1.6537</td>\n",
       "      <td>1.8885</td>\n",
       "      <td>40860000.0</td>\n",
       "      <td>0.0</td>\n",
       "      <td>0</td>\n",
       "    </tr>\n",
       "    <tr>\n",
       "      <td>2000-01-10</td>\n",
       "      <td>1.9423</td>\n",
       "      <td>1.9423</td>\n",
       "      <td>1.7662</td>\n",
       "      <td>1.9326</td>\n",
       "      <td>30296000.0</td>\n",
       "      <td>0.0</td>\n",
       "      <td>0</td>\n",
       "    </tr>\n",
       "    <tr>\n",
       "      <td>2000-01-17</td>\n",
       "      <td>1.9326</td>\n",
       "      <td>1.9472</td>\n",
       "      <td>1.8102</td>\n",
       "      <td>1.8494</td>\n",
       "      <td>37283000.0</td>\n",
       "      <td>0.0</td>\n",
       "      <td>0</td>\n",
       "    </tr>\n",
       "    <tr>\n",
       "      <td>2000-01-24</td>\n",
       "      <td>1.8494</td>\n",
       "      <td>2.2848</td>\n",
       "      <td>1.8005</td>\n",
       "      <td>2.1380</td>\n",
       "      <td>65382000.0</td>\n",
       "      <td>0.0</td>\n",
       "      <td>0</td>\n",
       "    </tr>\n",
       "    <tr>\n",
       "      <td>2000-01-31</td>\n",
       "      <td>2.0842</td>\n",
       "      <td>2.3582</td>\n",
       "      <td>2.0549</td>\n",
       "      <td>2.3044</td>\n",
       "      <td>50591000.0</td>\n",
       "      <td>0.0</td>\n",
       "      <td>0</td>\n",
       "    </tr>\n",
       "    <tr>\n",
       "      <td>...</td>\n",
       "      <td>...</td>\n",
       "      <td>...</td>\n",
       "      <td>...</td>\n",
       "      <td>...</td>\n",
       "      <td>...</td>\n",
       "      <td>...</td>\n",
       "      <td>...</td>\n",
       "    </tr>\n",
       "    <tr>\n",
       "      <td>2020-04-06</td>\n",
       "      <td>1.1735</td>\n",
       "      <td>1.2450</td>\n",
       "      <td>1.1555</td>\n",
       "      <td>1.2025</td>\n",
       "      <td>62164737.0</td>\n",
       "      <td>0.0</td>\n",
       "      <td>0</td>\n",
       "    </tr>\n",
       "    <tr>\n",
       "      <td>2020-04-13</td>\n",
       "      <td>1.2025</td>\n",
       "      <td>1.2600</td>\n",
       "      <td>1.2005</td>\n",
       "      <td>1.2495</td>\n",
       "      <td>62278404.0</td>\n",
       "      <td>0.0</td>\n",
       "      <td>0</td>\n",
       "    </tr>\n",
       "    <tr>\n",
       "      <td>2020-04-20</td>\n",
       "      <td>1.2580</td>\n",
       "      <td>1.2695</td>\n",
       "      <td>1.1930</td>\n",
       "      <td>1.2210</td>\n",
       "      <td>53375910.0</td>\n",
       "      <td>0.0</td>\n",
       "      <td>0</td>\n",
       "    </tr>\n",
       "    <tr>\n",
       "      <td>2020-04-27</td>\n",
       "      <td>1.2480</td>\n",
       "      <td>1.2600</td>\n",
       "      <td>1.2080</td>\n",
       "      <td>1.2340</td>\n",
       "      <td>29229130.0</td>\n",
       "      <td>0.0</td>\n",
       "      <td>0</td>\n",
       "    </tr>\n",
       "    <tr>\n",
       "      <td>2020-04-30</td>\n",
       "      <td>1.2450</td>\n",
       "      <td>1.2485</td>\n",
       "      <td>1.2350</td>\n",
       "      <td>1.2410</td>\n",
       "      <td>2176821.0</td>\n",
       "      <td>0.0</td>\n",
       "      <td>0</td>\n",
       "    </tr>\n",
       "  </tbody>\n",
       "</table>\n",
       "<p>1081 rows × 7 columns</p>\n",
       "</div>"
      ],
      "text/plain": [
       "              Open    High     Low   Close      Volume  Dividends  \\\n",
       "Date                                                                \n",
       "2000-01-03  1.9766  2.0353  1.6537  1.8885  40860000.0        0.0   \n",
       "2000-01-10  1.9423  1.9423  1.7662  1.9326  30296000.0        0.0   \n",
       "2000-01-17  1.9326  1.9472  1.8102  1.8494  37283000.0        0.0   \n",
       "2000-01-24  1.8494  2.2848  1.8005  2.1380  65382000.0        0.0   \n",
       "2000-01-31  2.0842  2.3582  2.0549  2.3044  50591000.0        0.0   \n",
       "...            ...     ...     ...     ...         ...        ...   \n",
       "2020-04-06  1.1735  1.2450  1.1555  1.2025  62164737.0        0.0   \n",
       "2020-04-13  1.2025  1.2600  1.2005  1.2495  62278404.0        0.0   \n",
       "2020-04-20  1.2580  1.2695  1.1930  1.2210  53375910.0        0.0   \n",
       "2020-04-27  1.2480  1.2600  1.2080  1.2340  29229130.0        0.0   \n",
       "2020-04-30  1.2450  1.2485  1.2350  1.2410   2176821.0        0.0   \n",
       "\n",
       "            Stock Splits  \n",
       "Date                      \n",
       "2000-01-03             0  \n",
       "2000-01-10             0  \n",
       "2000-01-17             0  \n",
       "2000-01-24             0  \n",
       "2000-01-31             0  \n",
       "...                  ...  \n",
       "2020-04-06             0  \n",
       "2020-04-13             0  \n",
       "2020-04-20             0  \n",
       "2020-04-27             0  \n",
       "2020-04-30             0  \n",
       "\n",
       "[1081 rows x 7 columns]"
      ]
     },
     "execution_count": 38,
     "metadata": {},
     "output_type": "execute_result"
    }
   ],
   "source": [
    "a2a_history"
   ]
  },
  {
   "cell_type": "code",
   "execution_count": 39,
   "metadata": {},
   "outputs": [
    {
     "data": {
      "text/plain": [
       "pandas.core.frame.DataFrame"
      ]
     },
     "execution_count": 39,
     "metadata": {},
     "output_type": "execute_result"
    }
   ],
   "source": [
    "type(a2a_history)"
   ]
  },
  {
   "cell_type": "code",
   "execution_count": 43,
   "metadata": {},
   "outputs": [
    {
     "data": {
      "text/plain": [
       "<matplotlib.axes._subplots.AxesSubplot at 0x262089e9848>"
      ]
     },
     "execution_count": 43,
     "metadata": {},
     "output_type": "execute_result"
    },
    {
     "data": {
      "image/png": "[encoded data removed]",
      "text/plain": [
       "<Figure size 720x432 with 1 Axes>"
      ]
     },
     "metadata": {
      "needs_background": "light"
     },
     "output_type": "display_data"
    }
   ],
   "source": [
    "ax = a2a_history.loc['2010-01-01':, \"Close\"].plot(figsize=(10,6))\n",
    "\n",
    "ax.set_title(\"A2A\")\n",
    "ax.set_ylabel(\"Close Price\")\n",
    "ax.set_xlabel(\"Weeks\")\n",
    "\n",
    "ax\n"
   ]
  },
  {
   "cell_type": "code",
   "execution_count": 58,
   "metadata": {},
   "outputs": [],
   "source": [
    "#ax = ftseMib_history.loc[\"2018-01-01\":,\"Close\"].plot(figsize=(10,6))\n",
    "#ax.set_title(\"FTSE MIB ITALIA\")\n",
    "#ax.set_ylabel(\"Close Price\")\n",
    "#ax"
   ]
  },
  {
   "cell_type": "code",
   "execution_count": 41,
   "metadata": {},
   "outputs": [],
   "source": [
    "dataPath = \"C:/Users/simon/OneDrive/Desktop/Corporate-valuation-/Notebook/data\""
   ]
  },
  {
   "cell_type": "code",
   "execution_count": 42,
   "metadata": {},
   "outputs": [],
   "source": [
    "filePath = os.path.join(dataPath, \"ftsemib.csv\")"
   ]
  },
  {
   "cell_type": "code",
   "execution_count": 94,
   "metadata": {},
   "outputs": [
    {
     "data": {
      "text/html": [
       "<div>\n",
       "<style scoped>\n",
       "    .dataframe tbody tr th:only-of-type {\n",
       "        vertical-align: middle;\n",
       "    }\n",
       "\n",
       "    .dataframe tbody tr th {\n",
       "        vertical-align: top;\n",
       "    }\n",
       "\n",
       "    .dataframe thead th {\n",
       "        text-align: right;\n",
       "    }\n",
       "</style>\n",
       "<table border=\"1\" class=\"dataframe\">\n",
       "  <thead>\n",
       "    <tr style=\"text-align: right;\">\n",
       "      <th></th>\n",
       "      <th>Ultimo</th>\n",
       "      <th>Apertura</th>\n",
       "      <th>Massimo</th>\n",
       "      <th>Minimo</th>\n",
       "      <th>Vol.</th>\n",
       "      <th>Var. %</th>\n",
       "    </tr>\n",
       "    <tr>\n",
       "      <th>Data</th>\n",
       "      <th></th>\n",
       "      <th></th>\n",
       "      <th></th>\n",
       "      <th></th>\n",
       "      <th></th>\n",
       "      <th></th>\n",
       "    </tr>\n",
       "  </thead>\n",
       "  <tbody>\n",
       "    <tr>\n",
       "      <td>2020-04-27</td>\n",
       "      <td>17.380,21</td>\n",
       "      <td>17.313,48</td>\n",
       "      <td>17.380,21</td>\n",
       "      <td>17.163,85</td>\n",
       "      <td>307,77M</td>\n",
       "      <td>3,09%</td>\n",
       "    </tr>\n",
       "    <tr>\n",
       "      <td>2020-04-24</td>\n",
       "      <td>16.858,89</td>\n",
       "      <td>16.640,17</td>\n",
       "      <td>17.155,11</td>\n",
       "      <td>16.640,17</td>\n",
       "      <td>349,28M</td>\n",
       "      <td>-0,89%</td>\n",
       "    </tr>\n",
       "    <tr>\n",
       "      <td>2020-04-23</td>\n",
       "      <td>17.011,11</td>\n",
       "      <td>16.925,36</td>\n",
       "      <td>17.145,44</td>\n",
       "      <td>16.778,15</td>\n",
       "      <td>392,98M</td>\n",
       "      <td>1,47%</td>\n",
       "    </tr>\n",
       "    <tr>\n",
       "      <td>2020-04-22</td>\n",
       "      <td>16.765,28</td>\n",
       "      <td>16.615,00</td>\n",
       "      <td>16.770,44</td>\n",
       "      <td>16.555,34</td>\n",
       "      <td>347,50M</td>\n",
       "      <td>1,91%</td>\n",
       "    </tr>\n",
       "    <tr>\n",
       "      <td>2020-04-21</td>\n",
       "      <td>16.450,85</td>\n",
       "      <td>16.811,87</td>\n",
       "      <td>16.934,52</td>\n",
       "      <td>16.450,85</td>\n",
       "      <td>401,99M</td>\n",
       "      <td>-3,59%</td>\n",
       "    </tr>\n",
       "    <tr>\n",
       "      <td>...</td>\n",
       "      <td>...</td>\n",
       "      <td>...</td>\n",
       "      <td>...</td>\n",
       "      <td>...</td>\n",
       "      <td>...</td>\n",
       "      <td>...</td>\n",
       "    </tr>\n",
       "    <tr>\n",
       "      <td>2015-07-01</td>\n",
       "      <td>18.123,45</td>\n",
       "      <td>18.226,43</td>\n",
       "      <td>18.478,11</td>\n",
       "      <td>17.991,76</td>\n",
       "      <td>752,62M</td>\n",
       "      <td>-0,11%</td>\n",
       "    </tr>\n",
       "    <tr>\n",
       "      <td>2015-06-01</td>\n",
       "      <td>18.143,26</td>\n",
       "      <td>18.298,26</td>\n",
       "      <td>18.523,74</td>\n",
       "      <td>18.041,32</td>\n",
       "      <td>703,94M</td>\n",
       "      <td>-0,25%</td>\n",
       "    </tr>\n",
       "    <tr>\n",
       "      <td>2015-05-01</td>\n",
       "      <td>18.188,44</td>\n",
       "      <td>18.961,03</td>\n",
       "      <td>19.190,24</td>\n",
       "      <td>18.188,44</td>\n",
       "      <td>836,17M</td>\n",
       "      <td>-4,92%</td>\n",
       "    </tr>\n",
       "    <tr>\n",
       "      <td>2015-04-01</td>\n",
       "      <td>19.130,26</td>\n",
       "      <td>19.130,26</td>\n",
       "      <td>19.130,26</td>\n",
       "      <td>19.130,26</td>\n",
       "      <td>-</td>\n",
       "      <td>0,00%</td>\n",
       "    </tr>\n",
       "    <tr>\n",
       "      <td>2015-02-01</td>\n",
       "      <td>19.130,26</td>\n",
       "      <td>19.156,72</td>\n",
       "      <td>19.246,76</td>\n",
       "      <td>18.919,65</td>\n",
       "      <td>513,82M</td>\n",
       "      <td>0,62%</td>\n",
       "    </tr>\n",
       "  </tbody>\n",
       "</table>\n",
       "<p>1350 rows × 6 columns</p>\n",
       "</div>"
      ],
      "text/plain": [
       "               Ultimo   Apertura    Massimo     Minimo     Vol.  Var. %\n",
       "Data                                                                   \n",
       "2020-04-27  17.380,21  17.313,48  17.380,21  17.163,85  307,77M   3,09%\n",
       "2020-04-24  16.858,89  16.640,17  17.155,11  16.640,17  349,28M  -0,89%\n",
       "2020-04-23  17.011,11  16.925,36  17.145,44  16.778,15  392,98M   1,47%\n",
       "2020-04-22  16.765,28  16.615,00  16.770,44  16.555,34  347,50M   1,91%\n",
       "2020-04-21  16.450,85  16.811,87  16.934,52  16.450,85  401,99M  -3,59%\n",
       "...               ...        ...        ...        ...      ...     ...\n",
       "2015-07-01  18.123,45  18.226,43  18.478,11  17.991,76  752,62M  -0,11%\n",
       "2015-06-01  18.143,26  18.298,26  18.523,74  18.041,32  703,94M  -0,25%\n",
       "2015-05-01  18.188,44  18.961,03  19.190,24  18.188,44  836,17M  -4,92%\n",
       "2015-04-01  19.130,26  19.130,26  19.130,26  19.130,26        -   0,00%\n",
       "2015-02-01  19.130,26  19.156,72  19.246,76  18.919,65  513,82M   0,62%\n",
       "\n",
       "[1350 rows x 6 columns]"
      ]
     },
     "execution_count": 94,
     "metadata": {},
     "output_type": "execute_result"
    }
   ],
   "source": [
    "df_Ftse = pd.read_csv(filePath, index_col=0, parse_dates=True)\n",
    "df_Ftse"
   ]
  },
  {
   "cell_type": "code",
   "execution_count": 95,
   "metadata": {},
   "outputs": [
    {
     "data": {
      "text/html": [
       "<div>\n",
       "<style scoped>\n",
       "    .dataframe tbody tr th:only-of-type {\n",
       "        vertical-align: middle;\n",
       "    }\n",
       "\n",
       "    .dataframe tbody tr th {\n",
       "        vertical-align: top;\n",
       "    }\n",
       "\n",
       "    .dataframe thead th {\n",
       "        text-align: right;\n",
       "    }\n",
       "</style>\n",
       "<table border=\"1\" class=\"dataframe\">\n",
       "  <thead>\n",
       "    <tr style=\"text-align: right;\">\n",
       "      <th></th>\n",
       "      <th>Ultimo</th>\n",
       "      <th>Apertura</th>\n",
       "      <th>Massimo</th>\n",
       "      <th>Minimo</th>\n",
       "    </tr>\n",
       "    <tr>\n",
       "      <th>Data</th>\n",
       "      <th></th>\n",
       "      <th></th>\n",
       "      <th></th>\n",
       "      <th></th>\n",
       "    </tr>\n",
       "  </thead>\n",
       "  <tbody>\n",
       "    <tr>\n",
       "      <td>2020-04-27</td>\n",
       "      <td>17.380,21</td>\n",
       "      <td>17.313,48</td>\n",
       "      <td>17.380,21</td>\n",
       "      <td>17.163,85</td>\n",
       "    </tr>\n",
       "    <tr>\n",
       "      <td>2020-04-24</td>\n",
       "      <td>16.858,89</td>\n",
       "      <td>16.640,17</td>\n",
       "      <td>17.155,11</td>\n",
       "      <td>16.640,17</td>\n",
       "    </tr>\n",
       "    <tr>\n",
       "      <td>2020-04-23</td>\n",
       "      <td>17.011,11</td>\n",
       "      <td>16.925,36</td>\n",
       "      <td>17.145,44</td>\n",
       "      <td>16.778,15</td>\n",
       "    </tr>\n",
       "    <tr>\n",
       "      <td>2020-04-22</td>\n",
       "      <td>16.765,28</td>\n",
       "      <td>16.615,00</td>\n",
       "      <td>16.770,44</td>\n",
       "      <td>16.555,34</td>\n",
       "    </tr>\n",
       "    <tr>\n",
       "      <td>2020-04-21</td>\n",
       "      <td>16.450,85</td>\n",
       "      <td>16.811,87</td>\n",
       "      <td>16.934,52</td>\n",
       "      <td>16.450,85</td>\n",
       "    </tr>\n",
       "    <tr>\n",
       "      <td>...</td>\n",
       "      <td>...</td>\n",
       "      <td>...</td>\n",
       "      <td>...</td>\n",
       "      <td>...</td>\n",
       "    </tr>\n",
       "    <tr>\n",
       "      <td>2015-07-01</td>\n",
       "      <td>18.123,45</td>\n",
       "      <td>18.226,43</td>\n",
       "      <td>18.478,11</td>\n",
       "      <td>17.991,76</td>\n",
       "    </tr>\n",
       "    <tr>\n",
       "      <td>2015-06-01</td>\n",
       "      <td>18.143,26</td>\n",
       "      <td>18.298,26</td>\n",
       "      <td>18.523,74</td>\n",
       "      <td>18.041,32</td>\n",
       "    </tr>\n",
       "    <tr>\n",
       "      <td>2015-05-01</td>\n",
       "      <td>18.188,44</td>\n",
       "      <td>18.961,03</td>\n",
       "      <td>19.190,24</td>\n",
       "      <td>18.188,44</td>\n",
       "    </tr>\n",
       "    <tr>\n",
       "      <td>2015-04-01</td>\n",
       "      <td>19.130,26</td>\n",
       "      <td>19.130,26</td>\n",
       "      <td>19.130,26</td>\n",
       "      <td>19.130,26</td>\n",
       "    </tr>\n",
       "    <tr>\n",
       "      <td>2015-02-01</td>\n",
       "      <td>19.130,26</td>\n",
       "      <td>19.156,72</td>\n",
       "      <td>19.246,76</td>\n",
       "      <td>18.919,65</td>\n",
       "    </tr>\n",
       "  </tbody>\n",
       "</table>\n",
       "<p>1350 rows × 4 columns</p>\n",
       "</div>"
      ],
      "text/plain": [
       "               Ultimo   Apertura    Massimo     Minimo\n",
       "Data                                                  \n",
       "2020-04-27  17.380,21  17.313,48  17.380,21  17.163,85\n",
       "2020-04-24  16.858,89  16.640,17  17.155,11  16.640,17\n",
       "2020-04-23  17.011,11  16.925,36  17.145,44  16.778,15\n",
       "2020-04-22  16.765,28  16.615,00  16.770,44  16.555,34\n",
       "2020-04-21  16.450,85  16.811,87  16.934,52  16.450,85\n",
       "...               ...        ...        ...        ...\n",
       "2015-07-01  18.123,45  18.226,43  18.478,11  17.991,76\n",
       "2015-06-01  18.143,26  18.298,26  18.523,74  18.041,32\n",
       "2015-05-01  18.188,44  18.961,03  19.190,24  18.188,44\n",
       "2015-04-01  19.130,26  19.130,26  19.130,26  19.130,26\n",
       "2015-02-01  19.130,26  19.156,72  19.246,76  18.919,65\n",
       "\n",
       "[1350 rows x 4 columns]"
      ]
     },
     "execution_count": 95,
     "metadata": {},
     "output_type": "execute_result"
    }
   ],
   "source": [
    "df_FtseNew = df_Ftse[['Ultimo','Apertura','Massimo','Minimo']]\n",
    "df_FtseNew"
   ]
  },
  {
   "cell_type": "code",
   "execution_count": 96,
   "metadata": {},
   "outputs": [
    {
     "data": {
      "text/plain": [
       "Data\n",
       "2020-04-27    17.380,21\n",
       "2020-04-24    16.858,89\n",
       "2020-04-23    17.011,11\n",
       "2020-04-22    16.765,28\n",
       "2020-04-21    16.450,85\n",
       "                ...    \n",
       "2015-07-01    18.123,45\n",
       "2015-06-01    18.143,26\n",
       "2015-05-01    18.188,44\n",
       "2015-04-01    19.130,26\n",
       "2015-02-01    19.130,26\n",
       "Name: Ultimo, Length: 1350, dtype: object"
      ]
     },
     "execution_count": 96,
     "metadata": {},
     "output_type": "execute_result"
    }
   ],
   "source": [
    "df_FtseNew[\"Ultimo\"]"
   ]
  },
  {
   "cell_type": "code",
   "execution_count": 97,
   "metadata": {},
   "outputs": [
    {
     "name": "stderr",
     "output_type": "stream",
     "text": [
      "C:\\Users\\simon\\Anaconda3\\envs\\ITForBusAndFin2020_env\\lib\\site-packages\\ipykernel_launcher.py:1: SettingWithCopyWarning: \n",
      "A value is trying to be set on a copy of a slice from a DataFrame\n",
      "\n",
      "See the caveats in the documentation: http://pandas.pydata.org/pandas-docs/stable/user_guide/indexing.html#returning-a-view-versus-a-copy\n",
      "  \"\"\"Entry point for launching an IPython kernel.\n",
      "C:\\Users\\simon\\Anaconda3\\envs\\ITForBusAndFin2020_env\\lib\\site-packages\\ipykernel_launcher.py:27: SettingWithCopyWarning: \n",
      "A value is trying to be set on a copy of a slice from a DataFrame.\n",
      "Try using .loc[row_indexer,col_indexer] = value instead\n",
      "\n",
      "See the caveats in the documentation: http://pandas.pydata.org/pandas-docs/stable/user_guide/indexing.html#returning-a-view-versus-a-copy\n"
     ]
    }
   ],
   "source": [
    "df_FtseMib = changeCAndV(df_FtseNew) #I call the function and execute the change \n",
    "\n"
   ]
  },
  {
   "cell_type": "code",
   "execution_count": 98,
   "metadata": {},
   "outputs": [
    {
     "data": {
      "text/html": [
       "<div>\n",
       "<style scoped>\n",
       "    .dataframe tbody tr th:only-of-type {\n",
       "        vertical-align: middle;\n",
       "    }\n",
       "\n",
       "    .dataframe tbody tr th {\n",
       "        vertical-align: top;\n",
       "    }\n",
       "\n",
       "    .dataframe thead th {\n",
       "        text-align: right;\n",
       "    }\n",
       "</style>\n",
       "<table border=\"1\" class=\"dataframe\">\n",
       "  <thead>\n",
       "    <tr style=\"text-align: right;\">\n",
       "      <th></th>\n",
       "      <th>Ultimo</th>\n",
       "      <th>Apertura</th>\n",
       "      <th>Massimo</th>\n",
       "      <th>Minimo</th>\n",
       "    </tr>\n",
       "    <tr>\n",
       "      <th>Data</th>\n",
       "      <th></th>\n",
       "      <th></th>\n",
       "      <th></th>\n",
       "      <th></th>\n",
       "    </tr>\n",
       "  </thead>\n",
       "  <tbody>\n",
       "    <tr>\n",
       "      <td>2015-02-01</td>\n",
       "      <td>19130.26</td>\n",
       "      <td>19156.72</td>\n",
       "      <td>19246.76</td>\n",
       "      <td>18919.65</td>\n",
       "    </tr>\n",
       "    <tr>\n",
       "      <td>2015-04-01</td>\n",
       "      <td>19130.26</td>\n",
       "      <td>19130.26</td>\n",
       "      <td>19130.26</td>\n",
       "      <td>19130.26</td>\n",
       "    </tr>\n",
       "    <tr>\n",
       "      <td>2015-05-01</td>\n",
       "      <td>18188.44</td>\n",
       "      <td>18961.03</td>\n",
       "      <td>19190.24</td>\n",
       "      <td>18188.44</td>\n",
       "    </tr>\n",
       "    <tr>\n",
       "      <td>2015-06-01</td>\n",
       "      <td>18143.26</td>\n",
       "      <td>18298.26</td>\n",
       "      <td>18523.74</td>\n",
       "      <td>18041.32</td>\n",
       "    </tr>\n",
       "    <tr>\n",
       "      <td>2015-07-01</td>\n",
       "      <td>18123.45</td>\n",
       "      <td>18226.43</td>\n",
       "      <td>18478.11</td>\n",
       "      <td>17991.76</td>\n",
       "    </tr>\n",
       "    <tr>\n",
       "      <td>...</td>\n",
       "      <td>...</td>\n",
       "      <td>...</td>\n",
       "      <td>...</td>\n",
       "      <td>...</td>\n",
       "    </tr>\n",
       "    <tr>\n",
       "      <td>2020-04-21</td>\n",
       "      <td>16450.85</td>\n",
       "      <td>16811.87</td>\n",
       "      <td>16934.52</td>\n",
       "      <td>16450.85</td>\n",
       "    </tr>\n",
       "    <tr>\n",
       "      <td>2020-04-22</td>\n",
       "      <td>16765.28</td>\n",
       "      <td>16615.00</td>\n",
       "      <td>16770.44</td>\n",
       "      <td>16555.34</td>\n",
       "    </tr>\n",
       "    <tr>\n",
       "      <td>2020-04-23</td>\n",
       "      <td>17011.11</td>\n",
       "      <td>16925.36</td>\n",
       "      <td>17145.44</td>\n",
       "      <td>16778.15</td>\n",
       "    </tr>\n",
       "    <tr>\n",
       "      <td>2020-04-24</td>\n",
       "      <td>16858.89</td>\n",
       "      <td>16640.17</td>\n",
       "      <td>17155.11</td>\n",
       "      <td>16640.17</td>\n",
       "    </tr>\n",
       "    <tr>\n",
       "      <td>2020-04-27</td>\n",
       "      <td>17380.21</td>\n",
       "      <td>17313.48</td>\n",
       "      <td>17380.21</td>\n",
       "      <td>17163.85</td>\n",
       "    </tr>\n",
       "  </tbody>\n",
       "</table>\n",
       "<p>1350 rows × 4 columns</p>\n",
       "</div>"
      ],
      "text/plain": [
       "              Ultimo  Apertura   Massimo    Minimo\n",
       "Data                                              \n",
       "2015-02-01  19130.26  19156.72  19246.76  18919.65\n",
       "2015-04-01  19130.26  19130.26  19130.26  19130.26\n",
       "2015-05-01  18188.44  18961.03  19190.24  18188.44\n",
       "2015-06-01  18143.26  18298.26  18523.74  18041.32\n",
       "2015-07-01  18123.45  18226.43  18478.11  17991.76\n",
       "...              ...       ...       ...       ...\n",
       "2020-04-21  16450.85  16811.87  16934.52  16450.85\n",
       "2020-04-22  16765.28  16615.00  16770.44  16555.34\n",
       "2020-04-23  17011.11  16925.36  17145.44  16778.15\n",
       "2020-04-24  16858.89  16640.17  17155.11  16640.17\n",
       "2020-04-27  17380.21  17313.48  17380.21  17163.85\n",
       "\n",
       "[1350 rows x 4 columns]"
      ]
     },
     "execution_count": 98,
     "metadata": {},
     "output_type": "execute_result"
    }
   ],
   "source": [
    "df_FtseMib #The result of conversion "
   ]
  },
  {
   "cell_type": "code",
   "execution_count": 100,
   "metadata": {},
   "outputs": [
    {
     "data": {
      "text/plain": [
       "<matplotlib.axes._subplots.AxesSubplot at 0x1d15d2a23c8>"
      ]
     },
     "execution_count": 100,
     "metadata": {},
     "output_type": "execute_result"
    },
    {
     "data": {
      "image/png": "[encoded data removed]",
      "text/plain": [
       "<Figure size 720x432 with 1 Axes>"
      ]
     },
     "metadata": {
      "needs_background": "light"
     },
     "output_type": "display_data"
    }
   ],
   "source": [
    "#Now I can plot it \n",
    "\n",
    "df_FtseMib.loc['2020-01-01': , \"Ultimo\"].plot(figsize=(10,6))"
   ]
  },
  {
   "cell_type": "code",
   "execution_count": 66,
   "metadata": {},
   "outputs": [
    {
     "data": {
      "text/plain": [
       "Data\n",
       "2020-04-27    17380.21\n",
       "2020-04-24    16858.89\n",
       "2020-04-23    17011.11\n",
       "2020-04-22    16765.28\n",
       "2020-04-21    16450.85\n",
       "                ...   \n",
       "2015-07-01    18123.45\n",
       "2015-06-01    18143.26\n",
       "2015-05-01    18188.44\n",
       "2015-04-01    19130.26\n",
       "2015-02-01    19130.26\n",
       "Name: Ultimo, Length: 1350, dtype: float64"
      ]
     },
     "execution_count": 66,
     "metadata": {},
     "output_type": "execute_result"
    }
   ],
   "source": [
    "df_FtseNew[\"Ultimo\"] "
   ]
  }
 ],
 "metadata": {
  "kernelspec": {
   "display_name": "Python 3",
   "language": "python",
   "name": "python3"
  },
  "language_info": {
   "codemirror_mode": {
    "name": "ipython",
    "version": 3
   },
   "file_extension": ".py",
   "mimetype": "text/x-python",
   "name": "python",
   "nbconvert_exporter": "python",
   "pygments_lexer": "ipython3",
   "version": "3.7.4"
  }
 },
 "nbformat": 4,
 "nbformat_minor": 2
}
