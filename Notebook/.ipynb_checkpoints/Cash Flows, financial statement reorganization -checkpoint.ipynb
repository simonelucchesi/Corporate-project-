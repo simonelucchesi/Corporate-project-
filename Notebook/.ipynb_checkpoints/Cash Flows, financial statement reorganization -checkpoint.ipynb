{
 "cells": [
  {
   "cell_type": "markdown",
   "metadata": {},
   "source": [
    "# Workfile n°3: DCF method - financial statements reorganization "
   ]
  },
  {
   "cell_type": "markdown",
   "metadata": {},
   "source": [
    "**Contributors**  \n",
    " _Lucchesi Simone Luca_  \n",
    " _Gianmarco Cavaliere_"
   ]
  },
  {
   "cell_type": "markdown",
   "metadata": {},
   "source": [
    "## Summary \n",
    "\n",
    "- [0)](#Intro) Introduction \n",
    "\n",
    "\n",
    "- [1)](#1) Reorganization of consolidated financial statements "
   ]
  },
  {
   "cell_type": "markdown",
   "metadata": {},
   "source": [
    "--- "
   ]
  },
  {
   "cell_type": "markdown",
   "metadata": {},
   "source": [
    "## Introduction <a name= \"Intro\"></a>"
   ]
  },
  {
   "cell_type": "markdown",
   "metadata": {},
   "source": [
    "Cash flows are key to DCF valuation. To measure them we usually begin, according to  financial statements, with a measure of earnings. \n",
    "\n",
    "**Categorization** \n",
    "\n",
    "1) _Cash flows to equity_ : it represents cash flows to the equity investors in the business. They are after all out/in-flows related to debt repayments (and new issues).\n",
    "\n",
    "_FCFE = NI - $\\Delta$Capex - $\\Delta$ Non cash WC + $\\Delta $ Debt_\n",
    "\n",
    "2) _Cash flows to firm_ : are cash flows generated for all claim holders, pre-debt cash flows. \n",
    "\n",
    "_FCFF = Ebit(1-t) - $\\Delta$Capex - $\\Delta$ Non cash WC_ \n",
    "\n",
    "Both of these two are after taxes (starting from NI or from (1-t)Ebit)  and after reinvestment needs (covered). \n",
    "\n",
    "3) Nominal versus real cash flows: nominal ones incorporate expected inflation, in a specific currency whereas real ones are net of expected inflation. \n",
    "\n",
    "_We will refer to nominal cash flows_\n",
    "\n",
    "4) Pre-tax versus after-tax cash flows: previous definitions refer to after corporate taxes but both stockholders and bondholders have to pay taxes on dividends, capital gains and interests. \n",
    "\n",
    "_We will refer to pre-tax cash flows_ "
   ]
  },
  {
   "cell_type": "code",
   "execution_count": null,
   "metadata": {},
   "outputs": [],
   "source": []
  }
 ],
 "metadata": {
  "kernelspec": {
   "display_name": "Python 3",
   "language": "python",
   "name": "python3"
  },
  "language_info": {
   "codemirror_mode": {
    "name": "ipython",
    "version": 3
   },
   "file_extension": ".py",
   "mimetype": "text/x-python",
   "name": "python",
   "nbconvert_exporter": "python",
   "pygments_lexer": "ipython3",
   "version": "3.7.4"
  }
 },
 "nbformat": 4,
 "nbformat_minor": 2
}
