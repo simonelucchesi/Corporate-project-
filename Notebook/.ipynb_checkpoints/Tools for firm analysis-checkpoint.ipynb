{
 "cells": [
  {
   "cell_type": "markdown",
   "metadata": {},
   "source": [
    "# Workfile N°1 : Data import and tools for A2A's value analysis"
   ]
  },
  {
   "cell_type": "markdown",
   "metadata": {},
   "source": [
    "## Executive Summary "
   ]
  },
  {
   "cell_type": "markdown",
   "metadata": {},
   "source": [
    "- [0)](#prel) Preliminary tasks: modules importing and function definition. \n",
    "\n",
    "\n",
    "- [1)](#imports) Imports from Yahoo finance data provider.\n",
    "\n",
    "\n",
    "- [2)](#imports2) Imports from Investing.com : how to solve several problems. \n",
    "\n",
    "\n",
    "- [3)](#imports3) A ready-to-use function to import data time series from Investing.com \n"
   ]
  },
  {
   "cell_type": "markdown",
   "metadata": {},
   "source": [
    "### Preliminary imports to allow our data-analysis: <a name = \"prel\"></a> "
   ]
  },
  {
   "cell_type": "code",
   "execution_count": 1,
   "metadata": {},
   "outputs": [],
   "source": [
    "import numpy as np \n",
    "import pandas as pd \n",
    "import os \n",
    "import matplotlib.pyplot as plt \n",
    "\n",
    "%matplotlib inline \n"
   ]
  },
  {
   "cell_type": "markdown",
   "metadata": {},
   "source": [
    "The following task is to use easily yahoo finance time series:"
   ]
  },
  {
   "cell_type": "code",
   "execution_count": 2,
   "metadata": {},
   "outputs": [],
   "source": [
    "import yfinance as yf "
   ]
  },
  {
   "cell_type": "code",
   "execution_count": 3,
   "metadata": {},
   "outputs": [],
   "source": [
    "import json \n"
   ]
  },
  {
   "cell_type": "markdown",
   "metadata": {},
   "source": [
    "The following function will be used to remove not more necessary files. "
   ]
  },
  {
   "cell_type": "code",
   "execution_count": 4,
   "metadata": {},
   "outputs": [],
   "source": [
    "def removeFile(fileName):\n",
    "    \"\"\"\n",
    "    removeFile(fileName) function remove file 'fileName', if it exists. It also prints on screen a success/failure message.\n",
    "    \n",
    "    Parameters:\n",
    "        fileName (str): name of the file ('Data' folder is assumed)\n",
    "        \n",
    "    Returns:\n",
    "        None\n",
    "    \"\"\"\n",
    "\n",
    "    if os.path.isfile(os.path.join(dataFolderPath, fileName)):\n",
    "        os.remove(os.path.join(dataFolderPath, fileName))\n",
    "\n",
    "        # double-check if file still exists\n",
    "        fileStillExists = os.path.isfile(os.path.join(dataFolderPath, fileName))\n",
    "\n",
    "        if fileStillExists:\n",
    "            print(\"Failure: file {} still exists...\".format(fileName))\n",
    "        else:\n",
    "            print(\"Success: file {} successfully removed!\".format(fileName))\n",
    "            \n",
    "    else:\n",
    "        print(\"File {} already removed.\".format(fileName))"
   ]
  },
  {
   "cell_type": "markdown",
   "metadata": {},
   "source": [
    "### - How to approach with yahoo finance data set importing: <a name = \"imports\"></a> "
   ]
  },
  {
   "cell_type": "markdown",
   "metadata": {},
   "source": [
    "First of all we should ensure ourselves to have the correct path for Data-Folder"
   ]
  },
  {
   "cell_type": "code",
   "execution_count": null,
   "metadata": {},
   "outputs": [],
   "source": [
    "dataFolderPath = \"./data\"\n"
   ]
  },
  {
   "cell_type": "code",
   "execution_count": null,
   "metadata": {},
   "outputs": [],
   "source": [
    "if not os.path.exists(dataFolderPath):\n",
    "    os.makedirs(dataFolderPath)"
   ]
  },
  {
   "cell_type": "code",
   "execution_count": null,
   "metadata": {},
   "outputs": [],
   "source": [
    "os.path.exists(dataFolderPath)"
   ]
  },
  {
   "cell_type": "markdown",
   "metadata": {},
   "source": [
    "Here the \"Tickers\" associated by YF to our assets of interest: "
   ]
  },
  {
   "cell_type": "code",
   "execution_count": 5,
   "metadata": {},
   "outputs": [],
   "source": [
    "a2a = yf.Ticker(\"A2A.MI\")\n",
    "ftse = yf.Ticker(\"FTSEMIB.MI\")"
   ]
  },
  {
   "cell_type": "markdown",
   "metadata": {},
   "source": [
    "### Problems we have faced until now: \n",
    "\n",
    " "
   ]
  },
  {
   "cell_type": "markdown",
   "metadata": {},
   "source": [
    "**1)** A2A ticker doesn't have a working .info method, anyway we can extract time series using the following workaround:\n",
    "\n",
    "**[Remark]** For awareness I demonstrate the template to get a proper file in our remote machine according to I/O operations, in .json format. "
   ]
  },
  {
   "cell_type": "code",
   "execution_count": null,
   "metadata": {},
   "outputs": [],
   "source": [
    "#filePath = os.path.join(dataFolderPath, \"ftseMib.json\")\n",
    "pathFile = os.path.join(dataFolderPath, \"a2a.json\")"
   ]
  },
  {
   "cell_type": "code",
   "execution_count": null,
   "metadata": {},
   "outputs": [],
   "source": [
    "downloadData = True  "
   ]
  },
  {
   "cell_type": "code",
   "execution_count": null,
   "metadata": {},
   "outputs": [],
   "source": [
    "\"\"\"\n",
    " if downloadData: \n",
    "    \n",
    "    ftse_info = ftse.info \n",
    "    a2a_history = a2a.history \n",
    "    with open(filePath ,'w') as file: \n",
    "        json.dump(ftse_info,file)\n",
    "    \n",
    "    with open(pathFile, 'w') as file_two:\n",
    "        json.dump(a2a_history,file_two)\n",
    "    \n",
    "    downloadData = False\n",
    "    \n",
    " else: \n",
    "   \n",
    "    with open(filePath, 'r') as file: \n",
    "        ftse_info = json.load(file)\n",
    "  \n",
    "\"\"\"\""
   ]
  },
  {
   "cell_type": "code",
   "execution_count": null,
   "metadata": {},
   "outputs": [],
   "source": [
    "#removeFile(pathFile)"
   ]
  },
  {
   "cell_type": "markdown",
   "metadata": {},
   "source": [
    "Given the provider problem we can anyway try to use the following method to create a Pandas DataFrame with price, volumes ecc time series: "
   ]
  },
  {
   "cell_type": "code",
   "execution_count": 6,
   "metadata": {},
   "outputs": [],
   "source": [
    "a2a_history =a2a.history(period = \"max\", interval =\"1wk\")"
   ]
  },
  {
   "cell_type": "code",
   "execution_count": 7,
   "metadata": {},
   "outputs": [
    {
     "data": {
      "text/html": [
       "<div>\n",
       "<style scoped>\n",
       "    .dataframe tbody tr th:only-of-type {\n",
       "        vertical-align: middle;\n",
       "    }\n",
       "\n",
       "    .dataframe tbody tr th {\n",
       "        vertical-align: top;\n",
       "    }\n",
       "\n",
       "    .dataframe thead th {\n",
       "        text-align: right;\n",
       "    }\n",
       "</style>\n",
       "<table border=\"1\" class=\"dataframe\">\n",
       "  <thead>\n",
       "    <tr style=\"text-align: right;\">\n",
       "      <th></th>\n",
       "      <th>Open</th>\n",
       "      <th>High</th>\n",
       "      <th>Low</th>\n",
       "      <th>Close</th>\n",
       "      <th>Volume</th>\n",
       "      <th>Dividends</th>\n",
       "      <th>Stock Splits</th>\n",
       "    </tr>\n",
       "    <tr>\n",
       "      <th>Date</th>\n",
       "      <th></th>\n",
       "      <th></th>\n",
       "      <th></th>\n",
       "      <th></th>\n",
       "      <th></th>\n",
       "      <th></th>\n",
       "      <th></th>\n",
       "    </tr>\n",
       "  </thead>\n",
       "  <tbody>\n",
       "    <tr>\n",
       "      <td>2000-01-03</td>\n",
       "      <td>1.9766</td>\n",
       "      <td>2.0353</td>\n",
       "      <td>1.6537</td>\n",
       "      <td>1.8885</td>\n",
       "      <td>40860000.0</td>\n",
       "      <td>0.0</td>\n",
       "      <td>0</td>\n",
       "    </tr>\n",
       "    <tr>\n",
       "      <td>2000-01-10</td>\n",
       "      <td>1.9423</td>\n",
       "      <td>1.9423</td>\n",
       "      <td>1.7662</td>\n",
       "      <td>1.9326</td>\n",
       "      <td>30296000.0</td>\n",
       "      <td>0.0</td>\n",
       "      <td>0</td>\n",
       "    </tr>\n",
       "    <tr>\n",
       "      <td>2000-01-17</td>\n",
       "      <td>1.9326</td>\n",
       "      <td>1.9472</td>\n",
       "      <td>1.8102</td>\n",
       "      <td>1.8494</td>\n",
       "      <td>37283000.0</td>\n",
       "      <td>0.0</td>\n",
       "      <td>0</td>\n",
       "    </tr>\n",
       "    <tr>\n",
       "      <td>2000-01-24</td>\n",
       "      <td>1.8494</td>\n",
       "      <td>2.2848</td>\n",
       "      <td>1.8005</td>\n",
       "      <td>2.1380</td>\n",
       "      <td>65382000.0</td>\n",
       "      <td>0.0</td>\n",
       "      <td>0</td>\n",
       "    </tr>\n",
       "    <tr>\n",
       "      <td>2000-01-31</td>\n",
       "      <td>2.0842</td>\n",
       "      <td>2.3582</td>\n",
       "      <td>2.0549</td>\n",
       "      <td>2.3044</td>\n",
       "      <td>50591000.0</td>\n",
       "      <td>0.0</td>\n",
       "      <td>0</td>\n",
       "    </tr>\n",
       "    <tr>\n",
       "      <td>...</td>\n",
       "      <td>...</td>\n",
       "      <td>...</td>\n",
       "      <td>...</td>\n",
       "      <td>...</td>\n",
       "      <td>...</td>\n",
       "      <td>...</td>\n",
       "      <td>...</td>\n",
       "    </tr>\n",
       "    <tr>\n",
       "      <td>2020-04-06</td>\n",
       "      <td>1.1735</td>\n",
       "      <td>1.2450</td>\n",
       "      <td>1.1555</td>\n",
       "      <td>1.2025</td>\n",
       "      <td>62164737.0</td>\n",
       "      <td>0.0</td>\n",
       "      <td>0</td>\n",
       "    </tr>\n",
       "    <tr>\n",
       "      <td>2020-04-13</td>\n",
       "      <td>1.2025</td>\n",
       "      <td>1.2600</td>\n",
       "      <td>1.2005</td>\n",
       "      <td>1.2495</td>\n",
       "      <td>62278404.0</td>\n",
       "      <td>0.0</td>\n",
       "      <td>0</td>\n",
       "    </tr>\n",
       "    <tr>\n",
       "      <td>2020-04-20</td>\n",
       "      <td>1.2580</td>\n",
       "      <td>1.2695</td>\n",
       "      <td>1.1930</td>\n",
       "      <td>1.2210</td>\n",
       "      <td>53375910.0</td>\n",
       "      <td>0.0</td>\n",
       "      <td>0</td>\n",
       "    </tr>\n",
       "    <tr>\n",
       "      <td>2020-04-27</td>\n",
       "      <td>1.2480</td>\n",
       "      <td>1.2600</td>\n",
       "      <td>1.2080</td>\n",
       "      <td>1.2425</td>\n",
       "      <td>39534462.0</td>\n",
       "      <td>0.0</td>\n",
       "      <td>0</td>\n",
       "    </tr>\n",
       "    <tr>\n",
       "      <td>2020-04-30</td>\n",
       "      <td>1.2450</td>\n",
       "      <td>1.2485</td>\n",
       "      <td>1.2250</td>\n",
       "      <td>1.2425</td>\n",
       "      <td>10305332.0</td>\n",
       "      <td>0.0</td>\n",
       "      <td>0</td>\n",
       "    </tr>\n",
       "  </tbody>\n",
       "</table>\n",
       "<p>1081 rows × 7 columns</p>\n",
       "</div>"
      ],
      "text/plain": [
       "              Open    High     Low   Close      Volume  Dividends  \\\n",
       "Date                                                                \n",
       "2000-01-03  1.9766  2.0353  1.6537  1.8885  40860000.0        0.0   \n",
       "2000-01-10  1.9423  1.9423  1.7662  1.9326  30296000.0        0.0   \n",
       "2000-01-17  1.9326  1.9472  1.8102  1.8494  37283000.0        0.0   \n",
       "2000-01-24  1.8494  2.2848  1.8005  2.1380  65382000.0        0.0   \n",
       "2000-01-31  2.0842  2.3582  2.0549  2.3044  50591000.0        0.0   \n",
       "...            ...     ...     ...     ...         ...        ...   \n",
       "2020-04-06  1.1735  1.2450  1.1555  1.2025  62164737.0        0.0   \n",
       "2020-04-13  1.2025  1.2600  1.2005  1.2495  62278404.0        0.0   \n",
       "2020-04-20  1.2580  1.2695  1.1930  1.2210  53375910.0        0.0   \n",
       "2020-04-27  1.2480  1.2600  1.2080  1.2425  39534462.0        0.0   \n",
       "2020-04-30  1.2450  1.2485  1.2250  1.2425  10305332.0        0.0   \n",
       "\n",
       "            Stock Splits  \n",
       "Date                      \n",
       "2000-01-03             0  \n",
       "2000-01-10             0  \n",
       "2000-01-17             0  \n",
       "2000-01-24             0  \n",
       "2000-01-31             0  \n",
       "...                  ...  \n",
       "2020-04-06             0  \n",
       "2020-04-13             0  \n",
       "2020-04-20             0  \n",
       "2020-04-27             0  \n",
       "2020-04-30             0  \n",
       "\n",
       "[1081 rows x 7 columns]"
      ]
     },
     "execution_count": 7,
     "metadata": {},
     "output_type": "execute_result"
    }
   ],
   "source": [
    "a2a_history"
   ]
  },
  {
   "cell_type": "code",
   "execution_count": 8,
   "metadata": {},
   "outputs": [
    {
     "data": {
      "text/plain": [
       "pandas.core.frame.DataFrame"
      ]
     },
     "execution_count": 8,
     "metadata": {},
     "output_type": "execute_result"
    }
   ],
   "source": [
    "type(a2a_history)"
   ]
  },
  {
   "cell_type": "code",
   "execution_count": 9,
   "metadata": {},
   "outputs": [
    {
     "data": {
      "text/plain": [
       "<matplotlib.axes._subplots.AxesSubplot at 0x1b279399cc8>"
      ]
     },
     "execution_count": 9,
     "metadata": {},
     "output_type": "execute_result"
    },
    {
     "data": {
      "image/png": "[encoded data removed]",
      "text/plain": [
       "<Figure size 720x432 with 1 Axes>"
      ]
     },
     "metadata": {
      "needs_background": "light"
     },
     "output_type": "display_data"
    }
   ],
   "source": [
    "ax = a2a_history.loc['2018-01-01':, \"Close\"].plot(figsize=(10,6))\n",
    "\n",
    "ax.set_title(\"A2A\")\n",
    "ax.set_ylabel(\"Close Price\")\n",
    "ax.set_xlabel(\"Weeks\")\n",
    "\n",
    "ax\n"
   ]
  },
  {
   "cell_type": "markdown",
   "metadata": {},
   "source": [
    "From the above plotting it's clearly evident the drop due to Coronavirus outbreak. "
   ]
  },
  {
   "cell_type": "markdown",
   "metadata": {},
   "source": [
    "--- "
   ]
  },
  {
   "cell_type": "markdown",
   "metadata": {},
   "source": [
    "**2)** Ftse Mib index does show a strange pattern according to yahoo finance. \n",
    "\n",
    "Indeed, the provider has not updated the series since 2018 generating a relevant lack of information. \n"
   ]
  },
  {
   "cell_type": "code",
   "execution_count": null,
   "metadata": {},
   "outputs": [],
   "source": [
    "#ax = ftseMib_history.loc[\"2018-01-01\":,\"Close\"].plot(figsize=(10,6))\n",
    "#ax.set_title(\"FTSE MIB ITALIA\")\n",
    "#ax.set_ylabel(\"Close Price\")\n",
    "#ax"
   ]
  },
  {
   "cell_type": "markdown",
   "metadata": {},
   "source": [
    "### - How to import from Investing.com and solve several related problems  <a name=\"imports2\"></a>"
   ]
  },
  {
   "cell_type": "markdown",
   "metadata": {},
   "source": [
    "A possible way to avoid this issue is to adopt another data provider such as Investing.com"
   ]
  },
  {
   "cell_type": "code",
   "execution_count": 13,
   "metadata": {},
   "outputs": [],
   "source": [
    "dataPath = \"C:/Users/simon/OneDrive/Desktop/Corporate-valuation-/Notebook/Data set\""
   ]
  },
  {
   "cell_type": "code",
   "execution_count": 14,
   "metadata": {},
   "outputs": [],
   "source": [
    "filePath = os.path.join(dataPath, \"ftsemib.csv\")"
   ]
  },
  {
   "cell_type": "markdown",
   "metadata": {},
   "source": [
    "Unfortunately, Investor allows us to download time series of traded stock but at a cost: they are presentend in .csv format as a dataframe of strings."
   ]
  },
  {
   "cell_type": "code",
   "execution_count": 15,
   "metadata": {},
   "outputs": [
    {
     "data": {
      "text/html": [
       "<div>\n",
       "<style scoped>\n",
       "    .dataframe tbody tr th:only-of-type {\n",
       "        vertical-align: middle;\n",
       "    }\n",
       "\n",
       "    .dataframe tbody tr th {\n",
       "        vertical-align: top;\n",
       "    }\n",
       "\n",
       "    .dataframe thead th {\n",
       "        text-align: right;\n",
       "    }\n",
       "</style>\n",
       "<table border=\"1\" class=\"dataframe\">\n",
       "  <thead>\n",
       "    <tr style=\"text-align: right;\">\n",
       "      <th></th>\n",
       "      <th>Ultimo</th>\n",
       "      <th>Apertura</th>\n",
       "      <th>Massimo</th>\n",
       "      <th>Minimo</th>\n",
       "      <th>Vol.</th>\n",
       "      <th>Var. %</th>\n",
       "    </tr>\n",
       "    <tr>\n",
       "      <th>Data</th>\n",
       "      <th></th>\n",
       "      <th></th>\n",
       "      <th></th>\n",
       "      <th></th>\n",
       "      <th></th>\n",
       "      <th></th>\n",
       "    </tr>\n",
       "  </thead>\n",
       "  <tbody>\n",
       "    <tr>\n",
       "      <td>27.04.2020</td>\n",
       "      <td>17.380,21</td>\n",
       "      <td>17.313,48</td>\n",
       "      <td>17.380,21</td>\n",
       "      <td>17.163,85</td>\n",
       "      <td>307,77M</td>\n",
       "      <td>3,09%</td>\n",
       "    </tr>\n",
       "    <tr>\n",
       "      <td>24.04.2020</td>\n",
       "      <td>16.858,89</td>\n",
       "      <td>16.640,17</td>\n",
       "      <td>17.155,11</td>\n",
       "      <td>16.640,17</td>\n",
       "      <td>349,28M</td>\n",
       "      <td>-0,89%</td>\n",
       "    </tr>\n",
       "    <tr>\n",
       "      <td>23.04.2020</td>\n",
       "      <td>17.011,11</td>\n",
       "      <td>16.925,36</td>\n",
       "      <td>17.145,44</td>\n",
       "      <td>16.778,15</td>\n",
       "      <td>392,98M</td>\n",
       "      <td>1,47%</td>\n",
       "    </tr>\n",
       "    <tr>\n",
       "      <td>22.04.2020</td>\n",
       "      <td>16.765,28</td>\n",
       "      <td>16.615,00</td>\n",
       "      <td>16.770,44</td>\n",
       "      <td>16.555,34</td>\n",
       "      <td>347,50M</td>\n",
       "      <td>1,91%</td>\n",
       "    </tr>\n",
       "    <tr>\n",
       "      <td>21.04.2020</td>\n",
       "      <td>16.450,85</td>\n",
       "      <td>16.811,87</td>\n",
       "      <td>16.934,52</td>\n",
       "      <td>16.450,85</td>\n",
       "      <td>401,99M</td>\n",
       "      <td>-3,59%</td>\n",
       "    </tr>\n",
       "    <tr>\n",
       "      <td>...</td>\n",
       "      <td>...</td>\n",
       "      <td>...</td>\n",
       "      <td>...</td>\n",
       "      <td>...</td>\n",
       "      <td>...</td>\n",
       "      <td>...</td>\n",
       "    </tr>\n",
       "    <tr>\n",
       "      <td>07.01.2015</td>\n",
       "      <td>18.123,45</td>\n",
       "      <td>18.226,43</td>\n",
       "      <td>18.478,11</td>\n",
       "      <td>17.991,76</td>\n",
       "      <td>752,62M</td>\n",
       "      <td>-0,11%</td>\n",
       "    </tr>\n",
       "    <tr>\n",
       "      <td>06.01.2015</td>\n",
       "      <td>18.143,26</td>\n",
       "      <td>18.298,26</td>\n",
       "      <td>18.523,74</td>\n",
       "      <td>18.041,32</td>\n",
       "      <td>703,94M</td>\n",
       "      <td>-0,25%</td>\n",
       "    </tr>\n",
       "    <tr>\n",
       "      <td>05.01.2015</td>\n",
       "      <td>18.188,44</td>\n",
       "      <td>18.961,03</td>\n",
       "      <td>19.190,24</td>\n",
       "      <td>18.188,44</td>\n",
       "      <td>836,17M</td>\n",
       "      <td>-4,92%</td>\n",
       "    </tr>\n",
       "    <tr>\n",
       "      <td>04.01.2015</td>\n",
       "      <td>19.130,26</td>\n",
       "      <td>19.130,26</td>\n",
       "      <td>19.130,26</td>\n",
       "      <td>19.130,26</td>\n",
       "      <td>-</td>\n",
       "      <td>0,00%</td>\n",
       "    </tr>\n",
       "    <tr>\n",
       "      <td>02.01.2015</td>\n",
       "      <td>19.130,26</td>\n",
       "      <td>19.156,72</td>\n",
       "      <td>19.246,76</td>\n",
       "      <td>18.919,65</td>\n",
       "      <td>513,82M</td>\n",
       "      <td>0,62%</td>\n",
       "    </tr>\n",
       "  </tbody>\n",
       "</table>\n",
       "<p>1350 rows × 6 columns</p>\n",
       "</div>"
      ],
      "text/plain": [
       "               Ultimo   Apertura    Massimo     Minimo     Vol.  Var. %\n",
       "Data                                                                   \n",
       "27.04.2020  17.380,21  17.313,48  17.380,21  17.163,85  307,77M   3,09%\n",
       "24.04.2020  16.858,89  16.640,17  17.155,11  16.640,17  349,28M  -0,89%\n",
       "23.04.2020  17.011,11  16.925,36  17.145,44  16.778,15  392,98M   1,47%\n",
       "22.04.2020  16.765,28  16.615,00  16.770,44  16.555,34  347,50M   1,91%\n",
       "21.04.2020  16.450,85  16.811,87  16.934,52  16.450,85  401,99M  -3,59%\n",
       "...               ...        ...        ...        ...      ...     ...\n",
       "07.01.2015  18.123,45  18.226,43  18.478,11  17.991,76  752,62M  -0,11%\n",
       "06.01.2015  18.143,26  18.298,26  18.523,74  18.041,32  703,94M  -0,25%\n",
       "05.01.2015  18.188,44  18.961,03  19.190,24  18.188,44  836,17M  -4,92%\n",
       "04.01.2015  19.130,26  19.130,26  19.130,26  19.130,26        -   0,00%\n",
       "02.01.2015  19.130,26  19.156,72  19.246,76  18.919,65  513,82M   0,62%\n",
       "\n",
       "[1350 rows x 6 columns]"
      ]
     },
     "execution_count": 15,
     "metadata": {},
     "output_type": "execute_result"
    }
   ],
   "source": [
    "df_Ftse = pd.read_csv(filePath, index_col=0)\n",
    "df_Ftse"
   ]
  },
  {
   "cell_type": "markdown",
   "metadata": {},
   "source": [
    "#### List of problems with Investing's time series <a name=\"here\"></a>"
   ]
  },
  {
   "cell_type": "markdown",
   "metadata": {},
   "source": [
    "**0)** From date index we must convert into an American convention: days with months and viceversa. _(This approach not always is compulsory, anyway we integrate it into the function)_\n",
    "\n",
    "**1)** All the elements are strings: we must convert date indices in a DateTime object and the other values in float data type.\n",
    "\n",
    "**2)** Figures are expressed in European convention: we must invert points with commas to express decimal part and remove points used for thousands. \n",
    "\n",
    "**3)** Finally, we must revert the order of dates: from the furthest to the most recent. "
   ]
  },
  {
   "cell_type": "code",
   "execution_count": 22,
   "metadata": {},
   "outputs": [
    {
     "name": "stdout",
     "output_type": "stream",
     "text": [
      "17.380,21\n"
     ]
    },
    {
     "data": {
      "text/plain": [
       "str"
      ]
     },
     "execution_count": 22,
     "metadata": {},
     "output_type": "execute_result"
    }
   ],
   "source": [
    "print(df_Ftse[\"Ultimo\"][0])\n",
    "type(df_Ftse[\"Ultimo\"][0])"
   ]
  },
  {
   "cell_type": "markdown",
   "metadata": {},
   "source": [
    "the same as "
   ]
  },
  {
   "cell_type": "code",
   "execution_count": 23,
   "metadata": {},
   "outputs": [
    {
     "name": "stdout",
     "output_type": "stream",
     "text": [
      "17.380,21\n"
     ]
    },
    {
     "data": {
      "text/plain": [
       "str"
      ]
     },
     "execution_count": 23,
     "metadata": {},
     "output_type": "execute_result"
    }
   ],
   "source": [
    "print(df_Ftse.iloc[0,0])\n",
    "type(df_Ftse.iloc[0,0])"
   ]
  },
  {
   "cell_type": "markdown",
   "metadata": {},
   "source": [
    "The following functions try to solve problems presented from n°1 to n°3: "
   ]
  },
  {
   "cell_type": "code",
   "execution_count": 28,
   "metadata": {},
   "outputs": [],
   "source": [
    "def modifyInvesting(dataFrame):\n",
    "  \n",
    "    \"\"\"\"\n",
    "    With this function I remove points and convert commas into points for every dataframe column. Thereafter I convert strings\n",
    "    to float data type for each element in columns. \n",
    "    This is a correction needed to import dataframes from Investing csv's. \n",
    "    \n",
    "    modifyInvesting(dataFrame) function first of all converts respectively \".\" to \" \" and \",\" to \".\" in dataFrames according to American convention. \n",
    "    Then it transform each value in each column from strings to float data type. \n",
    "    \n",
    "    Parameter: \n",
    "        (dataFrame): dataFrame data structure I imported from Investing.com, each element is a string. \n",
    "         \n",
    "    Results:\n",
    "        (dataFrame): the same data frame with values converted to make data analysis.  \n",
    "    \"\"\"\n",
    "   \n",
    "    for col in dataFrame:\n",
    "        \n",
    "        for i in range(len(dataFrame[col])):\n",
    "            \n",
    "            dataFrame[col][i] =  dataFrame[col][i].replace('.','').replace(',','.')\n",
    "            \n",
    "    \n",
    "    for col in dataFrame:\n",
    "            \n",
    "        dataFrame[col] = dataFrame[col].astype(float)\n",
    "   \n",
    "\n",
    "\n",
    "    dataFrame = dataFrame.iloc[::-1]\n",
    "\n",
    "        \n",
    "    return dataFrame"
   ]
  },
  {
   "cell_type": "code",
   "execution_count": 54,
   "metadata": {},
   "outputs": [],
   "source": [
    "def modInvesting(dataFrame): \n",
    "\n",
    "    \"\"\"\n",
    "    With this function I remove points and convert commas into points for every dataframe column. Thereafter I convert strings\n",
    "    to float data type for each element in columns. \n",
    "    This is a correction needed to import dataframes from Investing csv's. \n",
    "    This is a leaner alternative to previous function, more compact but equally efficient.\n",
    "    \n",
    "    modInvesting(dataFrame) function first of all converts respectively \".\" to \" \" and \",\" to \".\" in dataFrames according to American convention. \n",
    "    Then it transform each value in each column from strings to float data type. \n",
    "    \n",
    "    Parameter: \n",
    "        (dataFrame): dataFrame data structure I imported from Investing.com, each element is a string. \n",
    "         \n",
    "    Results:\n",
    "        (dataFrame): the same data frame with values converted to make data analysis.  \n",
    "    \"\"\"\n",
    "    \n",
    "#With the following command I apply the function lambda to replace points with white bars to all elements of each column\n",
    "    \n",
    "    dataFrame = dataFrame.apply(lambda x: x.str.replace(\".\", \"\"))\n",
    "    \n",
    "#With the following command I apply the function lambda to replace commas with points to all elements of each column\n",
    "    \n",
    "    dataFrame = dataFrame.apply(lambda x: x.str.replace(\",\", \".\"))\n",
    "    \n",
    "#With the following command I apply the function lambda to convert in a numeric format all strings values in each column\n",
    "    \n",
    "    dataFrame = dataFrame.apply(pd.to_numeric)\n",
    "    \n",
    "#Finally, I can revert the order of rows in dataFrame object\n",
    "    \n",
    "    dataFrame = dataFrame.iloc[::-1,::]\n",
    "    \n",
    "    \n",
    "    return dataFrame\n",
    "    \n",
    "\n"
   ]
  },
  {
   "cell_type": "code",
   "execution_count": 24,
   "metadata": {},
   "outputs": [
    {
     "data": {
      "text/html": [
       "<div>\n",
       "<style scoped>\n",
       "    .dataframe tbody tr th:only-of-type {\n",
       "        vertical-align: middle;\n",
       "    }\n",
       "\n",
       "    .dataframe tbody tr th {\n",
       "        vertical-align: top;\n",
       "    }\n",
       "\n",
       "    .dataframe thead th {\n",
       "        text-align: right;\n",
       "    }\n",
       "</style>\n",
       "<table border=\"1\" class=\"dataframe\">\n",
       "  <thead>\n",
       "    <tr style=\"text-align: right;\">\n",
       "      <th></th>\n",
       "      <th>Ultimo</th>\n",
       "      <th>Apertura</th>\n",
       "      <th>Massimo</th>\n",
       "      <th>Minimo</th>\n",
       "    </tr>\n",
       "  </thead>\n",
       "  <tbody>\n",
       "    <tr>\n",
       "      <td>2020-04-27</td>\n",
       "      <td>17.380,21</td>\n",
       "      <td>17.313,48</td>\n",
       "      <td>17.380,21</td>\n",
       "      <td>17.163,85</td>\n",
       "    </tr>\n",
       "    <tr>\n",
       "      <td>2020-04-24</td>\n",
       "      <td>16.858,89</td>\n",
       "      <td>16.640,17</td>\n",
       "      <td>17.155,11</td>\n",
       "      <td>16.640,17</td>\n",
       "    </tr>\n",
       "    <tr>\n",
       "      <td>2020-04-23</td>\n",
       "      <td>17.011,11</td>\n",
       "      <td>16.925,36</td>\n",
       "      <td>17.145,44</td>\n",
       "      <td>16.778,15</td>\n",
       "    </tr>\n",
       "    <tr>\n",
       "      <td>2020-04-22</td>\n",
       "      <td>16.765,28</td>\n",
       "      <td>16.615,00</td>\n",
       "      <td>16.770,44</td>\n",
       "      <td>16.555,34</td>\n",
       "    </tr>\n",
       "    <tr>\n",
       "      <td>2020-04-21</td>\n",
       "      <td>16.450,85</td>\n",
       "      <td>16.811,87</td>\n",
       "      <td>16.934,52</td>\n",
       "      <td>16.450,85</td>\n",
       "    </tr>\n",
       "    <tr>\n",
       "      <td>...</td>\n",
       "      <td>...</td>\n",
       "      <td>...</td>\n",
       "      <td>...</td>\n",
       "      <td>...</td>\n",
       "    </tr>\n",
       "    <tr>\n",
       "      <td>2015-01-07</td>\n",
       "      <td>18.123,45</td>\n",
       "      <td>18.226,43</td>\n",
       "      <td>18.478,11</td>\n",
       "      <td>17.991,76</td>\n",
       "    </tr>\n",
       "    <tr>\n",
       "      <td>2015-01-06</td>\n",
       "      <td>18.143,26</td>\n",
       "      <td>18.298,26</td>\n",
       "      <td>18.523,74</td>\n",
       "      <td>18.041,32</td>\n",
       "    </tr>\n",
       "    <tr>\n",
       "      <td>2015-01-05</td>\n",
       "      <td>18.188,44</td>\n",
       "      <td>18.961,03</td>\n",
       "      <td>19.190,24</td>\n",
       "      <td>18.188,44</td>\n",
       "    </tr>\n",
       "    <tr>\n",
       "      <td>2015-01-04</td>\n",
       "      <td>19.130,26</td>\n",
       "      <td>19.130,26</td>\n",
       "      <td>19.130,26</td>\n",
       "      <td>19.130,26</td>\n",
       "    </tr>\n",
       "    <tr>\n",
       "      <td>2015-01-02</td>\n",
       "      <td>19.130,26</td>\n",
       "      <td>19.156,72</td>\n",
       "      <td>19.246,76</td>\n",
       "      <td>18.919,65</td>\n",
       "    </tr>\n",
       "  </tbody>\n",
       "</table>\n",
       "<p>1350 rows × 4 columns</p>\n",
       "</div>"
      ],
      "text/plain": [
       "               Ultimo   Apertura    Massimo     Minimo\n",
       "2020-04-27  17.380,21  17.313,48  17.380,21  17.163,85\n",
       "2020-04-24  16.858,89  16.640,17  17.155,11  16.640,17\n",
       "2020-04-23  17.011,11  16.925,36  17.145,44  16.778,15\n",
       "2020-04-22  16.765,28  16.615,00  16.770,44  16.555,34\n",
       "2020-04-21  16.450,85  16.811,87  16.934,52  16.450,85\n",
       "...               ...        ...        ...        ...\n",
       "2015-01-07  18.123,45  18.226,43  18.478,11  17.991,76\n",
       "2015-01-06  18.143,26  18.298,26  18.523,74  18.041,32\n",
       "2015-01-05  18.188,44  18.961,03  19.190,24  18.188,44\n",
       "2015-01-04  19.130,26  19.130,26  19.130,26  19.130,26\n",
       "2015-01-02  19.130,26  19.156,72  19.246,76  18.919,65\n",
       "\n",
       "[1350 rows x 4 columns]"
      ]
     },
     "execution_count": 24,
     "metadata": {},
     "output_type": "execute_result"
    }
   ],
   "source": [
    "df_FtseNew = df_Ftse[['Ultimo','Apertura','Massimo','Minimo']]\n",
    "df_FtseNew"
   ]
  },
  {
   "cell_type": "code",
   "execution_count": 25,
   "metadata": {},
   "outputs": [
    {
     "data": {
      "text/plain": [
       "2020-04-27    17.380,21\n",
       "2020-04-24    16.858,89\n",
       "2020-04-23    17.011,11\n",
       "2020-04-22    16.765,28\n",
       "2020-04-21    16.450,85\n",
       "                ...    \n",
       "2015-01-07    18.123,45\n",
       "2015-01-06    18.143,26\n",
       "2015-01-05    18.188,44\n",
       "2015-01-04    19.130,26\n",
       "2015-01-02    19.130,26\n",
       "Name: Ultimo, Length: 1350, dtype: object"
      ]
     },
     "execution_count": 25,
     "metadata": {},
     "output_type": "execute_result"
    }
   ],
   "source": [
    "df_FtseNew[\"Ultimo\"]"
   ]
  },
  {
   "cell_type": "code",
   "execution_count": 30,
   "metadata": {},
   "outputs": [],
   "source": [
    "df_FtseMib = modInvesting(df_FtseNew) #I call the function and execute the change \n",
    "\n"
   ]
  },
  {
   "cell_type": "code",
   "execution_count": 31,
   "metadata": {
    "scrolled": true
   },
   "outputs": [
    {
     "data": {
      "text/html": [
       "<div>\n",
       "<style scoped>\n",
       "    .dataframe tbody tr th:only-of-type {\n",
       "        vertical-align: middle;\n",
       "    }\n",
       "\n",
       "    .dataframe tbody tr th {\n",
       "        vertical-align: top;\n",
       "    }\n",
       "\n",
       "    .dataframe thead th {\n",
       "        text-align: right;\n",
       "    }\n",
       "</style>\n",
       "<table border=\"1\" class=\"dataframe\">\n",
       "  <thead>\n",
       "    <tr style=\"text-align: right;\">\n",
       "      <th></th>\n",
       "      <th>Ultimo</th>\n",
       "      <th>Apertura</th>\n",
       "      <th>Massimo</th>\n",
       "      <th>Minimo</th>\n",
       "    </tr>\n",
       "  </thead>\n",
       "  <tbody>\n",
       "    <tr>\n",
       "      <td>2015-01-02</td>\n",
       "      <td>19130.26</td>\n",
       "      <td>19156.72</td>\n",
       "      <td>19246.76</td>\n",
       "      <td>18919.65</td>\n",
       "    </tr>\n",
       "    <tr>\n",
       "      <td>2015-01-04</td>\n",
       "      <td>19130.26</td>\n",
       "      <td>19130.26</td>\n",
       "      <td>19130.26</td>\n",
       "      <td>19130.26</td>\n",
       "    </tr>\n",
       "    <tr>\n",
       "      <td>2015-01-05</td>\n",
       "      <td>18188.44</td>\n",
       "      <td>18961.03</td>\n",
       "      <td>19190.24</td>\n",
       "      <td>18188.44</td>\n",
       "    </tr>\n",
       "    <tr>\n",
       "      <td>2015-01-06</td>\n",
       "      <td>18143.26</td>\n",
       "      <td>18298.26</td>\n",
       "      <td>18523.74</td>\n",
       "      <td>18041.32</td>\n",
       "    </tr>\n",
       "    <tr>\n",
       "      <td>2015-01-07</td>\n",
       "      <td>18123.45</td>\n",
       "      <td>18226.43</td>\n",
       "      <td>18478.11</td>\n",
       "      <td>17991.76</td>\n",
       "    </tr>\n",
       "    <tr>\n",
       "      <td>...</td>\n",
       "      <td>...</td>\n",
       "      <td>...</td>\n",
       "      <td>...</td>\n",
       "      <td>...</td>\n",
       "    </tr>\n",
       "    <tr>\n",
       "      <td>2020-04-21</td>\n",
       "      <td>16450.85</td>\n",
       "      <td>16811.87</td>\n",
       "      <td>16934.52</td>\n",
       "      <td>16450.85</td>\n",
       "    </tr>\n",
       "    <tr>\n",
       "      <td>2020-04-22</td>\n",
       "      <td>16765.28</td>\n",
       "      <td>16615.00</td>\n",
       "      <td>16770.44</td>\n",
       "      <td>16555.34</td>\n",
       "    </tr>\n",
       "    <tr>\n",
       "      <td>2020-04-23</td>\n",
       "      <td>17011.11</td>\n",
       "      <td>16925.36</td>\n",
       "      <td>17145.44</td>\n",
       "      <td>16778.15</td>\n",
       "    </tr>\n",
       "    <tr>\n",
       "      <td>2020-04-24</td>\n",
       "      <td>16858.89</td>\n",
       "      <td>16640.17</td>\n",
       "      <td>17155.11</td>\n",
       "      <td>16640.17</td>\n",
       "    </tr>\n",
       "    <tr>\n",
       "      <td>2020-04-27</td>\n",
       "      <td>17380.21</td>\n",
       "      <td>17313.48</td>\n",
       "      <td>17380.21</td>\n",
       "      <td>17163.85</td>\n",
       "    </tr>\n",
       "  </tbody>\n",
       "</table>\n",
       "<p>1350 rows × 4 columns</p>\n",
       "</div>"
      ],
      "text/plain": [
       "              Ultimo  Apertura   Massimo    Minimo\n",
       "2015-01-02  19130.26  19156.72  19246.76  18919.65\n",
       "2015-01-04  19130.26  19130.26  19130.26  19130.26\n",
       "2015-01-05  18188.44  18961.03  19190.24  18188.44\n",
       "2015-01-06  18143.26  18298.26  18523.74  18041.32\n",
       "2015-01-07  18123.45  18226.43  18478.11  17991.76\n",
       "...              ...       ...       ...       ...\n",
       "2020-04-21  16450.85  16811.87  16934.52  16450.85\n",
       "2020-04-22  16765.28  16615.00  16770.44  16555.34\n",
       "2020-04-23  17011.11  16925.36  17145.44  16778.15\n",
       "2020-04-24  16858.89  16640.17  17155.11  16640.17\n",
       "2020-04-27  17380.21  17313.48  17380.21  17163.85\n",
       "\n",
       "[1350 rows x 4 columns]"
      ]
     },
     "execution_count": 31,
     "metadata": {},
     "output_type": "execute_result"
    }
   ],
   "source": [
    "df_FtseMib #The result of conversion "
   ]
  },
  {
   "cell_type": "code",
   "execution_count": 32,
   "metadata": {},
   "outputs": [
    {
     "data": {
      "text/plain": [
       "<matplotlib.axes._subplots.AxesSubplot at 0x1b27a0265c8>"
      ]
     },
     "execution_count": 32,
     "metadata": {},
     "output_type": "execute_result"
    },
    {
     "data": {
      "image/png": "[encoded data removed]",
      "text/plain": [
       "<Figure size 720x432 with 1 Axes>"
      ]
     },
     "metadata": {
      "needs_background": "light"
     },
     "output_type": "display_data"
    }
   ],
   "source": [
    "#Now I can plot it \n",
    "\n",
    "df_FtseMib.loc['2020-02-15': , \"Ultimo\"].plot(figsize=(10,6))"
   ]
  },
  {
   "cell_type": "markdown",
   "metadata": {},
   "source": [
    "#### All previous problems solved with one function"
   ]
  },
  {
   "cell_type": "markdown",
   "metadata": {},
   "source": [
    "The following function catches previous results in order to create a simple tool we will use in the future to solve [all problems](#here) related with importing time series from Investing.com data provider. "
   ]
  },
  {
   "cell_type": "code",
   "execution_count": 32,
   "metadata": {},
   "outputs": [],
   "source": [
    "def modInvestingComplete(dataFrame): \n",
    "   \n",
    "    import datetime as dt # It can be omitted if preliminary imported\n",
    "    \n",
    "    \"\"\"\n",
    "    This function  starts modifying the DataFrame index composed by strings starting from element's aspetct \n",
    "    (converting dots to minus) and then modifying their order into convention \"Y-M-D\". Finally, it converts the list into a \n",
    "    dateTime object wich will replace the previous index. \n",
    "    All in order to have a correct index composed by dates which can be passed to get every useful result. \n",
    "     \n",
    "    \n",
    "    Then it passes to dataFrame elements removing points and converting commas into points for every dataframe column.\n",
    "    Thereafter it converts strings to float data type for each element in columns. \n",
    "    This is a correction needed to import dataframes from Investing csv's. \n",
    "    This is a leaner alternative to previous function, more compact but equally efficient.\n",
    "    \n",
    "    modInvesting(dataFrame) function first of all converts index into a list data type,  respectively \".\" to \" \" and \",\" to \".\" in dataFrames according to American convention. \n",
    "    Then it transform each value in each column from strings to float data type. \n",
    "    \n",
    "    Parameter: \n",
    "        (dataFrame): dataFrame data structure I imported from Investing.com, each element is a string. \n",
    "         \n",
    "    Results:\n",
    "        (dataFrame): the same data frame with values converted to make data analysis.  \n",
    "    \"\"\"\n",
    "\n",
    "\n",
    "\n",
    "\n",
    "    strDates = dataFrame.index.tolist()\n",
    "    \n",
    "    for i in range(len(strDates)):\n",
    "        strDates[i] = strDates[i].replace('.','-')\n",
    "            \n",
    "    dates = [dt.datetime.strptime(strDates[i], \"%d-%m-%Y\") for i in range(len(strDates))]\n",
    "    \n",
    "    newStrDates = [dt.datetime.strftime(dates[i], \"%Y-%m-%d\") for i in range (len(dates))]\n",
    "    \n",
    "    newDates = [dt.datetime.strptime(newStrDates[i], \"%Y-%m-%d\") for i in range(len(newStrDates))]\n",
    "\n",
    "    dataFrame.index = newDates\n",
    "    \n",
    "    \n",
    "    \n",
    "#With the following command I apply the function lambda to replace points with white bars to all elements of each column\n",
    "    \n",
    "    dataFrame = dataFrame.apply(lambda x: x.str.replace(\".\", \"\"))\n",
    "    \n",
    "#With the following command I apply the function lambda to replace commas with points to all elements of each column\n",
    "    \n",
    "    dataFrame = dataFrame.apply(lambda x: x.str.replace(\",\", \".\"))\n",
    "    \n",
    "#With the following command I apply the function lambda to convert in a numeric format all strings values in each column\n",
    "    \n",
    "    dataFrame = dataFrame.apply(pd.to_numeric)\n",
    "    \n",
    "#Finally, I can revert the order of rows in dataFrame object\n",
    "    \n",
    "    dataFrame = dataFrame.iloc[::-1,::]\n",
    "    \n",
    "    \n",
    "    \n",
    "    return  dataFrame\n",
    "    \n",
    "\n"
   ]
  },
  {
   "cell_type": "markdown",
   "metadata": {},
   "source": [
    "Once I have created what is needed, I can serialize it into a csv file and then remove the \"junk\" file I worked on. "
   ]
  },
  {
   "cell_type": "code",
   "execution_count": null,
   "metadata": {},
   "outputs": [],
   "source": [
    "pathFile = os.path.join(dataPath, \"adj_ftsemib.csv\")"
   ]
  },
  {
   "cell_type": "code",
   "execution_count": null,
   "metadata": {},
   "outputs": [],
   "source": [
    "df_FtseMib.to_csv(path_or_buf = pathFile)"
   ]
  },
  {
   "cell_type": "code",
   "execution_count": null,
   "metadata": {},
   "outputs": [],
   "source": [
    "removeFile(filePath)"
   ]
  },
  {
   "cell_type": "markdown",
   "metadata": {},
   "source": [
    "## 3) Ready to use function to import time series from Investing.com <a name=\"import3\"></a>"
   ]
  },
  {
   "cell_type": "markdown",
   "metadata": {},
   "source": [
    "Let's now define a function in order to solve all previous problems related to reorganization and selection of columns. The purpose is to simplify all the procedures without repeating code lines. \n",
    "\n",
    "We will also implement the feature of direct log returns computation, avoiding some useless steps. \n",
    "\n"
   ]
  },
  {
   "cell_type": "code",
   "execution_count": 142,
   "metadata": {},
   "outputs": [],
   "source": [
    "def investingSeries(dataFrame,col,beg,end,logret,freq): \n",
    "   \n",
    "    import datetime as dt # It can be omitted if preliminary imported\n",
    "    \n",
    "    \"\"\"\n",
    "    This function  starts modifying the DataFrame index composed by strings starting from element's aspetct \n",
    "    (converting dots to minus) and then modifying their order into convention \"Y-M-D\". Finally, it converts the list into a \n",
    "    dateTime object wich will replace the previous index. \n",
    "    All in order to have a correct index composed by dates which can be passed to get every useful result. \n",
    "     \n",
    "    \n",
    "    Then it passes to dataFrame elements removing points and converting commas into points for every dataframe column.\n",
    "    Thereafter it converts strings to float data type for each element in columns. \n",
    "    This is a correction needed to import dataframes from Investing csv's. \n",
    "    This is a leaner alternative to previous function, more compact but equally efficient.\n",
    "    \n",
    "    modInvesting(dataFrame) function first of all converts index into a list data type,  respectively \".\" to \" \" and \",\" to \".\" in dataFrames according to American convention. \n",
    "    Then it transform each value in each column from strings to float data type. \n",
    "    \n",
    "    Parameter: \n",
    "        (dataFrame): dataFrame data structure I imported from Investing.com, each element is a string. \n",
    "         \n",
    "    Results:\n",
    "        (dataFrame): the same data frame with values converted to make data analysis.  \n",
    "    \"\"\"\n",
    "\n",
    "        \n",
    "\n",
    "    \n",
    "    \n",
    "    if  \"Vol.\" in dataFrame.columns:\n",
    "        del dataFrame[\"Vol.\"]\n",
    "            \n",
    "    if \"Var. %\" in dataFrame.columns:\n",
    "        del dataFrame[\"Var. %\"]\n",
    "    \n",
    "    \n",
    "\n",
    "\n",
    "    strDates = dataFrame.index.tolist()\n",
    "    \n",
    "    for i in range(len(strDates)):\n",
    "        strDates[i] = strDates[i].replace('.','-')\n",
    "            \n",
    "    dates = [dt.datetime.strptime(strDates[i], \"%d-%m-%Y\") for i in range(len(strDates))]\n",
    "    \n",
    "    newStrDates = [dt.datetime.strftime(dates[i], \"%Y-%m-%d\") for i in range (len(dates))]\n",
    "    \n",
    "    newDates = [dt.datetime.strptime(newStrDates[i], \"%Y-%m-%d\") for i in range(len(newStrDates))]\n",
    "\n",
    "    dataFrame.index = newDates\n",
    "    \n",
    "    \n",
    "    \n",
    "#With the following command I apply the function lambda to replace points with white bars to all elements of each column\n",
    "    \n",
    "    dataFrame = dataFrame.apply(lambda x: x.str.replace(\".\", \"\"))\n",
    "    \n",
    "#With the following command I apply the function lambda to replace commas with points to all elements of each column\n",
    "    \n",
    "    dataFrame = dataFrame.apply(lambda x: x.str.replace(\",\", \".\"))\n",
    "    \n",
    "#With the following command I apply the function lambda to convert in a numeric format all strings values in each column\n",
    "    \n",
    "    dataFrame = dataFrame.apply(pd.to_numeric)\n",
    "    \n",
    "#Finally, I can revert the order of rows in dataFrame object\n",
    "    \n",
    "    dataFrame = dataFrame.iloc[::-1,::]\n",
    "    \n",
    "    dataFrame = dataFrame.loc[beg : end ,col]\n",
    "    \n",
    "    if logret: \n",
    "        \n",
    "        if freq == \"1w\":\n",
    "            \n",
    "            df_tm1 = dataFrame.shift(periods = 1, freq =\"1w\")\n",
    "            \n",
    "            dflogRet = np.log(dataFrame) - np.log(df_tm1)\n",
    "            \n",
    "            \n",
    "            \n",
    "        elif freq == \"5B\":\n",
    "            \n",
    "            \n",
    "            df_tm1 = dataFrame.shift(periods = 1, freq =\"5B\")\n",
    "            \n",
    "            dflogRet = np.log(dataFrame) - np.log(df_tm1)\n",
    "            \n",
    "          \n",
    "            \n",
    "        else: \n",
    "            \n",
    "            df_tm1 = dataFrame.shift(periods = 1, freq =\"1B\")\n",
    "            \n",
    "            dflogRet = np.log(dataFrame) - np.log(df_tm1)\n",
    "            \n",
    "            \n",
    "            \n",
    "            \n",
    "        return dflogRet.dropna()\n",
    "    \n",
    "    else: \n",
    "        \n",
    "        return dataFrame\n",
    "            \n",
    "        "
   ]
  },
  {
   "cell_type": "code",
   "execution_count": 16,
   "metadata": {},
   "outputs": [],
   "source": [
    "dataPath = \"./Data set/Dataset for risk\""
   ]
  },
  {
   "cell_type": "code",
   "execution_count": 147,
   "metadata": {},
   "outputs": [],
   "source": [
    "filePath = os.path.join(dataPath, \"Euro Stoxx 50 weekly past 10 y dirty.csv\")"
   ]
  },
  {
   "cell_type": "code",
   "execution_count": 148,
   "metadata": {},
   "outputs": [],
   "source": [
    "test = pd.read_csv(filePath,index_col=0)"
   ]
  },
  {
   "cell_type": "code",
   "execution_count": 149,
   "metadata": {},
   "outputs": [
    {
     "data": {
      "text/html": [
       "<div>\n",
       "<style scoped>\n",
       "    .dataframe tbody tr th:only-of-type {\n",
       "        vertical-align: middle;\n",
       "    }\n",
       "\n",
       "    .dataframe tbody tr th {\n",
       "        vertical-align: top;\n",
       "    }\n",
       "\n",
       "    .dataframe thead th {\n",
       "        text-align: right;\n",
       "    }\n",
       "</style>\n",
       "<table border=\"1\" class=\"dataframe\">\n",
       "  <thead>\n",
       "    <tr style=\"text-align: right;\">\n",
       "      <th></th>\n",
       "      <th>Ultimo</th>\n",
       "      <th>Apertura</th>\n",
       "      <th>Massimo</th>\n",
       "      <th>Minimo</th>\n",
       "      <th>Vol.</th>\n",
       "      <th>Var. %</th>\n",
       "    </tr>\n",
       "    <tr>\n",
       "      <th>Data</th>\n",
       "      <th></th>\n",
       "      <th></th>\n",
       "      <th></th>\n",
       "      <th></th>\n",
       "      <th></th>\n",
       "      <th></th>\n",
       "    </tr>\n",
       "  </thead>\n",
       "  <tbody>\n",
       "    <tr>\n",
       "      <td>01.03.2020</td>\n",
       "      <td>3.232,07</td>\n",
       "      <td>3.355,33</td>\n",
       "      <td>3.448,24</td>\n",
       "      <td>3.216,44</td>\n",
       "      <td>394,04M</td>\n",
       "      <td>-2,93%</td>\n",
       "    </tr>\n",
       "    <tr>\n",
       "      <td>23.02.2020</td>\n",
       "      <td>3.329,49</td>\n",
       "      <td>3.762,35</td>\n",
       "      <td>3.762,35</td>\n",
       "      <td>3.283,18</td>\n",
       "      <td>424,44M</td>\n",
       "      <td>-12,39%</td>\n",
       "    </tr>\n",
       "    <tr>\n",
       "      <td>16.02.2020</td>\n",
       "      <td>3.800,38</td>\n",
       "      <td>3.843,10</td>\n",
       "      <td>3.867,28</td>\n",
       "      <td>3.776,82</td>\n",
       "      <td>207,41M</td>\n",
       "      <td>-1,06%</td>\n",
       "    </tr>\n",
       "    <tr>\n",
       "      <td>09.02.2020</td>\n",
       "      <td>3.840,97</td>\n",
       "      <td>3.794,18</td>\n",
       "      <td>3.854,43</td>\n",
       "      <td>3.779,10</td>\n",
       "      <td>177,97M</td>\n",
       "      <td>1,12%</td>\n",
       "    </tr>\n",
       "    <tr>\n",
       "      <td>02.02.2020</td>\n",
       "      <td>3.798,49</td>\n",
       "      <td>3.646,86</td>\n",
       "      <td>3.808,74</td>\n",
       "      <td>3.641,84</td>\n",
       "      <td>226,40M</td>\n",
       "      <td>4,33%</td>\n",
       "    </tr>\n",
       "    <tr>\n",
       "      <td>...</td>\n",
       "      <td>...</td>\n",
       "      <td>...</td>\n",
       "      <td>...</td>\n",
       "      <td>...</td>\n",
       "      <td>...</td>\n",
       "      <td>...</td>\n",
       "    </tr>\n",
       "    <tr>\n",
       "      <td>31.01.2010</td>\n",
       "      <td>2.631,64</td>\n",
       "      <td>2.763,88</td>\n",
       "      <td>2.842,61</td>\n",
       "      <td>2.631,64</td>\n",
       "      <td>642,07M</td>\n",
       "      <td>-5,23%</td>\n",
       "    </tr>\n",
       "    <tr>\n",
       "      <td>24.01.2010</td>\n",
       "      <td>2.776,83</td>\n",
       "      <td>2.825,15</td>\n",
       "      <td>2.845,15</td>\n",
       "      <td>2.737,33</td>\n",
       "      <td>506,43M</td>\n",
       "      <td>-2,11%</td>\n",
       "    </tr>\n",
       "    <tr>\n",
       "      <td>17.01.2010</td>\n",
       "      <td>2.836,80</td>\n",
       "      <td>2.949,94</td>\n",
       "      <td>2.990,50</td>\n",
       "      <td>2.806,51</td>\n",
       "      <td>458,00M</td>\n",
       "      <td>-3,52%</td>\n",
       "    </tr>\n",
       "    <tr>\n",
       "      <td>10.01.2010</td>\n",
       "      <td>2.940,25</td>\n",
       "      <td>3.030,42</td>\n",
       "      <td>3.044,37</td>\n",
       "      <td>2.939,04</td>\n",
       "      <td>371,40M</td>\n",
       "      <td>-2,57%</td>\n",
       "    </tr>\n",
       "    <tr>\n",
       "      <td>03.01.2010</td>\n",
       "      <td>3.017,85</td>\n",
       "      <td>2.974,86</td>\n",
       "      <td>3.025,60</td>\n",
       "      <td>2.974,86</td>\n",
       "      <td>322,81M</td>\n",
       "      <td>1,78%</td>\n",
       "    </tr>\n",
       "  </tbody>\n",
       "</table>\n",
       "<p>531 rows × 6 columns</p>\n",
       "</div>"
      ],
      "text/plain": [
       "              Ultimo  Apertura   Massimo    Minimo     Vol.   Var. %\n",
       "Data                                                                \n",
       "01.03.2020  3.232,07  3.355,33  3.448,24  3.216,44  394,04M   -2,93%\n",
       "23.02.2020  3.329,49  3.762,35  3.762,35  3.283,18  424,44M  -12,39%\n",
       "16.02.2020  3.800,38  3.843,10  3.867,28  3.776,82  207,41M   -1,06%\n",
       "09.02.2020  3.840,97  3.794,18  3.854,43  3.779,10  177,97M    1,12%\n",
       "02.02.2020  3.798,49  3.646,86  3.808,74  3.641,84  226,40M    4,33%\n",
       "...              ...       ...       ...       ...      ...      ...\n",
       "31.01.2010  2.631,64  2.763,88  2.842,61  2.631,64  642,07M   -5,23%\n",
       "24.01.2010  2.776,83  2.825,15  2.845,15  2.737,33  506,43M   -2,11%\n",
       "17.01.2010  2.836,80  2.949,94  2.990,50  2.806,51  458,00M   -3,52%\n",
       "10.01.2010  2.940,25  3.030,42  3.044,37  2.939,04  371,40M   -2,57%\n",
       "03.01.2010  3.017,85  2.974,86  3.025,60  2.974,86  322,81M    1,78%\n",
       "\n",
       "[531 rows x 6 columns]"
      ]
     },
     "execution_count": 149,
     "metadata": {},
     "output_type": "execute_result"
    }
   ],
   "source": [
    "test"
   ]
  },
  {
   "cell_type": "code",
   "execution_count": 150,
   "metadata": {},
   "outputs": [],
   "source": [
    "new_df= investingSeries(test,\"Ultimo\",\"2010-02-15\",\"2020-02-17\" ,True,'1w')\n"
   ]
  },
  {
   "cell_type": "code",
   "execution_count": 151,
   "metadata": {},
   "outputs": [
    {
     "data": {
      "text/plain": [
       "2010-02-28    0.053160\n",
       "2010-03-07    0.007244\n",
       "2010-03-14   -0.000141\n",
       "2010-03-21    0.014726\n",
       "2010-03-28    0.012691\n",
       "                ...   \n",
       "2020-01-19   -0.007671\n",
       "2020-01-26   -0.037268\n",
       "2020-02-02    0.042370\n",
       "2020-02-09    0.011121\n",
       "2020-02-16   -0.010624\n",
       "Name: Ultimo, Length: 521, dtype: float64"
      ]
     },
     "execution_count": 151,
     "metadata": {},
     "output_type": "execute_result"
    }
   ],
   "source": [
    "new_df"
   ]
  },
  {
   "cell_type": "markdown",
   "metadata": {},
   "source": [
    "**IT WORKS!** Let's now apply these results in order to make a proper risk analysis with notebook n ° 2."
   ]
  }
 ],
 "metadata": {
  "kernelspec": {
   "display_name": "Python 3",
   "language": "python",
   "name": "python3"
  },
  "language_info": {
   "codemirror_mode": {
    "name": "ipython",
    "version": 3
   },
   "file_extension": ".py",
   "mimetype": "text/x-python",
   "name": "python",
   "nbconvert_exporter": "python",
   "pygments_lexer": "ipython3",
   "version": "3.7.4"
  }
 },
 "nbformat": 4,
 "nbformat_minor": 2
}
